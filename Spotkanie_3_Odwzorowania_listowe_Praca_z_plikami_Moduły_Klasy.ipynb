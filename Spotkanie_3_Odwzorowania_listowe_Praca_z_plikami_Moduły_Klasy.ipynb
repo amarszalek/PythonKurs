{
 "cells": [
  {
   "cell_type": "markdown",
   "metadata": {},
   "source": [
    "### Odwzorowania listowe (List comprehension), czyli szybkie tworzenie list"
   ]
  },
  {
   "cell_type": "code",
   "execution_count": 1,
   "metadata": {
    "collapsed": false
   },
   "outputs": [
    {
     "name": "stdout",
     "output_type": "stream",
     "text": [
      "[0, 1, 4, 9, 16, 25, 36, 49, 64, 81, 100, 121, 144, 169, 196, 225, 256, 289, 324, 361, 400, 441, 484, 529, 576, 625, 676, 729, 784, 841, 900, 961, 1024, 1089, 1156, 1225, 1296, 1369, 1444, 1521, 1600, 1681, 1764, 1849, 1936, 2025, 2116, 2209, 2304, 2401, 2500, 2601, 2704, 2809, 2916, 3025, 3136, 3249, 3364, 3481, 3600, 3721, 3844, 3969, 4096, 4225, 4356, 4489, 4624, 4761, 4900, 5041, 5184, 5329, 5476, 5625, 5776, 5929, 6084, 6241, 6400, 6561, 6724, 6889, 7056, 7225, 7396, 7569, 7744, 7921, 8100, 8281, 8464, 8649, 8836, 9025, 9216, 9409, 9604, 9801]\n"
     ]
    }
   ],
   "source": [
    "#klasyczne tworzenie listy\n",
    "tab = []\n",
    "for i in range(100):\n",
    "    tab.append(i**2)\n",
    "print(tab)"
   ]
  },
  {
   "cell_type": "markdown",
   "metadata": {},
   "source": [
    "To samo możemy uzyskać w jednej linijce"
   ]
  },
  {
   "cell_type": "code",
   "execution_count": 2,
   "metadata": {
    "collapsed": false
   },
   "outputs": [
    {
     "name": "stdout",
     "output_type": "stream",
     "text": [
      "[0, 1, 4, 9, 16, 25, 36, 49, 64, 81, 100, 121, 144, 169, 196, 225, 256, 289, 324, 361, 400, 441, 484, 529, 576, 625, 676, 729, 784, 841, 900, 961, 1024, 1089, 1156, 1225, 1296, 1369, 1444, 1521, 1600, 1681, 1764, 1849, 1936, 2025, 2116, 2209, 2304, 2401, 2500, 2601, 2704, 2809, 2916, 3025, 3136, 3249, 3364, 3481, 3600, 3721, 3844, 3969, 4096, 4225, 4356, 4489, 4624, 4761, 4900, 5041, 5184, 5329, 5476, 5625, 5776, 5929, 6084, 6241, 6400, 6561, 6724, 6889, 7056, 7225, 7396, 7569, 7744, 7921, 8100, 8281, 8464, 8649, 8836, 9025, 9216, 9409, 9604, 9801]\n"
     ]
    }
   ],
   "source": [
    "tab2 = [i**2 for i in range(100)]\n",
    "print(tab2)"
   ]
  },
  {
   "cell_type": "markdown",
   "metadata": {},
   "source": [
    "Obiektem po którym iterujemu może być dowolny obiekt iterowalny np. lista, zbiór, słownik itp. Możemy również generowac w ten sposób listy wielowymiarowe"
   ]
  },
  {
   "cell_type": "code",
   "execution_count": 3,
   "metadata": {
    "collapsed": false
   },
   "outputs": [
    {
     "name": "stdout",
     "output_type": "stream",
     "text": [
      "[[1, 1], [1, 2], [1, 3], [1, 4], [1, 5], [2, 1], [2, 2], [2, 3], [2, 4], [2, 5], [3, 1], [3, 2], [3, 3], [3, 4], [3, 5], [4, 1], [4, 2], [4, 3], [4, 4], [4, 5], [5, 1], [5, 2], [5, 3], [5, 4], [5, 5]]\n"
     ]
    }
   ],
   "source": [
    "tab2d = [[i,j] for i in [1,2,3,4,5] for j in [1,2,3,4,5]]\n",
    "print(tab2d)"
   ]
  },
  {
   "cell_type": "markdown",
   "metadata": {},
   "source": [
    "Powyższa konstrukcja może zawierać również instrukcje warunkowe"
   ]
  },
  {
   "cell_type": "code",
   "execution_count": 4,
   "metadata": {
    "collapsed": false
   },
   "outputs": [
    {
     "name": "stdout",
     "output_type": "stream",
     "text": [
      "[0, 169, 676, 1521, 2704, 4225, 6084, 8281]\n"
     ]
    }
   ],
   "source": [
    "tab3 = [x for x in tab2 if x%13==0]  #tylko liczby podzielne przez 13 z listy tab2\n",
    "print(tab3)"
   ]
  },
  {
   "cell_type": "code",
   "execution_count": 5,
   "metadata": {
    "collapsed": false
   },
   "outputs": [
    {
     "name": "stdout",
     "output_type": "stream",
     "text": [
      "[0, 0, 0, 0, 0, 0, 0, 0, 0, 0, 0, 0, 0, 169, 0, 0, 0, 0, 0, 0, 0, 0, 0, 0, 0, 0, 676, 0, 0, 0, 0, 0, 0, 0, 0, 0, 0, 0, 0, 1521, 0, 0, 0, 0, 0, 0, 0, 0, 0, 0, 0, 0, 2704, 0, 0, 0, 0, 0, 0, 0, 0, 0, 0, 0, 0, 4225, 0, 0, 0, 0, 0, 0, 0, 0, 0, 0, 0, 0, 6084, 0, 0, 0, 0, 0, 0, 0, 0, 0, 0, 0, 0, 8281, 0, 0, 0, 0, 0, 0, 0, 0]\n"
     ]
    }
   ],
   "source": [
    "tab4 = [x if x%13==0 else 0 for x in tab2]  #liczby podzielne przez 13 zostaw bez zmian a pozostałe zastąp zerem\n",
    "print(tab4)"
   ]
  },
  {
   "cell_type": "markdown",
   "metadata": {
    "collapsed": true
   },
   "source": [
    "Analogicznie można tworzyć zbiory"
   ]
  },
  {
   "cell_type": "code",
   "execution_count": 6,
   "metadata": {
    "collapsed": false
   },
   "outputs": [
    {
     "name": "stdout",
     "output_type": "stream",
     "text": [
      "{0, 4225, 676, 6084, 169, 2704, 1521, 8281}\n"
     ]
    }
   ],
   "source": [
    "s = {x for x in tab3}\n",
    "print(s)"
   ]
  },
  {
   "cell_type": "markdown",
   "metadata": {},
   "source": [
    "### Metody `map`, `filter`, `reduce`\n",
    "Za pomocą metod `map` oraz `filter` można uzyskać to samo co wyżej, z tą różnicą że zwracany obiekt jest genearatorem, co w skrócie oznacza że elementy listy nie są odrazu wyliczane, a dopiero w momencie ich pobierania, ma to znaczenie w przypadku bardzo dużych list które zajmowałyby znaczną część pamięci."
   ]
  },
  {
   "cell_type": "code",
   "execution_count": 7,
   "metadata": {
    "collapsed": false
   },
   "outputs": [
    {
     "name": "stdout",
     "output_type": "stream",
     "text": [
      "[0, 1, 2, 3, 4, 5, 6, 7, 8, 9]\n",
      "16\n"
     ]
    }
   ],
   "source": [
    "tab = [x for x in range(10)]\n",
    "#przykładowa funkcja\n",
    "def kwadrat(x):\n",
    "    return x**2\n",
    "print(tab)\n",
    "print(kwadrat(4))"
   ]
  },
  {
   "cell_type": "code",
   "execution_count": 8,
   "metadata": {
    "collapsed": false
   },
   "outputs": [
    {
     "name": "stdout",
     "output_type": "stream",
     "text": [
      "<map object at 0x0000000004D59358>\n"
     ]
    }
   ],
   "source": [
    "ret = map(kwadrat, tab)  #dla każdego elementu listy tab wykonywana jest funkcja kwadrat\n",
    "print(ret) "
   ]
  },
  {
   "cell_type": "markdown",
   "metadata": {},
   "source": [
    "`ret` jest generatorem aby uzyskać dostęp do wyników funkcji kwadrat trzeba wykonać metodę `__next__()`. Uwaga: Gdy wyjdziemy poza zakres zostanie wyrzucony wyjątek `StopIteration`"
   ]
  },
  {
   "cell_type": "code",
   "execution_count": 9,
   "metadata": {
    "collapsed": false
   },
   "outputs": [
    {
     "name": "stdout",
     "output_type": "stream",
     "text": [
      "0\n",
      "1\n",
      "4\n",
      "9\n",
      "16\n",
      "25\n",
      "36\n",
      "49\n",
      "64\n",
      "81\n"
     ]
    },
    {
     "ename": "StopIteration",
     "evalue": "",
     "output_type": "error",
     "traceback": [
      "\u001b[0;31m---------------------------------------------------------------------------\u001b[0m",
      "\u001b[0;31mStopIteration\u001b[0m                             Traceback (most recent call last)",
      "\u001b[0;32m<ipython-input-9-2b90e44412b6>\u001b[0m in \u001b[0;36m<module>\u001b[0;34m()\u001b[0m\n\u001b[1;32m      9\u001b[0m \u001b[0mprint\u001b[0m\u001b[1;33m(\u001b[0m\u001b[0mret\u001b[0m\u001b[1;33m.\u001b[0m\u001b[0m__next__\u001b[0m\u001b[1;33m(\u001b[0m\u001b[1;33m)\u001b[0m\u001b[1;33m)\u001b[0m\u001b[1;33m\u001b[0m\u001b[0m\n\u001b[1;32m     10\u001b[0m \u001b[0mprint\u001b[0m\u001b[1;33m(\u001b[0m\u001b[0mret\u001b[0m\u001b[1;33m.\u001b[0m\u001b[0m__next__\u001b[0m\u001b[1;33m(\u001b[0m\u001b[1;33m)\u001b[0m\u001b[1;33m)\u001b[0m\u001b[1;33m\u001b[0m\u001b[0m\n\u001b[0;32m---> 11\u001b[0;31m \u001b[0mprint\u001b[0m\u001b[1;33m(\u001b[0m\u001b[0mret\u001b[0m\u001b[1;33m.\u001b[0m\u001b[0m__next__\u001b[0m\u001b[1;33m(\u001b[0m\u001b[1;33m)\u001b[0m\u001b[1;33m)\u001b[0m\u001b[1;33m\u001b[0m\u001b[0m\n\u001b[0m",
      "\u001b[0;31mStopIteration\u001b[0m: "
     ]
    }
   ],
   "source": [
    "print(ret.__next__())\n",
    "print(ret.__next__())\n",
    "print(ret.__next__())\n",
    "print(ret.__next__())\n",
    "print(ret.__next__())\n",
    "print(ret.__next__())\n",
    "print(ret.__next__())\n",
    "print(ret.__next__())\n",
    "print(ret.__next__())\n",
    "print(ret.__next__())\n",
    "print(ret.__next__())"
   ]
  },
  {
   "cell_type": "markdown",
   "metadata": {},
   "source": [
    "Po genearatorze możemy oczywiście iterować pętlą `for`, Pętla `for` potrafi przechwycić i obsłużyć wyjątek `StopIteration`"
   ]
  },
  {
   "cell_type": "code",
   "execution_count": 10,
   "metadata": {
    "collapsed": false
   },
   "outputs": [
    {
     "name": "stdout",
     "output_type": "stream",
     "text": [
      "0\n",
      "1\n",
      "4\n",
      "9\n",
      "16\n",
      "25\n",
      "36\n",
      "49\n",
      "64\n",
      "81\n"
     ]
    }
   ],
   "source": [
    "ret = map(kwadrat, tab)\n",
    "for x in ret:\n",
    "    print(x)"
   ]
  },
  {
   "cell_type": "markdown",
   "metadata": {},
   "source": [
    "Możemy również rzutować wynik na typ `list`"
   ]
  },
  {
   "cell_type": "code",
   "execution_count": 11,
   "metadata": {
    "collapsed": false
   },
   "outputs": [
    {
     "data": {
      "text/plain": [
       "[0, 1, 4, 9, 16, 25, 36, 49, 64, 81]"
      ]
     },
     "execution_count": 11,
     "metadata": {},
     "output_type": "execute_result"
    }
   ],
   "source": [
    "ret = map(kwadrat, tab)\n",
    "list(ret)"
   ]
  },
  {
   "cell_type": "markdown",
   "metadata": {},
   "source": [
    "Metoda `filter` pozwala z listy wybrać tylko elementy spełniające podany warunek, warunkiem może być dowolna funkcja zwracająca wartość logiczną `True`/`False`"
   ]
  },
  {
   "cell_type": "code",
   "execution_count": 12,
   "metadata": {
    "collapsed": false
   },
   "outputs": [
    {
     "name": "stdout",
     "output_type": "stream",
     "text": [
      "<filter object at 0x0000000004DD04A8>\n",
      "[0, 1, 2]\n"
     ]
    }
   ],
   "source": [
    "tab = [x for x in range(10)]\n",
    "ret2 = filter(lambda x: x<3, tab)  # z listy tab wybierz tylko elementy mniejsze niż 3\n",
    "print(ret2)\n",
    "print(list(ret2))"
   ]
  },
  {
   "cell_type": "markdown",
   "metadata": {},
   "source": [
    "Metoda 'reduce' pozwala elementy listy zredukować do jednej wartości za pomocą podanej funkcji"
   ]
  },
  {
   "cell_type": "code",
   "execution_count": 13,
   "metadata": {
    "collapsed": false
   },
   "outputs": [
    {
     "name": "stdout",
     "output_type": "stream",
     "text": [
      "[0, 1, 2, 3, 4, 5, 6, 7, 8, 9]\n",
      "45\n"
     ]
    }
   ],
   "source": [
    "from functools import reduce   #importujemy metodę reduce z modułu functools\n",
    "tab = [x for x in range(10)]\n",
    "ret3 = reduce(lambda x,y: x+y, tab)\n",
    "print(tab)\n",
    "print(ret3)"
   ]
  },
  {
   "cell_type": "markdown",
   "metadata": {
    "collapsed": false
   },
   "source": [
    "### Praca z plikami tekstowymi"
   ]
  },
  {
   "cell_type": "markdown",
   "metadata": {
    "collapsed": false
   },
   "source": [
    "Do pracy z plikami/folderami przydatny moze okazać sie moduł `os`. (https://docs.python.org/3/library/os.html)"
   ]
  },
  {
   "cell_type": "markdown",
   "metadata": {
    "collapsed": false
   },
   "source": [
    "Np. aby sprawdzić scieżkę do folderu w którym aktualnie pracujemy należy wykonać polecenie"
   ]
  },
  {
   "cell_type": "code",
   "execution_count": 14,
   "metadata": {
    "collapsed": false
   },
   "outputs": [
    {
     "data": {
      "text/plain": [
       "'C:\\\\Users\\\\AdamM\\\\Documents\\\\Python Scripts'"
      ]
     },
     "execution_count": 14,
     "metadata": {},
     "output_type": "execute_result"
    }
   ],
   "source": [
    "import os\n",
    "os.getcwd()"
   ]
  },
  {
   "cell_type": "markdown",
   "metadata": {
    "collapsed": false
   },
   "source": [
    "Otwieranie pliku tekstowego `open('sciezka\\nazwa_pliku','tryb')`\n",
    "\n",
    "Tryby otwierania pliku:\n",
    "\n",
    "`w` - do zapisu (jeżli plik istnieje to go nadpiszemy)\n",
    "\n",
    "`r` - do odczytu\n",
    "\n",
    "`a` - tryb dopisywania\n",
    "\n",
    "Do każdego trybu można dodać litere `b` co oznacza pracę w trybie binarnym\n"
   ]
  },
  {
   "cell_type": "code",
   "execution_count": 15,
   "metadata": {
    "collapsed": false
   },
   "outputs": [],
   "source": [
    "# otwarcie pliku do zapisu\n",
    "f = open('plik.txt','w')\n",
    "# zapisujemy w pliku 5 lini tekstu\n",
    "f.write('linia 1\\n')\n",
    "f.write('linia 2\\n')\n",
    "f.write('linia 3\\n')\n",
    "f.write('linia 4\\n')\n",
    "f.write('linia 5\\n')\n",
    "# zamykamy plik\n",
    "f.close()"
   ]
  },
  {
   "cell_type": "code",
   "execution_count": 16,
   "metadata": {
    "collapsed": false
   },
   "outputs": [
    {
     "name": "stdout",
     "output_type": "stream",
     "text": [
      "linia 1\n",
      "linia 2\n",
      "linia 3\n",
      "linia 4\n",
      "linia 5\n",
      "\n"
     ]
    }
   ],
   "source": [
    "# otwarcie pliku do odczytu\n",
    "f = open('plik.txt','r')\n",
    "# czytanie całego pliku\n",
    "tekst = f.read()\n",
    "# zamykamy plik\n",
    "f.close()\n",
    "print(tekst)"
   ]
  },
  {
   "cell_type": "code",
   "execution_count": 17,
   "metadata": {
    "collapsed": false
   },
   "outputs": [
    {
     "name": "stdout",
     "output_type": "stream",
     "text": [
      "linia 1\n",
      "\n",
      "linia 2\n",
      "\n",
      "linia 3\n",
      "\n",
      "linia 4\n",
      "\n",
      "linia 5\n",
      "\n",
      "\n",
      "\n"
     ]
    }
   ],
   "source": [
    "# otwarcie pliku do odczytu\n",
    "f = open('plik.txt','r')\n",
    "# czytanie linia po lini\n",
    "print(f.readline())\n",
    "print(f.readline())\n",
    "print(f.readline())\n",
    "print(f.readline())\n",
    "print(f.readline())\n",
    "print(f.readline())  # pusty string\n",
    "print(f.readline())  # pusty string\n",
    "# zamykamy plik\n",
    "f.close()"
   ]
  },
  {
   "cell_type": "code",
   "execution_count": 18,
   "metadata": {
    "collapsed": false
   },
   "outputs": [
    {
     "name": "stdout",
     "output_type": "stream",
     "text": [
      "linia 1\n",
      "\n",
      "linia 2\n",
      "\n",
      "linia 3\n",
      "\n",
      "linia 4\n",
      "\n",
      "linia 5\n",
      "\n"
     ]
    }
   ],
   "source": [
    "# otwarcie pliku do odczytu\n",
    "f = open('plik.txt','r')\n",
    "# czytanie linia po lini pętla for\n",
    "for line in f:\n",
    "    print(line)\n",
    "# zamykamy plik\n",
    "f.close()"
   ]
  },
  {
   "cell_type": "code",
   "execution_count": 19,
   "metadata": {
    "collapsed": false
   },
   "outputs": [
    {
     "name": "stdout",
     "output_type": "stream",
     "text": [
      "linia 1\n",
      "linia 2\n",
      "linia 3\n",
      "linia 4\n",
      "linia 5\n",
      "linia 6\n",
      "linia 7\n",
      "\n"
     ]
    }
   ],
   "source": [
    "# otwarcie pliku do edycji (dopisywanie)\n",
    "f = open('plik.txt','a')\n",
    "f.write('linia 6\\n')\n",
    "f.write('linia 7\\n')\n",
    "f.close()\n",
    "\n",
    "f = open('plik.txt','r')\n",
    "tekst = f.read()\n",
    "f.close()\n",
    "print(tekst)"
   ]
  },
  {
   "cell_type": "markdown",
   "metadata": {},
   "source": [
    "Aby nie musieć zawsze pamiętać o zamykaniu pliku możca użyć słowa kluczowego `with`, wówczas po wyjściu z bloku `with` plik automatycznie zostanie zamknięty"
   ]
  },
  {
   "cell_type": "code",
   "execution_count": 20,
   "metadata": {
    "collapsed": false
   },
   "outputs": [
    {
     "name": "stdout",
     "output_type": "stream",
     "text": [
      "linia 1\n",
      "linia 2\n",
      "linia 3\n",
      "linia 4\n",
      "linia 5\n",
      "linia 6\n",
      "linia 7\n",
      "\n"
     ]
    },
    {
     "ename": "ValueError",
     "evalue": "I/O operation on closed file.",
     "output_type": "error",
     "traceback": [
      "\u001b[0;31m---------------------------------------------------------------------------\u001b[0m",
      "\u001b[0;31mValueError\u001b[0m                                Traceback (most recent call last)",
      "\u001b[0;32m<ipython-input-20-8b33f5600072>\u001b[0m in \u001b[0;36m<module>\u001b[0;34m()\u001b[0m\n\u001b[1;32m      2\u001b[0m     \u001b[0mtekst\u001b[0m \u001b[1;33m=\u001b[0m \u001b[0mfile\u001b[0m\u001b[1;33m.\u001b[0m\u001b[0mread\u001b[0m\u001b[1;33m(\u001b[0m\u001b[1;33m)\u001b[0m\u001b[1;33m\u001b[0m\u001b[0m\n\u001b[1;32m      3\u001b[0m \u001b[0mprint\u001b[0m\u001b[1;33m(\u001b[0m\u001b[0mtekst\u001b[0m\u001b[1;33m)\u001b[0m\u001b[1;33m\u001b[0m\u001b[0m\n\u001b[0;32m----> 4\u001b[0;31m \u001b[0mfile\u001b[0m\u001b[1;33m.\u001b[0m\u001b[0mread\u001b[0m\u001b[1;33m(\u001b[0m\u001b[1;33m)\u001b[0m  \u001b[1;31m#error pliku już jest zamkniety\u001b[0m\u001b[1;33m\u001b[0m\u001b[0m\n\u001b[0m",
      "\u001b[0;31mValueError\u001b[0m: I/O operation on closed file."
     ]
    }
   ],
   "source": [
    "with open('plik.txt','r') as file:\n",
    "    tekst = file.read()\n",
    "print(tekst)\n",
    "file.read()  #error pliku już jest zamkniety "
   ]
  },
  {
   "cell_type": "markdown",
   "metadata": {
    "collapsed": false
   },
   "source": [
    "### Moduł `csv`, praca z plikami csv (https://docs.python.org/3/library/csv.html)"
   ]
  },
  {
   "cell_type": "code",
   "execution_count": 21,
   "metadata": {
    "collapsed": true
   },
   "outputs": [],
   "source": [
    "import csv  # import modulu csv"
   ]
  },
  {
   "cell_type": "code",
   "execution_count": 22,
   "metadata": {
    "collapsed": false
   },
   "outputs": [],
   "source": [
    "with open('plik.csv','w', newline='') as f:\n",
    "    csvwriter = csv.writer(f, delimiter=';')  #csv rozdzielany średnikiem, domyslnie przecinek\n",
    "    csvwriter.writerow(['row_1_col_1', 'row_1_col_2','row_1_col_3'])\n",
    "    csvwriter.writerow(['row_2_col_1', 'row_2_col_2','row_2_col_3'])\n",
    "    csvwriter.writerow(['row_3_col_1', 'row_3_col_2','row_3_col_3'])\n",
    "# dla zobaczenia efektu nalezy podgladnac plik.csv w folderze"
   ]
  },
  {
   "cell_type": "code",
   "execution_count": 23,
   "metadata": {
    "collapsed": false
   },
   "outputs": [
    {
     "name": "stdout",
     "output_type": "stream",
     "text": [
      "row_1_col_1\n",
      "row_1_col_2\n",
      "row_1_col_3\n",
      "row_2_col_1\n",
      "row_2_col_2\n",
      "row_2_col_3\n",
      "row_3_col_1\n",
      "row_3_col_2\n",
      "row_3_col_3\n"
     ]
    }
   ],
   "source": [
    "with open('plik.csv','r', newline='') as f:\n",
    "    csvreader = csv.reader(f, delimiter=';')  #csv rozdzielany średnikiem, domyslnie przecinek\n",
    "    for row in csvreader:\n",
    "        for col in row:\n",
    "            print(col)"
   ]
  },
  {
   "cell_type": "markdown",
   "metadata": {
    "collapsed": false
   },
   "source": [
    "### Moduły i skrypty\n",
    "Kolejną część ćwiczeń wykonamy używając średowiska programistycznego `PyCharm` w doarmowej wersji Community do pobrania z (https://www.jetbrains.com/pycharm/download/#section=windows), można użyć również `Spyder` dostępnego w dystrybucji Anaconda lub zwykłego notatnika :) "
   ]
  },
  {
   "cell_type": "markdown",
   "metadata": {
    "collapsed": false
   },
   "source": [
    "W wybranym środowisku tworzymy plik tekstowy z rozszerzeniem .py np. \"kurs.py\" o treści:\n",
    "```python\n",
    "def suma(a,b):\n",
    "    return a+b\n",
    "\n",
    "def roznica(a,b):\n",
    "    return a-b\n",
    "\n",
    "PI = 3.1415\n",
    "\n",
    "print(suma(3,5))\n",
    "```"
   ]
  },
  {
   "cell_type": "markdown",
   "metadata": {
    "collapsed": true
   },
   "source": [
    "Pliki z rozszerzeniem .py można używać na 2 sposoby.\n",
    "\n",
    "1. Jako skrypt (ala plik wykonywalny),\n",
    "2. Jako moduł (biblioteka) w innych projektach,\n",
    "W pierwszym przypadku w wierszu poleceń (Uruchom->cmd) lub w terminalu w PyCharm wpisujemy polecenie \n",
    "\n",
    "`python kurs.py`\n",
    "\n",
    "oczywiście należy być w folderze w którym jest plik kurs.py lub podać pełną scieżkę do nie\n",
    "\n",
    "Po wykonaniu polecenia na ekranie powinien pojawić się wynik 8. \n",
    "\n",
    "W drugim przypadku nasz plik importujemy tak jak wcześniej poznane modułu. Np. w innym pliku, w consoli IPython lub w notatniku"
   ]
  },
  {
   "cell_type": "code",
   "execution_count": 24,
   "metadata": {
    "collapsed": false
   },
   "outputs": [
    {
     "name": "stdout",
     "output_type": "stream",
     "text": [
      "8\n"
     ]
    }
   ],
   "source": [
    "import kurs  #nazwa pliku bez .py"
   ]
  },
  {
   "cell_type": "markdown",
   "metadata": {},
   "source": [
    "W tym przypadku plik również został wykonany, ale mamy też możliwość wykorzystania obiektów zdefiniowanych w naszym module"
   ]
  },
  {
   "cell_type": "code",
   "execution_count": 25,
   "metadata": {
    "collapsed": false
   },
   "outputs": [
    {
     "data": {
      "text/plain": [
       "5"
      ]
     },
     "execution_count": 25,
     "metadata": {},
     "output_type": "execute_result"
    }
   ],
   "source": [
    "kurs.suma(1,4)"
   ]
  },
  {
   "cell_type": "code",
   "execution_count": 26,
   "metadata": {
    "collapsed": false
   },
   "outputs": [
    {
     "data": {
      "text/plain": [
       "2.1415"
      ]
     },
     "execution_count": 26,
     "metadata": {},
     "output_type": "execute_result"
    }
   ],
   "source": [
    "kurs.roznica(kurs.PI,1)"
   ]
  },
  {
   "cell_type": "markdown",
   "metadata": {},
   "source": [
    "Aby podczas importowania nie wykonywała się linijka `print(suma(3,5))` powinna ona znaleźć się w bloku `if __name__==\"__main__\"`, zmodyfikuj plik `kurs.py` w poniższy sposób i sprawdz róźnicę w działaniu.\n",
    "```python\n",
    "def suma(a,b):\n",
    "    return a+b\n",
    "\n",
    "def roznica(a,b):\n",
    "    return a-b\n",
    "\n",
    "PI = 3.1415\n",
    "\n",
    "if __name__==\"__main__\":\n",
    "    print(suma(3,5))\n",
    "```\n",
    "\n",
    "W przypadku wykonywania pliku zmienna `__name__` przyjmuje wartość `\"__main__\"` a w przypadku importu nazwę modułu, dzięki temu z tego samego pliku możemy korzystać zarówno jak ze skryptu jak i modułu."
   ]
  },
  {
   "cell_type": "markdown",
   "metadata": {},
   "source": [
    "### Klasy czyli obiektowość w Python\n",
    "Klasy w Python definiuje się słowem kluczowym `class`. Stwórzmy nowy plik o nazwie `wektor.py` i treści jak poniżej\n",
    "\n",
    "```python\n",
    "class Wektor(object):  #nazwa klasy w nawiasach (klasy po których nasza klasa dziedziczy)\n",
    "    # metoda specjalna, inicjalizacja wykonywana przy tworzeniu obiektu (coś jak konstruktor)\n",
    "    # nie musi jej być\n",
    "    def __init__(self, lista=[]):\n",
    "        self.values = lista     #pola naszej klasy\n",
    "        self.dim = len(lista)   #słowo kluczowe self odnosi się do naszego obiektu (coś jak this w C++)\n",
    "\n",
    "    # metody klasy\n",
    "    def dl(self):  #dlugosc wektora\n",
    "        s=0\n",
    "        for x in self.values:\n",
    "            s+=x**2\n",
    "        return s**(1/2.0)\n",
    "\n",
    "    # inne metody specjalne\n",
    "    # dodawanie wektorów\n",
    "    def __add__(self, w):\n",
    "        res = [0 for i in self.values]\n",
    "        for i in range(self.dim):\n",
    "            res[i] = self.values[i] + w.values[i]\n",
    "        return Wektor(res)\n",
    "```"
   ]
  },
  {
   "cell_type": "code",
   "execution_count": 27,
   "metadata": {
    "collapsed": true
   },
   "outputs": [],
   "source": [
    "import wektor as w"
   ]
  },
  {
   "cell_type": "code",
   "execution_count": 28,
   "metadata": {
    "collapsed": false
   },
   "outputs": [],
   "source": [
    "# tworzymy obiekty klasy Wektor\n",
    "w1 = w.Wektor([1,2,3])\n",
    "w2 = w.Wektor([4,5,6])"
   ]
  },
  {
   "cell_type": "code",
   "execution_count": 29,
   "metadata": {
    "collapsed": false
   },
   "outputs": [
    {
     "data": {
      "text/plain": [
       "[1, 2, 3]"
      ]
     },
     "execution_count": 29,
     "metadata": {},
     "output_type": "execute_result"
    }
   ],
   "source": [
    "w1.values"
   ]
  },
  {
   "cell_type": "code",
   "execution_count": 30,
   "metadata": {
    "collapsed": false
   },
   "outputs": [
    {
     "data": {
      "text/plain": [
       "[4, 5, 6]"
      ]
     },
     "execution_count": 30,
     "metadata": {},
     "output_type": "execute_result"
    }
   ],
   "source": [
    "w2.values"
   ]
  },
  {
   "cell_type": "code",
   "execution_count": 31,
   "metadata": {
    "collapsed": false
   },
   "outputs": [
    {
     "data": {
      "text/plain": [
       "3"
      ]
     },
     "execution_count": 31,
     "metadata": {},
     "output_type": "execute_result"
    }
   ],
   "source": [
    "w1.dim"
   ]
  },
  {
   "cell_type": "code",
   "execution_count": 32,
   "metadata": {
    "collapsed": false
   },
   "outputs": [
    {
     "data": {
      "text/plain": [
       "3.7416573867739413"
      ]
     },
     "execution_count": 32,
     "metadata": {},
     "output_type": "execute_result"
    }
   ],
   "source": [
    "w1.dl()"
   ]
  },
  {
   "cell_type": "code",
   "execution_count": 33,
   "metadata": {
    "collapsed": true
   },
   "outputs": [],
   "source": [
    "w3 = w1+w2"
   ]
  },
  {
   "cell_type": "code",
   "execution_count": 34,
   "metadata": {
    "collapsed": false
   },
   "outputs": [
    {
     "data": {
      "text/plain": [
       "[5, 7, 9]"
      ]
     },
     "execution_count": 34,
     "metadata": {},
     "output_type": "execute_result"
    }
   ],
   "source": [
    "w3.values"
   ]
  },
  {
   "cell_type": "code",
   "execution_count": 35,
   "metadata": {
    "collapsed": false
   },
   "outputs": [
    {
     "data": {
      "text/plain": [
       "3"
      ]
     },
     "execution_count": 35,
     "metadata": {},
     "output_type": "execute_result"
    }
   ],
   "source": [
    "w3.dim"
   ]
  },
  {
   "cell_type": "code",
   "execution_count": 36,
   "metadata": {
    "collapsed": false
   },
   "outputs": [
    {
     "data": {
      "text/plain": [
       "12.449899597988733"
      ]
     },
     "execution_count": 36,
     "metadata": {},
     "output_type": "execute_result"
    }
   ],
   "source": [
    "w3.dl()"
   ]
  },
  {
   "cell_type": "code",
   "execution_count": 37,
   "metadata": {
    "collapsed": false
   },
   "outputs": [
    {
     "data": {
      "text/plain": [
       "True"
      ]
     },
     "execution_count": 37,
     "metadata": {},
     "output_type": "execute_result"
    }
   ],
   "source": [
    "isinstance(w3, w.Wektor)"
   ]
  },
  {
   "cell_type": "markdown",
   "metadata": {},
   "source": [
    "Metody zaczynające i kończące się __ to tzw. metody magiczne (specialne) (https://docs.python.org/3/reference/datamodel.html#special-method-names)\n",
    "\n",
    "W przykładzie klasy Wektor została wykorzystana metoda `__add__` do nadpisania operatora dodawania (+)"
   ]
  },
  {
   "cell_type": "markdown",
   "metadata": {},
   "source": [
    "#### Jako zadanie uzupełnić klasę Wektor o pozostałe operacje wektorowe, odejmowanie, mnożenie przez skalar, iloczyn skalarny itp."
   ]
  }
 ],
 "metadata": {
  "anaconda-cloud": {},
  "kernelspec": {
   "display_name": "Python [conda root]",
   "language": "python",
   "name": "conda-root-py"
  },
  "language_info": {
   "codemirror_mode": {
    "name": "ipython",
    "version": 3
   },
   "file_extension": ".py",
   "mimetype": "text/x-python",
   "name": "python",
   "nbconvert_exporter": "python",
   "pygments_lexer": "ipython3",
   "version": "3.5.2"
  }
 },
 "nbformat": 4,
 "nbformat_minor": 1
}
