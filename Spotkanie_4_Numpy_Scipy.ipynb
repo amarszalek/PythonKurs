{
 "cells": [
  {
   "cell_type": "markdown",
   "metadata": {},
   "source": [
    "### Numpy ( http://www.numpy.org/ )\n",
    "Numpy to podstawowa biblioteka do implementacji operacji i algorytmów numerycznych. \n",
    "\n",
    "Głównym obiektem biblioteki jest `numpy.ndarray` czyli tablica wielowymiarowa, za pomocą której można reprezentować wektory, macierze, tensory."
   ]
  },
  {
   "cell_type": "code",
   "execution_count": 1,
   "metadata": {
    "collapsed": true
   },
   "outputs": [],
   "source": [
    "# import modułu numpy\n",
    "import numpy as np"
   ]
  },
  {
   "cell_type": "markdown",
   "metadata": {},
   "source": [
    "Tworzenie obiektu numpy.ndarray"
   ]
  },
  {
   "cell_type": "code",
   "execution_count": 2,
   "metadata": {
    "collapsed": false
   },
   "outputs": [
    {
     "name": "stdout",
     "output_type": "stream",
     "text": [
      "a: [1 2 3 4]\n",
      "b: [ 1.3  2.5]\n",
      "c: [1 2]\n",
      "d: [ 1.+2.j  3.+1.j]\n",
      "e: [[1 2 4]\n",
      " [4 5 7]]\n"
     ]
    }
   ],
   "source": [
    "a = np.array([1,2,3,4])\n",
    "b = np.array([1.3, 2.5])\n",
    "c = np.array([1.3, 2.5], dtype=np.int) #rzutowanie na typ int\n",
    "d = np.array([1+2j, 3+1j])\n",
    "e = np.array([[1,2,4],[4,5,7]])\n",
    "print('a:', a)\n",
    "print('b:', b)\n",
    "print('c:', c)\n",
    "print('d:', d)\n",
    "print('e:', e)"
   ]
  },
  {
   "cell_type": "markdown",
   "metadata": {
    "collapsed": false
   },
   "source": [
    "Podstawowe atrybuty obiektu ndarray"
   ]
  },
  {
   "cell_type": "code",
   "execution_count": 3,
   "metadata": {
    "collapsed": false
   },
   "outputs": [
    {
     "name": "stdout",
     "output_type": "stream",
     "text": [
      "(4,)\n",
      "(2, 3)\n",
      "1\n",
      "2\n",
      "int32\n",
      "complex128\n",
      "2\n",
      "6\n"
     ]
    }
   ],
   "source": [
    "print(a.shape) #wyiary tablicy\n",
    "print(e.shape)\n",
    "print(b.ndim) #ilość wymiarów\n",
    "print(e.ndim)\n",
    "print(c.dtype) #typ danych\n",
    "print(d.dtype) \n",
    "print(d.size) #liczba elemetów\n",
    "print(e.size)"
   ]
  },
  {
   "cell_type": "markdown",
   "metadata": {
    "collapsed": false
   },
   "source": [
    "Do elementów obiektu ndarray odwołujemy się w taki sam sposób jak do elementów listy "
   ]
  },
  {
   "cell_type": "code",
   "execution_count": 4,
   "metadata": {
    "collapsed": false
   },
   "outputs": [
    {
     "name": "stdout",
     "output_type": "stream",
     "text": [
      "1\n",
      "[4 5 7]\n",
      "7\n",
      "[2 3]\n",
      "[2 5]\n",
      "[1 2 4]\n"
     ]
    }
   ],
   "source": [
    "print(a[0])\n",
    "print(e[1])\n",
    "print(e[1,2])\n",
    "print(a[1:3])\n",
    "print(e[:,1])\n",
    "print(e[0,:])"
   ]
  },
  {
   "cell_type": "markdown",
   "metadata": {},
   "source": [
    "Wybieranie elementów spełniających podany warunek"
   ]
  },
  {
   "cell_type": "code",
   "execution_count": 5,
   "metadata": {
    "collapsed": false
   },
   "outputs": [
    {
     "data": {
      "text/plain": [
       "array([3, 4])"
      ]
     },
     "execution_count": 5,
     "metadata": {},
     "output_type": "execute_result"
    }
   ],
   "source": [
    "a[a>2]"
   ]
  },
  {
   "cell_type": "markdown",
   "metadata": {},
   "source": [
    "Wybieranie elementów podajac ich indeksy"
   ]
  },
  {
   "cell_type": "code",
   "execution_count": 6,
   "metadata": {
    "collapsed": false
   },
   "outputs": [
    {
     "data": {
      "text/plain": [
       "array([1, 2, 1, 2])"
      ]
     },
     "execution_count": 6,
     "metadata": {},
     "output_type": "execute_result"
    }
   ],
   "source": [
    "a[[0,1,0,1]]"
   ]
  },
  {
   "cell_type": "markdown",
   "metadata": {
    "collapsed": false
   },
   "source": [
    "Przydatne wbudowane metody do tworzenia obiektów ndarray"
   ]
  },
  {
   "cell_type": "code",
   "execution_count": 7,
   "metadata": {
    "collapsed": false
   },
   "outputs": [
    {
     "data": {
      "text/plain": [
       "array([ 0.,  0.,  0.,  0.,  0.,  0.,  0.,  0.,  0.,  0.])"
      ]
     },
     "execution_count": 7,
     "metadata": {},
     "output_type": "execute_result"
    }
   ],
   "source": [
    "np.zeros(10)  "
   ]
  },
  {
   "cell_type": "code",
   "execution_count": 8,
   "metadata": {
    "collapsed": false
   },
   "outputs": [
    {
     "data": {
      "text/plain": [
       "array([[ 0.,  0.,  0.],\n",
       "       [ 0.,  0.,  0.]])"
      ]
     },
     "execution_count": 8,
     "metadata": {},
     "output_type": "execute_result"
    }
   ],
   "source": [
    "np.zeros((2,3))"
   ]
  },
  {
   "cell_type": "code",
   "execution_count": 9,
   "metadata": {
    "collapsed": false
   },
   "outputs": [
    {
     "data": {
      "text/plain": [
       "array([ 1.,  1.,  1.,  1.,  1.,  1.,  1.,  1.,  1.,  1.])"
      ]
     },
     "execution_count": 9,
     "metadata": {},
     "output_type": "execute_result"
    }
   ],
   "source": [
    "np.ones(10)"
   ]
  },
  {
   "cell_type": "code",
   "execution_count": 10,
   "metadata": {
    "collapsed": false
   },
   "outputs": [
    {
     "data": {
      "text/plain": [
       "array([[ 1.,  1.,  1.,  1.],\n",
       "       [ 1.,  1.,  1.,  1.],\n",
       "       [ 1.,  1.,  1.,  1.]])"
      ]
     },
     "execution_count": 10,
     "metadata": {},
     "output_type": "execute_result"
    }
   ],
   "source": [
    "np.ones((3,4))"
   ]
  },
  {
   "cell_type": "code",
   "execution_count": 11,
   "metadata": {
    "collapsed": false
   },
   "outputs": [
    {
     "data": {
      "text/plain": [
       "array([ 0.,  0.,  0.])"
      ]
     },
     "execution_count": 11,
     "metadata": {},
     "output_type": "execute_result"
    }
   ],
   "source": [
    "np.empty(3) #nie inicjalizuje wartośc wiec możemy dostać różne wyniki"
   ]
  },
  {
   "cell_type": "code",
   "execution_count": 12,
   "metadata": {
    "collapsed": false
   },
   "outputs": [
    {
     "data": {
      "text/plain": [
       "array([[  1.03753786e-321,   0.00000000e+000,   0.00000000e+000,\n",
       "          0.00000000e+000,   0.00000000e+000],\n",
       "       [  0.00000000e+000,   0.00000000e+000,   0.00000000e+000,\n",
       "          0.00000000e+000,   0.00000000e+000],\n",
       "       [  0.00000000e+000,   0.00000000e+000,   0.00000000e+000,\n",
       "          0.00000000e+000,   0.00000000e+000]])"
      ]
     },
     "execution_count": 12,
     "metadata": {},
     "output_type": "execute_result"
    }
   ],
   "source": [
    "np.empty((3,5)) #nie inicjalizuje wartośc wiec możemy dostać różne wyniki"
   ]
  },
  {
   "cell_type": "code",
   "execution_count": 13,
   "metadata": {
    "collapsed": false
   },
   "outputs": [
    {
     "data": {
      "text/plain": [
       "array([0, 1, 2, 3, 4])"
      ]
     },
     "execution_count": 13,
     "metadata": {},
     "output_type": "execute_result"
    }
   ],
   "source": [
    "np.arange(5)"
   ]
  },
  {
   "cell_type": "code",
   "execution_count": 14,
   "metadata": {
    "collapsed": false
   },
   "outputs": [
    {
     "data": {
      "text/plain": [
       "array([ 3,  4,  5,  6,  7,  8,  9, 10, 11, 12, 13, 14])"
      ]
     },
     "execution_count": 14,
     "metadata": {},
     "output_type": "execute_result"
    }
   ],
   "source": [
    "np.arange(3,15)"
   ]
  },
  {
   "cell_type": "code",
   "execution_count": 15,
   "metadata": {
    "collapsed": false
   },
   "outputs": [
    {
     "data": {
      "text/plain": [
       "array([  3. ,   3.9,   4.8,   5.7,   6.6,   7.5,   8.4,   9.3,  10.2,\n",
       "        11.1,  12. ,  12.9,  13.8,  14.7])"
      ]
     },
     "execution_count": 15,
     "metadata": {},
     "output_type": "execute_result"
    }
   ],
   "source": [
    "np.arange(3,15,0.9)"
   ]
  },
  {
   "cell_type": "code",
   "execution_count": 16,
   "metadata": {
    "collapsed": false
   },
   "outputs": [
    {
     "data": {
      "text/plain": [
       "array([ 0.        ,  0.11111111,  0.22222222,  0.33333333,  0.44444444,\n",
       "        0.55555556,  0.66666667,  0.77777778,  0.88888889,  1.        ])"
      ]
     },
     "execution_count": 16,
     "metadata": {},
     "output_type": "execute_result"
    }
   ],
   "source": [
    "np.linspace(0,1,10)  # 10 równorozlożonych punktów od 0 do 1"
   ]
  },
  {
   "cell_type": "markdown",
   "metadata": {},
   "source": [
    "Wszystkie operacje arytmetyczne wykonywane są puktowo, a wiec wymiary muszą sie zgadzać "
   ]
  },
  {
   "cell_type": "code",
   "execution_count": 17,
   "metadata": {
    "collapsed": false
   },
   "outputs": [
    {
     "name": "stdout",
     "output_type": "stream",
     "text": [
      "a: [1 2 3 4] b: [ 1.  1.  1.  1.]\n",
      "a+b: [ 2.  3.  4.  5.]\n",
      "a-b: [ 0.  1.  2.  3.]\n",
      "a*b: [ 1.  2.  3.  4.]\n",
      "a/(2*b): [ 0.5  1.   1.5  2. ]\n",
      "a**2: [ 1  4  9 16]\n",
      "a**(b/2): [ 1.          1.41421356  1.73205081  2.        ]\n"
     ]
    }
   ],
   "source": [
    "a = np.array([1,2,3,4])\n",
    "b = np.ones(4)\n",
    "print('a:',a,'b:',b)\n",
    "print('a+b:',a+b)\n",
    "print('a-b:',a-b)\n",
    "print('a*b:',a*b)\n",
    "print('a/(2*b):',a/(2*b))\n",
    "print('a**2:',a**2)\n",
    "print('a**(b/2):',a**(b/2))"
   ]
  },
  {
   "cell_type": "markdown",
   "metadata": {},
   "source": [
    "W module numpy wbudowane są również podstawowe funkcje, które jako argument przyjmują obiekt ndarray"
   ]
  },
  {
   "cell_type": "code",
   "execution_count": 18,
   "metadata": {
    "collapsed": false
   },
   "outputs": [
    {
     "name": "stdout",
     "output_type": "stream",
     "text": [
      "sin(a): [ 0.84147098  0.90929743  0.14112001 -0.7568025 ]\n",
      "log(a): [ 0.          0.69314718  1.09861229  1.38629436]\n"
     ]
    }
   ],
   "source": [
    "print('sin(a):', np.sin(a))\n",
    "print('log(a):', np.log(a))"
   ]
  },
  {
   "cell_type": "markdown",
   "metadata": {},
   "source": [
    "Inne przydatne metody"
   ]
  },
  {
   "cell_type": "code",
   "execution_count": 19,
   "metadata": {
    "collapsed": false
   },
   "outputs": [
    {
     "name": "stdout",
     "output_type": "stream",
     "text": [
      "a: [ 1.   1.5  2.   2.5  3.   3.5  4.   4.5]\n",
      "suma elementów: 22.0\n",
      "iloczyn elementów: 1417.5\n",
      "cumsum: [  1.    2.5   4.5   7.   10.   13.5  17.5  22. ]\n",
      "max: 4.5\n",
      "argmax: 7\n"
     ]
    }
   ],
   "source": [
    "a = np.arange(1,5,0.5)\n",
    "print('a:',a)\n",
    "print('suma elementów:', np.sum(a))\n",
    "print('iloczyn elementów:', np.prod(a))\n",
    "print('cumsum:', np.cumsum(a))\n",
    "print('max:', np.max(a)) #analogiczie minimum\n",
    "print('argmax:', np.argmax(a))"
   ]
  },
  {
   "cell_type": "markdown",
   "metadata": {},
   "source": [
    "W przypadku wiekszej liczby wymiarów możemy wykonywać operacje takie jak np. sum, max, min itp według zadanego wymiaru"
   ]
  },
  {
   "cell_type": "code",
   "execution_count": 20,
   "metadata": {
    "collapsed": false
   },
   "outputs": [
    {
     "name": "stdout",
     "output_type": "stream",
     "text": [
      "m: [[1 2 3]\n",
      " [4 5 6]\n",
      " [7 8 9]]\n",
      "suma: 45\n",
      "suma w wierszach: [ 6 15 24]\n",
      "suma w kolumach: [12 15 18]\n"
     ]
    }
   ],
   "source": [
    "m = np.array([[1,2,3],[4,5,6],[7,8,9]])\n",
    "print('m:',m)\n",
    "print('suma:',np.sum(m))\n",
    "print('suma w wierszach:',np.sum(m, axis=1))\n",
    "print('suma w kolumach:',np.sum(m, axis=0))"
   ]
  },
  {
   "cell_type": "markdown",
   "metadata": {},
   "source": [
    "Zmiana wymiarów"
   ]
  },
  {
   "cell_type": "code",
   "execution_count": 21,
   "metadata": {
    "collapsed": false
   },
   "outputs": [
    {
     "name": "stdout",
     "output_type": "stream",
     "text": [
      "[ 1.  1.  1.  1.  1.  1.  1.  1.  1.  1.  1.  1.  1.  1.  1.]\n",
      "[[ 1.  1.  1.  1.  1.]\n",
      " [ 1.  1.  1.  1.  1.]\n",
      " [ 1.  1.  1.  1.  1.]]\n"
     ]
    }
   ],
   "source": [
    "a = np.ones(15)\n",
    "print(a)\n",
    "print(a.reshape(3,5))"
   ]
  },
  {
   "cell_type": "markdown",
   "metadata": {},
   "source": [
    "Algebra liniowa"
   ]
  },
  {
   "cell_type": "code",
   "execution_count": 22,
   "metadata": {
    "collapsed": false
   },
   "outputs": [
    {
     "name": "stdout",
     "output_type": "stream",
     "text": [
      "wektor v: [1 1]\n",
      "macierz m: [[1 2]\n",
      " [3 4]]\n",
      "transpozycja wektora: [1 1]\n",
      "transpozycja macierzy: [[1 3]\n",
      " [2 4]]\n",
      "wektor razy wektor: 2\n",
      "macierz razy wektor: [3 7]\n",
      "wektor razy macierz: [4 6]\n"
     ]
    }
   ],
   "source": [
    "v = np.array([1,1])\n",
    "m = np.array([[1,2],[3,4]])\n",
    "print('wektor v:',v)\n",
    "print('macierz m:',m)\n",
    "print('transpozycja wektora:',v.T) #nic nie zmienia\n",
    "print('transpozycja macierzy:',m.T)\n",
    "print('wektor razy wektor:', np.dot(v,v)) #iloczyn skalarny\n",
    "print('macierz razy wektor:', np.dot(m,v))\n",
    "print('wektor razy macierz:', np.dot(v,m))"
   ]
  },
  {
   "cell_type": "markdown",
   "metadata": {},
   "source": [
    "Ponieważ transpozycja tablicy jednowymiarowaj nic nie zmienia mnożenie macierzy przez wektor nie zawsze zadziała poprawnie.\n",
    "\n",
    "Aby oberacje były zgodne z rachunkiem macierzowym wektor powinnien być zdefiniowany jako macierz o jednym wierszu/kolumnie\n",
    "\n",
    "Można także zamiast `np.array` uzyć `np.matrix`"
   ]
  },
  {
   "cell_type": "code",
   "execution_count": 23,
   "metadata": {
    "collapsed": false
   },
   "outputs": [
    {
     "name": "stdout",
     "output_type": "stream",
     "text": [
      "wektor v: [[1 1]]\n",
      "macierz m: [[1 2]\n",
      " [3 4]]\n",
      "transpozycja wektora: [[1]\n",
      " [1]]\n",
      "transpozycja macierzy: [[1 3]\n",
      " [2 4]]\n",
      "wektor razy wektor: [[2]]\n",
      "macierz razy wektor: [[3]\n",
      " [7]]\n",
      "wektor razy macierz: [[4 6]]\n"
     ]
    }
   ],
   "source": [
    "v = np.array([[1,1]])\n",
    "m = np.array([[1,2],[3,4]])\n",
    "print('wektor v:',v)\n",
    "print('macierz m:',m)\n",
    "print('transpozycja wektora:',v.T) #nic nie zmienia\n",
    "print('transpozycja macierzy:',m.T)\n",
    "print('wektor razy wektor:', np.dot(v,v.T)) #mocierz o jednym elemencie\n",
    "print('macierz razy wektor:', np.dot(m,v.T)) #wektor kolunowy\n",
    "print('wektor razy macierz:', np.dot(v,m))"
   ]
  },
  {
   "cell_type": "code",
   "execution_count": 24,
   "metadata": {
    "collapsed": false
   },
   "outputs": [
    {
     "data": {
      "text/plain": [
       "matrix([[1, 2, 3]])"
      ]
     },
     "execution_count": 24,
     "metadata": {},
     "output_type": "execute_result"
    }
   ],
   "source": [
    "np.matrix([1,2,3])"
   ]
  },
  {
   "cell_type": "code",
   "execution_count": 25,
   "metadata": {
    "collapsed": false
   },
   "outputs": [
    {
     "data": {
      "text/plain": [
       "matrix([[1, 2],\n",
       "        [3, 4]])"
      ]
     },
     "execution_count": 25,
     "metadata": {},
     "output_type": "execute_result"
    }
   ],
   "source": [
    "np.matrix([[1,2],[3,4]])"
   ]
  },
  {
   "cell_type": "markdown",
   "metadata": {},
   "source": [
    "Wyznacznik i macierz odwrotna (np.linalg)"
   ]
  },
  {
   "cell_type": "code",
   "execution_count": 26,
   "metadata": {
    "collapsed": false
   },
   "outputs": [
    {
     "name": "stdout",
     "output_type": "stream",
     "text": [
      "macierz m: [[1 2]\n",
      " [3 4]]\n",
      "det(m): -2.0\n",
      "m^(-1): [[-2.   1. ]\n",
      " [ 1.5 -0.5]]\n",
      "m*m^(-1): [[  1.00000000e+00   1.11022302e-16]\n",
      " [  0.00000000e+00   1.00000000e+00]]\n"
     ]
    }
   ],
   "source": [
    "m = np.matrix([[1,2],[3,4]])\n",
    "print('macierz m:',m)\n",
    "print('det(m):', np.linalg.det(m))\n",
    "print('m^(-1):', np.linalg.inv(m))\n",
    "print('m*m^(-1):', np.dot(m,np.linalg.inv(m)))"
   ]
  },
  {
   "cell_type": "markdown",
   "metadata": {
    "collapsed": false
   },
   "source": [
    "### Scipy ( http://www.scipy.org )\n",
    "Scipy to zbudowany na bazie numpy moduł zawierający podstawowe algorytmy numeryczne służące m.in do całkowania, optymalizacji, interpolacji itp."
   ]
  },
  {
   "cell_type": "markdown",
   "metadata": {
    "collapsed": false
   },
   "source": [
    "Całkowaie numeryczne"
   ]
  },
  {
   "cell_type": "code",
   "execution_count": 27,
   "metadata": {
    "collapsed": false
   },
   "outputs": [
    {
     "name": "stdout",
     "output_type": "stream",
     "text": [
      "quad: (0.33333333333333337, 3.700743415417189e-15)\n",
      "trapz: 0.333333500334\n"
     ]
    }
   ],
   "source": [
    "from scipy.integrate import quad, trapz\n",
    "\n",
    "def func(x):\n",
    "    return x**2\n",
    "\n",
    "# całka z x^2 na przedziale [0,1] \n",
    "# metoda kwadratury gaussa\n",
    "c1 = quad(func, 0, 1) # zwaraca wartość całki i oszacowany błąd\n",
    "print('quad:',c1) \n",
    "\n",
    "# metoda trapezów\n",
    "x = np.linspace(0, 1,1000)\n",
    "y = func(x)\n",
    "c2 = trapz(y, x) # zwaraca wartość całki\n",
    "print('trapz:',c2) \n"
   ]
  },
  {
   "cell_type": "markdown",
   "metadata": {
    "collapsed": false
   },
   "source": [
    "Optymalizacja"
   ]
  },
  {
   "cell_type": "code",
   "execution_count": 28,
   "metadata": {
    "collapsed": false
   },
   "outputs": [
    {
     "name": "stdout",
     "output_type": "stream",
     "text": [
      "Optimization terminated successfully.\n",
      "         Current function value: 0.000000\n",
      "         Iterations: 74\n",
      "         Function evaluations: 139\n",
      "punkt minimum: [  3.40984822e-09  -1.93620944e-09]\n",
      "wartośc minimum: 1.53759718626e-17\n"
     ]
    }
   ],
   "source": [
    "from scipy.optimize import minimize\n",
    "\n",
    "def func(x):\n",
    "    return np.sum(x**2)  #suma kwadratów\n",
    "\n",
    "# punkt startowy\n",
    "x0 = [10, 10.]\n",
    "# minimalizacj metodą nelder-mead, dostępnych wiele innych\n",
    "res = minimize(func, x0, method='nelder-mead', options={'xtol': 1e-8, 'disp': True})\n",
    "print('punkt minimum:', res.x)\n",
    "print('wartośc minimum:', res.fun)"
   ]
  },
  {
   "cell_type": "markdown",
   "metadata": {
    "collapsed": false
   },
   "source": [
    "Interpolacja"
   ]
  },
  {
   "cell_type": "code",
   "execution_count": 29,
   "metadata": {
    "collapsed": false
   },
   "outputs": [
    {
     "name": "stdout",
     "output_type": "stream",
     "text": [
      "(x,y): [(0.0, 0.0), (0.66666666666666663, 0.61836980306973699), (1.3333333333333333, 0.97193790136331271), (2.0, 0.90929742682568171), (2.6666666666666665, 0.45727262663581197), (3.333333333333333, -0.19056796287548494), (4.0, -0.7568024953079282), (4.6666666666666661, -0.99895491709792827), (5.333333333333333, -0.81332939156758), (6.0, -0.27941549819892586)]\n",
      "w_coef: [ -2.30789723e-06   6.51635883e-05  -6.22164834e-04   1.68627888e-03\n",
      "   4.01850111e-03   7.07819057e-03  -1.73781196e-01   3.92314156e-03\n",
      "   9.99113180e-01   0.00000000e+00]\n"
     ]
    }
   ],
   "source": [
    "from scipy.interpolate import lagrange\n",
    "\n",
    "# punkty interpolacji\n",
    "x = np.linspace(0.0,6.0,10)\n",
    "y = np.sin(x)\n",
    "print('(x,y):',list(zip(x,y)))  #zip łączy elementy tabic w pary\n",
    "\n",
    "# wielomian interpolacyjny lagrangea, stopien taki ja ilosc punktów\n",
    "w = lagrange(x, y)\n",
    "print('w_coef:', w.coef)"
   ]
  },
  {
   "cell_type": "markdown",
   "metadata": {},
   "source": [
    "Wynik interpolacji na wykresie"
   ]
  },
  {
   "cell_type": "code",
   "execution_count": 30,
   "metadata": {
    "collapsed": false
   },
   "outputs": [
    {
     "data": {
      "image/png": "[encoded data removed]",
      "text/plain": [
       "<matplotlib.figure.Figure at 0x88a6cf8>"
      ]
     },
     "metadata": {},
     "output_type": "display_data"
    }
   ],
   "source": [
    "import matplotlib.pyplot as plt\n",
    "plt.figure()\n",
    "plt.plot(x, y, 'o')\n",
    "x2 = np.linspace(0.0,6.0,1000)\n",
    "y2 = w(x2)\n",
    "plt.plot(x2,y2, 'r')\n",
    "plt.show()"
   ]
  },
  {
   "cell_type": "markdown",
   "metadata": {},
   "source": [
    "_Na zajęciech wykorzystaliśmy moduł pylab do rysowania wykresów, matplotlib jest bardziej rozbudowany, więcej na jego temat na innych zajęciach._\n"
   ]
  },
  {
   "cell_type": "markdown",
   "metadata": {},
   "source": [
    "#### Przedstawione tutaj przykłady to tylko bardzo niewielki przykład możliwości modułów numpy i scipy, zachęcam do poczytania (przeglądnięcia) dokumentacji"
   ]
  },
  {
   "cell_type": "code",
   "execution_count": null,
   "metadata": {
    "collapsed": true
   },
   "outputs": [],
   "source": []
  }
 ],
 "metadata": {
  "anaconda-cloud": {},
  "kernelspec": {
   "display_name": "Python [conda root]",
   "language": "python",
   "name": "conda-root-py"
  },
  "language_info": {
   "codemirror_mode": {
    "name": "ipython",
    "version": 3
   },
   "file_extension": ".py",
   "mimetype": "text/x-python",
   "name": "python",
   "nbconvert_exporter": "python",
   "pygments_lexer": "ipython3",
   "version": "3.5.2"
  }
 },
 "nbformat": 4,
 "nbformat_minor": 1
}
