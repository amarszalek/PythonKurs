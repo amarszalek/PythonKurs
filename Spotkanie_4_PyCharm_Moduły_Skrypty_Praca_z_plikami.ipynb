{
 "cells": [
  {
   "cell_type": "markdown",
   "metadata": {},
   "source": [
    "## \"Skrypty\"\n",
    "\n",
    "Dowolny, poprawnie działający kod pisany np. w tym Notebook-u możemy zapisać w zewnętrznym pliku tekstowym. Plik tekstowy z rozszerzeniem `.py` zawierający kod w języku `Python` można potraktować na dwa sposoby: jako skrypt (program) lub moduł (jak np. moduł `math`).\n",
    "\n",
    "Zgodnie z konwencją, skrypty języka `Python` mają nazwy zakończone rozszerzeniem `.py`. Aby wykonać plik `test.py` należy w terminalu (konsoli, Anaconda Prompt) wykonać polecenie:\n",
    "```\n",
    "python test.py\n",
    "```\n",
    "__Uwaga:__ Należy być w folderze w którym jest plik `test.py` lub podać pełną ścieżkę do pliku. Jeżeli system nie wykrywa komendy `python` to trzeba podać również całą ścieżkę do interpretatora pythona:\n",
    "```\n",
    "sciezka\\do\\python.exe sciezka\\do\\test.py\n",
    "```\n",
    "W Pycharm możena wykonać plik wybierając z menu polecenie `Run`."
   ]
  },
  {
   "cell_type": "markdown",
   "metadata": {},
   "source": [
    "Utwórz plik `test1.py` a w nim wpisz następujący kod:\n",
    "```python\n",
    "import math\n",
    "\n",
    "def pole(a,b):\n",
    "    return a*b\n",
    "\n",
    "PI = math.pi\n",
    "\n",
    "print(pole(3,5))\n",
    "print(PI)\n",
    "```\n",
    "a następnie wykonaj plik (w konsoli lub w Pycharm'ie). W notatniku również można uruchamiać polecenia wykonywane w konsoli, służy do tego znak `!`."
   ]
  },
  {
   "cell_type": "code",
   "execution_count": 1,
   "metadata": {},
   "outputs": [
    {
     "name": "stdout",
     "output_type": "stream",
     "text": [
      "15\n",
      "3.141592653589793\n"
     ]
    }
   ],
   "source": [
    "!python test1.py"
   ]
  },
  {
   "cell_type": "markdown",
   "metadata": {},
   "source": [
    "Jak widać powyżej po wykonaniu polenienia, plik został linijaka po linijce zinterpretowany przez interpreter pythona."
   ]
  },
  {
   "cell_type": "markdown",
   "metadata": {},
   "source": [
    "## Moduły\n",
    "\n",
    "- Moduł jest plikiem zawierajacym instrukcje języka Python.\n",
    "- Moduł importujemy używając słowa kluczowego `import`: \n",
    "```python \n",
    "import nazwa_modułu\n",
    "```\n",
    "- Nazwa modułu jest nazwą pliku pozbawioną rozszerzenia `.py`.\n",
    "- Nazwa modułu dostepna jest w module jako wartość zmiennej globalnej `__name__`.\n",
    "- Jeżeli w module zdefiniowano funkcje o nazwie `f`, to aby jej użyć trzeba zastosować konstrukcje `nazwa_modulu.f()`.\n",
    "- Moduł może zawierać instrukcje wykonywalne obok definicji funkcji. Instrukcje te mają na celu inicjalizacje modułu. Wykonywane są tylko w chwili importowania modułu po raz pierwszy.\n",
    "- Każdy z modułów posiada swoją prywatną tablicę symboli, która używana jest przez wszystkie funkcje zdefiniowane w module jako globalna tablica symboli.\n",
    "- Moduły mogą importować inne moduły.\n",
    "\n",
    "Inne warianty instrukcji `import`: \n",
    "- importuje nazwy z modułu wprost do tablicy symboli,\n",
    "```python \n",
    "from nazwa_modulu import f\n",
    "```\n",
    "- importuje wszystkie nazwy z modułu z wyjątkiem tych, które zaczynają się od znaku _,\n",
    "```python \n",
    "from nazwa_modulu import *\n",
    "```\n",
    "- można nadawać własne aliasy do importowanych modułów.\n",
    "```python \n",
    "import nazwa_modulu as nowa_nazwa\n",
    "```"
   ]
  },
  {
   "cell_type": "code",
   "execution_count": 2,
   "metadata": {},
   "outputs": [
    {
     "name": "stdout",
     "output_type": "stream",
     "text": [
      "15\n",
      "3.141592653589793\n"
     ]
    }
   ],
   "source": [
    "# wczytanie modułu test1.py\n",
    "import test1"
   ]
  },
  {
   "cell_type": "markdown",
   "metadata": {},
   "source": [
    "Moduł został wczytany i mamy dostęp do wszystkich elementów w nim zdefiniowanych."
   ]
  },
  {
   "cell_type": "code",
   "execution_count": 3,
   "metadata": {},
   "outputs": [
    {
     "data": {
      "text/plain": [
       "3.141592653589793"
      ]
     },
     "execution_count": 3,
     "metadata": {},
     "output_type": "execute_result"
    }
   ],
   "source": [
    "test1.PI"
   ]
  },
  {
   "cell_type": "code",
   "execution_count": 4,
   "metadata": {},
   "outputs": [
    {
     "data": {
      "text/plain": [
       "12"
      ]
     },
     "execution_count": 4,
     "metadata": {},
     "output_type": "execute_result"
    }
   ],
   "source": [
    "test1.pole(3,4)"
   ]
  },
  {
   "cell_type": "code",
   "execution_count": 5,
   "metadata": {},
   "outputs": [
    {
     "data": {
      "text/plain": [
       "'test1'"
      ]
     },
     "execution_count": 5,
     "metadata": {},
     "output_type": "execute_result"
    }
   ],
   "source": [
    "test1.__name__"
   ]
  },
  {
   "cell_type": "markdown",
   "metadata": {},
   "source": [
    "### Funkcja `main` w Pythonie\n",
    "Zwróć uwagę, że przy imporcie modułu `test1`, wszystkie istrukcje zawarte w module zostały wykonane co spowodowało wyświetlnie wyników funkcji `print`. Aby tego uniknąć należy unikać wywoływania funkcji które coś wyświetlają lub zdefiniować w pliku coś na kształt funkcji `main`.\n",
    "\n",
    "Każdy moduł definuje zmienną `__name__` - nazwę modułu. Na najwyższym poziomie interpretera znajduje się moduł `__main__`.\n",
    "W przypadku wykonywania pliku zmienna `__name__` przyjmuje wartość `__main__` , a w przypadku importu `nazwe_modułu`, dzięki\n",
    "temu z tego samego pliku możemy korzystać jak ze skryptu oraz jak z modułu.\n",
    "\n",
    "Jeżeli chcemy, aby program zmienił swoje działanie w zależności od tego czy został zaimportowany, czy też wykonuje się w module `__main__` możemy użyć następującego sposobu:\n",
    "\n",
    "```python\n",
    "if _name_ == '__main__':\n",
    "    #Tak - kod został uruchomiony jako program\n",
    "    blok_instrukcji program\n",
    "else:\n",
    "    #Nie - plik został zaimportowany jako moduł\n",
    "    blok_instrukcji moduł\n",
    "```\n",
    "\n",
    "#### Przykład:\n",
    "Zmień zawartość pliku `test1.py` w następujący sposób:\n",
    "```python\n",
    "import math\n",
    "\n",
    "def pole(a,b):\n",
    "    return a*b\n",
    "\n",
    "PI = math.pi\n",
    "\n",
    "if __name__ == '__main__':\n",
    "    print('Skrypt uruchomiony, nazwa: ',__name__)\n",
    "    print(pole(3,5))\n",
    "    print(PI)\n",
    "else:\n",
    "    print('Moduł zaimportowany, nazwa: ', __name__)\n",
    "```"
   ]
  },
  {
   "cell_type": "code",
   "execution_count": 6,
   "metadata": {},
   "outputs": [
    {
     "name": "stdout",
     "output_type": "stream",
     "text": [
      "Skrypt uruchomiony, nazwa:  __main__\n",
      "15\n",
      "3.141592653589793\n"
     ]
    }
   ],
   "source": [
    "!python test1.py"
   ]
  },
  {
   "cell_type": "code",
   "execution_count": 1,
   "metadata": {},
   "outputs": [
    {
     "name": "stdout",
     "output_type": "stream",
     "text": [
      "Moduł zaimportowany, nazwa:  test1\n"
     ]
    }
   ],
   "source": [
    "# należy wcześniej zrestartować kernel\n",
    "import test1"
   ]
  },
  {
   "cell_type": "markdown",
   "metadata": {},
   "source": [
    "## Praca z plikami tekstowymi.\n",
    "Do pracy z plikami/folderami przydatny może okazać sie moduł `os`. (https://docs.python.org/3/library/os.html)\n",
    "\n",
    "Np. aby sprawdzić scieżkę do folderu w którym aktualnie pracujemy należy wykonać polecenie."
   ]
  },
  {
   "cell_type": "code",
   "execution_count": 2,
   "metadata": {},
   "outputs": [
    {
     "data": {
      "text/plain": [
       "'C:\\\\Users\\\\AdamM\\\\Desktop\\\\Pliki\\\\Politechnika\\\\PythonKurs'"
      ]
     },
     "execution_count": 2,
     "metadata": {},
     "output_type": "execute_result"
    }
   ],
   "source": [
    "import os\n",
    "os.getcwd()"
   ]
  },
  {
   "cell_type": "markdown",
   "metadata": {},
   "source": [
    "### Otwieranie i zamykanie pliku tekstowego:\n",
    "\n",
    "Składnia polecenia do otwierania pliku:\n",
    "```python \n",
    "f = open('sciezka\\nazwa_pliku','tryb')\n",
    "```\n",
    "Funkcja `open()` zwraca deskryptor pliku.\n",
    "\n",
    "Tryby otwierania pliku:\n",
    "- `r` – tylko do odczytu (plik musi istniec)\n",
    "- `w` – tylko do zapisu (plik nie musi istnieć, natomiast istniejący plik o podanej nazwie zostanie nadpisany)\n",
    "- `a` – tylko do dopisywania (dowolna dana zapisana do pliku będzie dodana na jego koniec)\n",
    "- `r+` – zarówno do czytania jak i do pisania.\n",
    "- `x` - tylko utworzenie pliku, jesli istnieje to wyrzuci błąd.\n",
    "\n",
    "Argument tryb jest opcjonalny: w przypadku jego braku plik zostanie otwarty w trybie `r`.\n",
    "Do każdego trybu można dodać literę `b` co oznacza pracę w trybie binarnym (np. czytanie plików JPEG).\n",
    "\n",
    "Zamykanie pliku:\n",
    "```python \n",
    "f.close()\n",
    "```\n",
    "Funkcja ta zamyka plik oraz zwalnia wszystkie zasoby systemowe związane z otwarciem i obsługą tego pliku."
   ]
  },
  {
   "cell_type": "code",
   "execution_count": 3,
   "metadata": {},
   "outputs": [
    {
     "name": "stdout",
     "output_type": "stream",
     "text": [
      "<class '_io.TextIOWrapper'>\n"
     ]
    }
   ],
   "source": [
    "# otwarcie pliku do zapisu\n",
    "f = open('plik.txt', 'w')  # plik otwarty w bieżącym katalogu\n",
    "print(type(f))\n",
    "# zamykamy plik\n",
    "f.close()"
   ]
  },
  {
   "cell_type": "markdown",
   "metadata": {},
   "source": [
    "### Podstawowe metody obiektu `file`\n",
    "- `closed` - atrybut przechowujący wartość logiczną `True` jeśli plik jest zamknięty, `False` w przeciwnym razie.\n",
    "- `readable()` - Zwraca `True` jesli możliwe jest czytanie z pliku, w przeciwnym razie `False`.\n",
    "- `writable()` - Zwraca `True` jesli możliwe jest pisanie do pliku, w przeciwnym razie `False`.\n",
    "- `write(s)` - Zapisuje zawartość napisu `s` do pliku. Zwraca liczbe znaków zapisanych do pliku.\n",
    "- `writelines(ss)` - Zapisuje zawartość listy `ss` do pliku.\n",
    "- `read()` – Zwraca napis, którego zawartością jest zawartość pliku.\n",
    "- `readline()` – Zwraca napis, którego zawartością jest pojedynczy wiersz przeczytany z pliku. Po przeczytaniu wszystkich wierszy pliku kolejne wywołanie zwraca pusty napis.\n",
    "- `readlines()` – Zwraca liste napisów, którymi są kolejne wiersze pliku, od pierwszego do ostatniego."
   ]
  },
  {
   "cell_type": "code",
   "execution_count": 4,
   "metadata": {},
   "outputs": [],
   "source": [
    "# otwarcie pliku do zapisu\n",
    "f = open('plik.txt','w')\n",
    "# zapisujemy w pliku 5 lini tekstu\n",
    "f.write('linia 1\\n')\n",
    "f.write('linia 2\\n')\n",
    "f.write('linia 3\\n')\n",
    "f.write('linia 4\\n')\n",
    "f.write('linia 5\\n')\n",
    "# zapisujemy w pliku zawartość listy\n",
    "f.writelines(['linia 6\\n', 'linia 7\\n', 'linia 8\\n'])\n",
    "# zamykamy plik\n",
    "f.close()"
   ]
  },
  {
   "cell_type": "code",
   "execution_count": 5,
   "metadata": {},
   "outputs": [
    {
     "name": "stdout",
     "output_type": "stream",
     "text": [
      "linia 1\n",
      "linia 2\n",
      "linia 3\n",
      "linia 4\n",
      "linia 5\n",
      "linia 6\n",
      "linia 7\n",
      "linia 8\n",
      "\n"
     ]
    }
   ],
   "source": [
    "# otwarcie pliku do odczytu\n",
    "f = open('plik.txt','r')\n",
    "# czytanie całego pliku\n",
    "tekst = f.read()\n",
    "# zamykamy plik\n",
    "f.close()\n",
    "print(tekst)"
   ]
  },
  {
   "cell_type": "code",
   "execution_count": 6,
   "metadata": {},
   "outputs": [
    {
     "name": "stdout",
     "output_type": "stream",
     "text": [
      "linia 1\n",
      "\n",
      "linia 2\n",
      "\n",
      "linia 3\n",
      "\n",
      "linia 4\n",
      "\n",
      "linia 5\n",
      "\n",
      "linia 6\n",
      "\n",
      "linia 7\n",
      "\n",
      "linia 8\n",
      "\n",
      "\n",
      "\n"
     ]
    }
   ],
   "source": [
    "# otwarcie pliku do odczytu\n",
    "f = open('plik.txt','r')\n",
    "# czytanie linia po lini\n",
    "print(f.readline())  # linia 1\n",
    "print(f.readline())  # linia 2\n",
    "print(f.readline())  # linia 3\n",
    "print(f.readline())  # linia 4\n",
    "print(f.readline())  # linia 5\n",
    "print(f.readline())  # linia 6\n",
    "print(f.readline())  # linia 7\n",
    "print(f.readline())  # linia 8\n",
    "print(f.readline())  # pusty string\n",
    "print(f.readline())  # pusty string\n",
    "# zamykamy plik\n",
    "f.close()"
   ]
  },
  {
   "cell_type": "code",
   "execution_count": 7,
   "metadata": {},
   "outputs": [
    {
     "name": "stdout",
     "output_type": "stream",
     "text": [
      "linia 1\n",
      "\n",
      "linia 2\n",
      "\n",
      "linia 3\n",
      "\n",
      "linia 4\n",
      "\n",
      "linia 5\n",
      "\n",
      "linia 6\n",
      "\n",
      "linia 7\n",
      "\n",
      "linia 8\n",
      "\n"
     ]
    }
   ],
   "source": [
    "# otwarcie pliku do odczytu\n",
    "f = open('plik.txt','r')\n",
    "# czytanie i wypisywanie linia po linii pętla for\n",
    "for line in f:\n",
    "    text = line\n",
    "    print(text)\n",
    "# zamykamy plik\n",
    "f.close()"
   ]
  },
  {
   "cell_type": "code",
   "execution_count": 8,
   "metadata": {},
   "outputs": [
    {
     "name": "stdout",
     "output_type": "stream",
     "text": [
      "False\n",
      "True\n",
      "['linia 1\\n', 'linia 2\\n', 'linia 3\\n', 'linia 4\\n', 'linia 5\\n', 'linia 6\\n', 'linia 7\\n', 'linia 8\\n']\n"
     ]
    }
   ],
   "source": [
    "# otwarcie pliku do odczytu\n",
    "f = open('plik.txt','r')\n",
    "print(f.writable())  # sprawdzenie czy plik otwarty do zapisu\n",
    "print(f.readable())  # sprawdzenie czy plik otwarty do odczytu\n",
    "# czytanie całego pliku - lista napisów\n",
    "print(f.readlines())\n",
    "# zamykamy plik\n",
    "f.close()"
   ]
  },
  {
   "cell_type": "code",
   "execution_count": 9,
   "metadata": {},
   "outputs": [
    {
     "name": "stdout",
     "output_type": "stream",
     "text": [
      "linia 1\n",
      "linia 2\n",
      "linia 3\n",
      "linia 4\n",
      "linia 5\n",
      "linia 6\n",
      "linia 7\n",
      "linia 8\n",
      "linia 9\n",
      "linia 10\n",
      "\n"
     ]
    }
   ],
   "source": [
    "# otwarcie pliku do edycji (dopisywanie)\n",
    "f = open('plik.txt','a')\n",
    "f.write('linia 9\\n')\n",
    "f.write('linia 10\\n')\n",
    "f.close()\n",
    "\n",
    "# odczytanie pliku\n",
    "f = open('plik.txt','r')\n",
    "tekst = f.read()\n",
    "f.close()\n",
    "print(tekst)"
   ]
  },
  {
   "cell_type": "markdown",
   "metadata": {},
   "source": [
    "### Klauzula `with ... as`\n",
    "Aby nie musieć zawsze pamiętać o zamykaniu pliku można użyć klauzuli `with ... as`, wówczas po wyjściu z bloku `with` plik automatycznie zostanie zamknięty. Pamiętaj o wcięciach!."
   ]
  },
  {
   "cell_type": "code",
   "execution_count": 10,
   "metadata": {},
   "outputs": [
    {
     "name": "stdout",
     "output_type": "stream",
     "text": [
      "linia 1\n",
      "linia 2\n",
      "linia 3\n",
      "linia 4\n",
      "linia 5\n",
      "linia 6\n",
      "linia 7\n",
      "linia 8\n",
      "linia 9\n",
      "linia 10\n",
      "\n"
     ]
    },
    {
     "ename": "ValueError",
     "evalue": "I/O operation on closed file.",
     "output_type": "error",
     "traceback": [
      "\u001b[1;31m---------------------------------------------------------------------------\u001b[0m",
      "\u001b[1;31mValueError\u001b[0m                                Traceback (most recent call last)",
      "\u001b[1;32m<ipython-input-10-139f3d10c1df>\u001b[0m in \u001b[0;36m<module>\u001b[1;34m\u001b[0m\n\u001b[0;32m      2\u001b[0m     \u001b[0mtekst\u001b[0m \u001b[1;33m=\u001b[0m \u001b[0mf\u001b[0m\u001b[1;33m.\u001b[0m\u001b[0mread\u001b[0m\u001b[1;33m(\u001b[0m\u001b[1;33m)\u001b[0m\u001b[1;33m\u001b[0m\u001b[0m\n\u001b[0;32m      3\u001b[0m \u001b[0mprint\u001b[0m\u001b[1;33m(\u001b[0m\u001b[0mtekst\u001b[0m\u001b[1;33m)\u001b[0m\u001b[1;33m\u001b[0m\u001b[0m\n\u001b[1;32m----> 4\u001b[1;33m \u001b[0mf\u001b[0m\u001b[1;33m.\u001b[0m\u001b[0mread\u001b[0m\u001b[1;33m(\u001b[0m\u001b[1;33m)\u001b[0m  \u001b[1;31m#error - plik już jest zamkniety\u001b[0m\u001b[1;33m\u001b[0m\u001b[0m\n\u001b[0m",
      "\u001b[1;31mValueError\u001b[0m: I/O operation on closed file."
     ]
    }
   ],
   "source": [
    "with open('plik.txt','r') as f:\n",
    "    tekst = f.read()\n",
    "print(tekst)\n",
    "f.read()  #error - plik już jest zamkniety "
   ]
  },
  {
   "cell_type": "markdown",
   "metadata": {},
   "source": [
    "#### Do osbługi plików `.csv` może użyć moduły `csv` (https://docs.python.org/3/library/csv.html) lub bardziej rozbudowanego pakietu `pandas` o którym powiemy więcej później."
   ]
  },
  {
   "cell_type": "code",
   "execution_count": null,
   "metadata": {},
   "outputs": [],
   "source": []
  }
 ],
 "metadata": {
  "kernelspec": {
   "display_name": "Python 3",
   "language": "python",
   "name": "python3"
  },
  "language_info": {
   "codemirror_mode": {
    "name": "ipython",
    "version": 3
   },
   "file_extension": ".py",
   "mimetype": "text/x-python",
   "name": "python",
   "nbconvert_exporter": "python",
   "pygments_lexer": "ipython3",
   "version": "3.6.6"
  }
 },
 "nbformat": 4,
 "nbformat_minor": 2
}
