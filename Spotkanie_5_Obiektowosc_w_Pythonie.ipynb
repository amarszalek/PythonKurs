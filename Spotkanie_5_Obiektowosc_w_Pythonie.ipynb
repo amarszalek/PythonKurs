{
 "cells": [
  {
   "cell_type": "markdown",
   "metadata": {},
   "source": [
    "## Klasy.\n",
    "\n",
    "- Do definicji klasy służy słowo kluczowe `class`.\n",
    "- W Pythonie każda klasa dziedziczy po klasie `object`.\n",
    "- Atrybut klasy to zmienna zdefiniowana wewnątrz klasy.\n",
    "- Metoda klasy to funkcja zdefiniowana wewnątrz klasy.\n",
    "- Pierwszy argument każdej metody `self` jest referencją do obiektu, na rzecz którego ta metoda została wywołana.\n",
    "- W Pythonie przyjęto konwencje `self` ale może to być dowolna nazwa, np. `this` jak w C++.\n",
    "- Podczas wywołania metody obiektu nie wymieniamy na liście argumentów formalnych argumentu `self`. Jest on automatycznie przekazywany przez Pythona do metody.\n",
    "- Kiedy wprowadza sie definicje klasy do programu, tworzona jest nowa przestrzeń nazw (zasieg lokalny - wszystkie przypisania do zmiennych lokalnych dotyczą nazw z tej właśnie przestrzeni).\n",
    "\n",
    "### Definicja klasy "
   ]
  },
  {
   "cell_type": "code",
   "execution_count": 1,
   "metadata": {},
   "outputs": [],
   "source": [
    "class VektorND:  # lub / class VektorND(object): / class VektorND(): /\n",
    "    x = [1.0, 2.0]  # atrybut/składowa klasy, współrzędne wektora\n",
    "    dim = 2   # atrybut/składowa klasy, wymiar wektora\n",
    "    \n",
    "    def get_x(self):  # metoda klasy - zwraca wartość zmiennej x\n",
    "        return self.x\n",
    "    \n",
    "    def set_x(self, val): # metoda klasy - ustawia wartość zmiennej x\n",
    "        self.x = val\n",
    "        \n",
    "    # podobne metody można dopisać dla dim\n",
    "    \n",
    "    def disp(self):  # metoda klasy - wypisuje wartość składowych x, dim\n",
    "        print('obiekt VektorND')\n",
    "        print('wartość x = ',self.x) \n",
    "        print('wartość dim = ',self.dim) "
   ]
  },
  {
   "cell_type": "markdown",
   "metadata": {},
   "source": [
    "### Odniesienie do atrybutu klasy\n",
    "\n",
    "Odniesienie do atrybutu klasy odbywa się poprzez standardową konstrukcję:\n",
    "\n",
    "`obiekt.nazwa`\n",
    "\n",
    "Prawidłowymi nazwami atrybutów są nazwy, które istniały w przestrzeni nazw klasy w czasie tworzenia jej obiektu."
   ]
  },
  {
   "cell_type": "code",
   "execution_count": 2,
   "metadata": {},
   "outputs": [
    {
     "data": {
      "text/plain": [
       "[1.0, 2.0]"
      ]
     },
     "execution_count": 2,
     "metadata": {},
     "output_type": "execute_result"
    }
   ],
   "source": [
    "VektorND.x  # odwołanie do składowej x klasy VektorND"
   ]
  },
  {
   "cell_type": "code",
   "execution_count": 3,
   "metadata": {},
   "outputs": [
    {
     "data": {
      "text/plain": [
       "<function __main__.VektorND.get_x(self)>"
      ]
     },
     "execution_count": 3,
     "metadata": {},
     "output_type": "execute_result"
    }
   ],
   "source": [
    "VektorND.get_x  # odwołanie do metody get_x klasy VektorND"
   ]
  },
  {
   "cell_type": "markdown",
   "metadata": {},
   "source": [
    "### Utworzenie nowego obiektu klasy `VektorND` (konkretyzacja klasy).\n",
    "Konkretyzację klasy przeprowadza się używając notacji wywołania funkcji. Należy tylko udać, że obiekt klasy jest bezparametrową funkcją, która zwraca instancję (konkret) klasy.\n",
    "\n",
    "Usunięcie obiektu, słowo kluczowe: `del`."
   ]
  },
  {
   "cell_type": "code",
   "execution_count": 4,
   "metadata": {},
   "outputs": [
    {
     "name": "stdout",
     "output_type": "stream",
     "text": [
      "2074147933656 2074147933544\n"
     ]
    }
   ],
   "source": [
    "a = VektorND()  # nowa instancja klasy VektorND\n",
    "b = VektorND()  # nowa instancja klasy VektorND\n",
    "print(id(a), id(b))"
   ]
  },
  {
   "cell_type": "code",
   "execution_count": 5,
   "metadata": {},
   "outputs": [
    {
     "name": "stdout",
     "output_type": "stream",
     "text": [
      "[1.0, 2.0]\n",
      "obiekt VektorND\n",
      "wartość x =  [1.0, 2.0]\n",
      "wartość dim =  2\n",
      "[1.0, 2.0]\n",
      "obiekt VektorND\n",
      "wartość x =  [10, 20]\n",
      "wartość dim =  2\n"
     ]
    },
    {
     "data": {
      "text/plain": [
       "[10, 20]"
      ]
     },
     "execution_count": 5,
     "metadata": {},
     "output_type": "execute_result"
    }
   ],
   "source": [
    "a = VektorND()\n",
    "print(a.x)  # odwołanie do składowej i obiektu a klasy VektorND\n",
    "a.disp()  # odwołanie do metody disp() obiektu a klasy VektorND\n",
    "print(a.get_x())  # odwołanie do metody get_x() obiektu a klasy VektorND\n",
    "a.set_x([10,20])  # odwołanie do metody set_x() obiektu a klasy VektorND\n",
    "a.disp()\n",
    "\n",
    "VektorND.get_x(a)  # odwołanie do metody get_x() klasy VektorND dla obiektu a"
   ]
  },
  {
   "cell_type": "markdown",
   "metadata": {},
   "source": [
    "### Metody wbudowane i atrybuty specjalne\n",
    "Nazwy metod specjalnych zawsze rozpoczynają się i kończą dwoma znakami podkreślenia, np.:\n",
    "```python\n",
    "__init__()\n",
    "```\n",
    "Python używa metod specjalnych w następujących przypadkach:\n",
    "- tworzenie i usuwanie egzemplarza;\n",
    "- tworzenie reprezentacji łancuchowych egzemplarza;\n",
    "- definiowanie wartości prawdziwości egzemplarza;\n",
    "- porównywanie egzemplarzy;\n",
    "- dostęp do atrybutów egzemplarza;\n",
    "- traktowanie egzemplarzy jak sekwencji i słowników;\n",
    "- wykonywanie operacji matematycznych na egzemplarzach\n",
    "\n",
    "Lista metod specjalnych patrz link: https://docs.python.org/3/reference/datamodel.html#special-method-names, lub: https://pl.python.org/docs/ref/node15.html\n",
    "\n",
    "Wybrane specjalne atrybuty, metody do użycia:\n",
    "- `__doc__` atrybut zawierający tzw.łańcuch dokumentacyjny. Jeżeli nie zostanie podany wartość atrybutu wynosi `None`.\n",
    "- `__dict__` atrybut zawierający nazwy i wartości zdefiniowanych zmiennych\n",
    "- `__init__()` inicjalizacja stanu początkowego\n",
    "- `__repr__()` „oficjalna” reprezentacja obiektu, powinna być jednoznaczna; wywołana przez `repr(obiekt)`; konwertuje obiekt klasy do stringa \n",
    "- `__str__()` „nieformalna” reprezentacja obiektu, powinna być czytelna; wywołana przez `str(obiekt)` lub `print`; konwertuje obiekt klasy do stringa\n",
    "- `help()` informacja o obiekcie"
   ]
  },
  {
   "cell_type": "markdown",
   "metadata": {},
   "source": [
    "### Inicjalizacja stanu początkowego\n",
    "- Służy do tego wbudowana metoda `__init__()`.\n",
    "- Stosujemy jeżeli dla klasy występuje konieczność utworzenia obiektu z pewnym znanym, początkowym stanem. \n",
    "- W momencie konkretyzacji klasy, automatycznie wywołana zostanie metoda `__init__()` dla nowopowstałego konkretu klasy. (działa prawie jak konstruktor, ale wywoływana po utworzeniu instancji.)\n",
    "- Zmienne instancji definiujemy w metodzie `__init__()`.\n",
    "- Nazwy i wartości zdefiniowanych zmiennych obiektu znajdują się w atrybucie wbudowanym `__dict__` ."
   ]
  },
  {
   "cell_type": "code",
   "execution_count": 6,
   "metadata": {},
   "outputs": [],
   "source": [
    "class VektorND:\n",
    "    def __init__(self, x):  # metoda klasy - ustawia wartości początkowe\n",
    "        self.x = x  # atrybut/składowa instancji klasy \n",
    "        self.dim = len(x)  # atrybut/składowa instancji klasy\n",
    "    \n",
    "    def get_x(self):  # metoda klasy - zwraca wartość zmiennej x\n",
    "        return self.x\n",
    "    \n",
    "    def set_x(self, val): # metoda klasy - ustawia wartość zmiennej x\n",
    "        self.x = val\n",
    "        self.dim = len(val)\n",
    "    \n",
    "    def disp(self):  # metoda klasy - wypisuje wartość składowych x, dim\n",
    "        print('obiekt VektorND')\n",
    "        print('wartość x = ',self.x) \n",
    "        print('wartość dim = ',self.dim) "
   ]
  },
  {
   "cell_type": "code",
   "execution_count": 7,
   "metadata": {},
   "outputs": [
    {
     "name": "stdout",
     "output_type": "stream",
     "text": [
      "obiekt VektorND\n",
      "wartość x =  [1, 2]\n",
      "wartość dim =  2\n",
      "obiekt VektorND\n",
      "wartość x =  [3, 4, 5]\n",
      "wartość dim =  3\n",
      "{'x': [1, 2], 'dim': 2}\n",
      "{'x': [3, 4, 5], 'dim': 3}\n"
     ]
    }
   ],
   "source": [
    "a = VektorND([1,2])\n",
    "b = VektorND([3,4,5])\n",
    "a.disp()  # odwołanie do metody disp() obiektu a klasy VektorND\n",
    "b.disp()  # odwołanie do metody disp() obiektu b klasy VektorND\n",
    "print(a.__dict__)  # nazwy i wartości zmienych w obiekcie a\n",
    "print(b.__dict__)  # nazwy i wartości zmienych w obiekcie b"
   ]
  },
  {
   "cell_type": "markdown",
   "metadata": {},
   "source": [
    "W Pythonie można dodawać nowe atrybuty do istniejących obiektów.\n",
    "__Uwaga__: Jest to niezalecane!"
   ]
  },
  {
   "cell_type": "code",
   "execution_count": 8,
   "metadata": {},
   "outputs": [
    {
     "name": "stdout",
     "output_type": "stream",
     "text": [
      "obiekt VektorND\n",
      "wartość x =  [1, 2]\n",
      "wartość dim =  2\n",
      "{'x': [1, 2], 'dim': 2}\n",
      "{'x': [1, 2], 'dim': 2, 'm': 99}\n"
     ]
    }
   ],
   "source": [
    "a = VektorND([1,2])\n",
    "a.disp()\n",
    "print(a.__dict__)\n",
    "a.m = 99\n",
    "print(a.__dict__)"
   ]
  },
  {
   "cell_type": "markdown",
   "metadata": {},
   "source": [
    "### Dokumentacja klasy (funkcji)\n",
    "- Na początku definicji klasy możemy umieścić wiersz dokumentacyjny.\n",
    "- Wiersz dokumentacyjny może być stosowany również w funkcjach. \n",
    "- Łancuch dokumentacyjny jest przypisywany jako wartość atrybutu `__doc__` . \n",
    "- Jeżeli nie zostanie podany łancuch dokumentacyjny to wartością atrybutu `__doc__` jest `None`."
   ]
  },
  {
   "cell_type": "code",
   "execution_count": 9,
   "metadata": {},
   "outputs": [],
   "source": [
    "class VektorND:\n",
    "    \"\"\"Nasza przykładowa klasa\"\"\"\n",
    "    def __init__(self, x):  # metoda klasy - ustawia wartości początkowe\n",
    "        self.x = x  # atrybut/składowa instancji klasy \n",
    "        self.dim = len(x)  # atrybut/składowa instancji klasy\n",
    "    \n",
    "    def get_x(self):  # metoda klasy - zwraca wartość zmiennej x\n",
    "        \"\"\"Metoda naszej klasy zwracająca wartość składowej x\"\"\"\n",
    "        return self.x\n",
    "    \n",
    "    def set_x(self, val): # metoda klasy - ustawia wartość zmiennej x\n",
    "        \"\"\"Metoda naszej klasy ustawiająca nową wartość składowej x\"\"\"\n",
    "        self.x = val\n",
    "        self.dim = len(val)\n",
    "    \n",
    "    def disp(self):  # metoda klasy - wypisuje wartość składowych x, dim\n",
    "        \"\"\"Metoda naszej klasy wypisująca wartości składowych x,dim\"\"\"\n",
    "        print('obiekt VektorND')\n",
    "        print('wartość x = ',self.x) \n",
    "        print('wartość dim = ',self.dim) "
   ]
  },
  {
   "cell_type": "code",
   "execution_count": 10,
   "metadata": {},
   "outputs": [
    {
     "data": {
      "text/plain": [
       "'Nasza przykładowa klasa'"
      ]
     },
     "execution_count": 10,
     "metadata": {},
     "output_type": "execute_result"
    }
   ],
   "source": [
    "a = VektorND([1,2])\n",
    "a.__doc__  # wiersz dokumentacyjny dla instancji a klasy VektorND"
   ]
  },
  {
   "cell_type": "code",
   "execution_count": 11,
   "metadata": {},
   "outputs": [
    {
     "data": {
      "text/plain": [
       "'Metoda naszej klasy zwracająca wartość składowej x'"
      ]
     },
     "execution_count": 11,
     "metadata": {},
     "output_type": "execute_result"
    }
   ],
   "source": [
    "a.get_x.__doc__  # wiersz dokumentacyjny dla metody get_x() w instancji a klasy VektorND"
   ]
  },
  {
   "cell_type": "code",
   "execution_count": 12,
   "metadata": {},
   "outputs": [
    {
     "name": "stdout",
     "output_type": "stream",
     "text": [
      "Help on VektorND in module __main__ object:\n",
      "\n",
      "class VektorND(builtins.object)\n",
      " |  Nasza przykładowa klasa\n",
      " |  \n",
      " |  Methods defined here:\n",
      " |  \n",
      " |  __init__(self, x)\n",
      " |      Initialize self.  See help(type(self)) for accurate signature.\n",
      " |  \n",
      " |  disp(self)\n",
      " |      Metoda naszej klasy wypisująca wartości składowych x,dim\n",
      " |  \n",
      " |  get_x(self)\n",
      " |      Metoda naszej klasy zwracająca wartość składowej x\n",
      " |  \n",
      " |  set_x(self, val)\n",
      " |      Metoda naszej klasy ustawiająca nową wartość składowej x\n",
      " |  \n",
      " |  ----------------------------------------------------------------------\n",
      " |  Data descriptors defined here:\n",
      " |  \n",
      " |  __dict__\n",
      " |      dictionary for instance variables (if defined)\n",
      " |  \n",
      " |  __weakref__\n",
      " |      list of weak references to the object (if defined)\n",
      "\n"
     ]
    }
   ],
   "source": [
    "help(a)  # wyświetlenie informacji o obiekcie"
   ]
  },
  {
   "cell_type": "markdown",
   "metadata": {},
   "source": [
    "### Metody `str` i `repr`.\n",
    "Metody konwertują obiekt klasy do reprezentacji napisowej (string). \n",
    "\n",
    "Metoda specjalna  `__repr__(self)`:\n",
    "- Wywoływana przez wbudowaną funkcję `repr()` do wygenerowania \"oficjalnej\" reprezentacji napisowej obiektu. \n",
    "- reprezentacja napisowa powinna zawierać pełną informacje o obiekcie i być jednoznaczna.\n",
    "- Jeśli to możliwe, napis powinien być poprawnym wyrażeniem w Pythonie, po przewartościowaniu którego otrzymamy obiekt o tej samej wartości (w odpowiednim środowisku). \n",
    "- Jeżeli klasa implementuje metodę `__repr__()`, a nie implementuje metody `__str__()`, wówczas metoda `__repr__()` stosowana jest w zastępstwie `__str__()`.\n",
    "- Metoda ta jest zwykle używana podczas debugowania - przeznaczona dla developerów.\n",
    "\n",
    "Metoda specjalna `__str__()`:\n",
    "- Wywoływana przez wbudowaną funkcję `str()` oraz instrukcję `print` do wygenerowania \"informacyjnej\" reprezentacji napisowej obiektu.\n",
    "- Metoda generalnie przeznaczona dla użytkowników."
   ]
  },
  {
   "cell_type": "code",
   "execution_count": 13,
   "metadata": {},
   "outputs": [],
   "source": [
    "class VektorND:\n",
    "    \"\"\"Nasza przykładowa klasa\"\"\"\n",
    "    def __init__(self, x):  # metoda klasy - ustawia wartości początkowe\n",
    "        self.x = x  # atrybut/składowa instancji klasy \n",
    "        self.dim = len(x)  # atrybut/składowa instancji klasy\n",
    "    \n",
    "    def get_x(self):  # metoda klasy - zwraca wartość zmiennej x\n",
    "        \"\"\"Metoda naszej klasy zwracająca wartość składowej x\"\"\"\n",
    "        return self.x\n",
    "    \n",
    "    def set_x(self, val): # metoda klasy - ustawia wartość zmiennej x\n",
    "        \"\"\"Metoda naszej klasy ustawiająca nową wartość składowej x\"\"\"\n",
    "        self.x = val\n",
    "        self.dim = len(val)\n",
    "    \n",
    "    def __str__(self): \n",
    "        return 'obiekt VektorND, x = {}, dim = {}'.format(self.x, self.dim)\n",
    "    \n",
    "    def __repr__(self): \n",
    "        return 'VektorND({})'.format(self.x)"
   ]
  },
  {
   "cell_type": "code",
   "execution_count": 14,
   "metadata": {},
   "outputs": [
    {
     "name": "stdout",
     "output_type": "stream",
     "text": [
      "obiekt VektorND, x = [10, 20], dim = 2\n"
     ]
    },
    {
     "data": {
      "text/plain": [
       "VektorND([10, 20])"
      ]
     },
     "execution_count": 14,
     "metadata": {},
     "output_type": "execute_result"
    }
   ],
   "source": [
    "a = VektorND([10, 20])\n",
    "print(a)  # wykonywana jest metoda __str__()\n",
    "a  # wykonywana jest metoda __repr__()"
   ]
  },
  {
   "cell_type": "markdown",
   "metadata": {},
   "source": [
    "Wypisywanie informacji o obiekcie, którego skłądowymi są obiekty klasy VektorND."
   ]
  },
  {
   "cell_type": "code",
   "execution_count": 15,
   "metadata": {},
   "outputs": [
    {
     "name": "stdout",
     "output_type": "stream",
     "text": [
      "[VektorND([1, 2]), VektorND([3, 4]), VektorND([5, 6])]\n",
      "obiekt VektorND, x = [1, 2], dim = 2\n"
     ]
    }
   ],
   "source": [
    "b = [VektorND([1,2]), VektorND([3,4]), VektorND([5,6])] \n",
    "print(b)  # dla obiektu wykonywana jest metoda __repr__()\n",
    "print(b[0]) # dla konkretnej instancji klasy wykonywana jest metoda __str__()"
   ]
  },
  {
   "cell_type": "markdown",
   "metadata": {},
   "source": [
    "Jeżeli klasa implementuje metodę `__repr__()`, a nie implementuje metody `__str__()`, wówczas metoda `__repr__()` stosowana jest w zastępstwie `__str__()`."
   ]
  },
  {
   "cell_type": "markdown",
   "metadata": {},
   "source": [
    "### Przeciążanie operatorów.\n",
    "Obiekty zdefiniowane przez użytkownika mogą korzystać ze wszystkich operatorów wbudowanych (`+`, `-`, `*` itd.), jeżeli w ich klasach zdefinuje się odpowiednie metody specjalne. Metody specjalne muszą być implementowane przez obiekty emulujace liczby.\n",
    "\n",
    "Lista metod specjalnych patrz link: https://docs.python.org/3/reference/datamodel.html#special-method-names, lub: https://pl.python.org/docs/ref/node15.html\n",
    "\n",
    "Dla typów liczbowych wykorzystujemy operatory matematyczne i sprowadzania do zgodności typów.\n",
    "\n",
    "Lista metod specjalnych dla typów liczbowych patrz link: https://pl.python.org/docs/ref/node15.html#SECTION005370000000000000000\n",
    "\n",
    "Wybrane specjalne atrybuty, metody do użycia:\n",
    "- `__add__(self, other)` przeciążony operator `self + other`\n",
    "- `__sub__(self, other)` przeciążony operator `self - other`\n",
    "- `__mul__(self, other)` przeciążony operator `self * other`\n",
    "- `__div__(self, other)` przeciążony operator `self / other`\n",
    "- `__mod__(self, other)`  przeciążony operator `self % other`\n",
    "- `__pow__(self, other[, modulo])`  przeciążony operator `self ** other`, `pow(self, other, modulo)`\n",
    "- `__iadd__(self, other)` przeciążony operator `self += other`\n",
    "- `__isub__(self, other)` przeciążony operator `self -= other`\n",
    "- `__neg__(self)` przeciążony jednoargumentowy operator zmiany znaku `-self`\n",
    "- `__pos__(self)` przeciążony jednoargumentowy operator `+self`\n",
    "- `__int__(self)` przeciążony operator rzutowania na typ `int`\n",
    "- `__float__(self)` przeciążony operator rzutowania na typ `float`\n",
    "\n",
    "Metody specjalne o nazwach rozpoczynających się od litery \"r\" przeznaczone są do operacji o odwróconej kolejności operandów. Przykłady:\n",
    "- `__radd__(self, other)` przeciążony operator `other + self`\n",
    "- `__rsub__(self, other)` przeciążony operator `other - self`\n",
    "- `__rmul__(self, other)` przeciążony operator `other * self`\n",
    "- `__rmod__(self, other)`  przeciążony operator `other % self`"
   ]
  },
  {
   "cell_type": "code",
   "execution_count": 16,
   "metadata": {},
   "outputs": [],
   "source": [
    "class VektorND:\n",
    "    \"\"\"Nasza przykładowa klasa\"\"\"\n",
    "    def __init__(self, x):  # metoda klasy - ustawia wartości początkowe\n",
    "        self.x = x  # atrybut/składowa instancji klasy \n",
    "        self.dim = len(x)  # atrybut/składowa instancji klasy\n",
    "    \n",
    "    def get_x(self):  # metoda klasy - zwraca wartość zmiennej x\n",
    "        \"\"\"Metoda naszej klasy zwracająca wartość składowej x\"\"\"\n",
    "        return self.x\n",
    "    \n",
    "    def set_x(self, val): # metoda klasy - ustawia wartość zmiennej x\n",
    "        \"\"\"Metoda naszej klasy ustawiająca nową wartość składowej x\"\"\"\n",
    "        self.x = val\n",
    "        self.dim = len(val)\n",
    "    \n",
    "    def __str__(self): \n",
    "        return 'obiekt VektorND, x = {}, dim = {}'.format(self.x, self.dim)\n",
    "    \n",
    "    def __repr__(self): \n",
    "        return 'VektorND({})'.format(self.x)\n",
    "    \n",
    "    def __abs__(self):\n",
    "        \"\"\"Długość wektora\"\"\"\n",
    "        return sum([x*x for x in self.x])**(1/2)\n",
    "    \n",
    "    def __add__(self, right):\n",
    "        \"\"\"Dodawanie wektorów\"\"\"\n",
    "        if self.dim == right.dim:\n",
    "            return VektorND([x+y for x,y in zip(self.x, right.x)])\n",
    "        else:\n",
    "            # słowo kluczowe raise służy do zgłaszania wyjątków\n",
    "            raise ValueError(\"Błąd wymiarów\")\n",
    "    \n",
    "    def __sub__(self, right):\n",
    "        \"\"\"Dodawanie wektorów\"\"\"\n",
    "        if self.dim == right.dim:\n",
    "            return VektorND([x-y for x,y in zip(self.x, right.x)])\n",
    "        else:\n",
    "            # słowo kluczowe raise służy do zgłaszania wyjątków\n",
    "            raise ValueError(\"Błąd wymiarów\")\n",
    "            \n",
    "    def __mul__(self, s):\n",
    "        \"\"\"Mnożenie przez skalar z prawej strony\"\"\"\n",
    "        return VektorND([x*s for x in self.x])\n",
    "    \n",
    "    def __rmul__(self, s):\n",
    "        \"\"\"Mnożenie przez skalar z lewejstrony\"\"\"\n",
    "        return VektorND([s*x for x in self.x])\n",
    "    \n",
    "    def __matmul__(self, right):\n",
    "        \"\"\"Iloczyn skalarny  v@w\"\"\"\n",
    "        if self.dim == right.dim:\n",
    "            return sum([x*y for x,y in zip(self.x,right.x)])\n",
    "        else:\n",
    "            # słowo kluczowe raise służy do zgłaszania wyjątków\n",
    "            raise ValueError(\"Błąd wymiarów\")"
   ]
  },
  {
   "cell_type": "code",
   "execution_count": 17,
   "metadata": {},
   "outputs": [],
   "source": [
    "a = VektorND([1, 2])\n",
    "b = VektorND([3, 4])"
   ]
  },
  {
   "cell_type": "code",
   "execution_count": 18,
   "metadata": {},
   "outputs": [
    {
     "data": {
      "text/plain": [
       "VektorND([4, 6])"
      ]
     },
     "execution_count": 18,
     "metadata": {},
     "output_type": "execute_result"
    }
   ],
   "source": [
    "a+b"
   ]
  },
  {
   "cell_type": "code",
   "execution_count": 19,
   "metadata": {},
   "outputs": [
    {
     "data": {
      "text/plain": [
       "VektorND([4, 6])"
      ]
     },
     "execution_count": 19,
     "metadata": {},
     "output_type": "execute_result"
    }
   ],
   "source": [
    "b+a"
   ]
  },
  {
   "cell_type": "code",
   "execution_count": 20,
   "metadata": {},
   "outputs": [
    {
     "data": {
      "text/plain": [
       "VektorND([-2, -2])"
      ]
     },
     "execution_count": 20,
     "metadata": {},
     "output_type": "execute_result"
    }
   ],
   "source": [
    "a-b"
   ]
  },
  {
   "cell_type": "code",
   "execution_count": 21,
   "metadata": {},
   "outputs": [
    {
     "data": {
      "text/plain": [
       "VektorND([2, 2])"
      ]
     },
     "execution_count": 21,
     "metadata": {},
     "output_type": "execute_result"
    }
   ],
   "source": [
    "b-a"
   ]
  },
  {
   "cell_type": "code",
   "execution_count": 22,
   "metadata": {},
   "outputs": [
    {
     "data": {
      "text/plain": [
       "(2.23606797749979, 5.0)"
      ]
     },
     "execution_count": 22,
     "metadata": {},
     "output_type": "execute_result"
    }
   ],
   "source": [
    "abs(a), abs(b)"
   ]
  },
  {
   "cell_type": "code",
   "execution_count": 23,
   "metadata": {},
   "outputs": [
    {
     "data": {
      "text/plain": [
       "VektorND([2, 4])"
      ]
     },
     "execution_count": 23,
     "metadata": {},
     "output_type": "execute_result"
    }
   ],
   "source": [
    "2*a"
   ]
  },
  {
   "cell_type": "code",
   "execution_count": 24,
   "metadata": {},
   "outputs": [
    {
     "data": {
      "text/plain": [
       "VektorND([1.0, 1.3333333333333333])"
      ]
     },
     "execution_count": 24,
     "metadata": {},
     "output_type": "execute_result"
    }
   ],
   "source": [
    "b*(1/3)"
   ]
  },
  {
   "cell_type": "markdown",
   "metadata": {},
   "source": [
    "__Uwaga:__ `a*b` też zadziała, ale w dziwny sposób, przeanalizować dlaczego zostało zwrócone coś takiego."
   ]
  },
  {
   "cell_type": "code",
   "execution_count": 25,
   "metadata": {},
   "outputs": [
    {
     "data": {
      "text/plain": [
       "VektorND([VektorND([3, 4]), VektorND([6, 8])])"
      ]
     },
     "execution_count": 25,
     "metadata": {},
     "output_type": "execute_result"
    }
   ],
   "source": [
    "a*b"
   ]
  },
  {
   "cell_type": "code",
   "execution_count": 26,
   "metadata": {},
   "outputs": [
    {
     "data": {
      "text/plain": [
       "11"
      ]
     },
     "execution_count": 26,
     "metadata": {},
     "output_type": "execute_result"
    }
   ],
   "source": [
    "a@b"
   ]
  },
  {
   "cell_type": "markdown",
   "metadata": {},
   "source": [
    "### Hermetyzacja\n",
    "Hermetyzacja – to mechanizm, łączący w całość kod i dane, na których on operuje, zabezpieczający je przed zewnętrzną ingerencją i niepoprawnym użyciem. \n",
    " \n",
    "Uwagi ogólne:\n",
    "- Kod i dane są połączone w obiekcie, który realizuje hermetyzacje \n",
    "- Znajdujące się wewnątrz obiektu kod i dane mogą być prywatne lub publiczne \n",
    "- Prywatny kod i dane są dostępne tylko w obszarze obiektu. Na zewnątrz obiektu składniki prywatne są ukryte – ani prywatny kod, ani prywatne dane nie mogą być wykorzystywane przez fragmenty programu, znajdujące się poza obiektem.\n",
    "- Publiczny kod i dane są dostępne dla innych elementów programu, znajdujących się jak wewnątrz obiektu, tak i poza nim. Najczęściej składniki publiczne obiektu są wykorzystywane do tworzenia interfejsu do prywatnych elementów obiektu.\n",
    "\n",
    "W Pythonie:\n",
    "- Wszyskie składowe klasy są publiczne.\n",
    "- Python posiada pewien ograniczony mechanizm implementacji zmiennych prywatnych klasy. Zmienne prywatne sygnalizuje się poprzez poprzedzenie nazwy znakiem podkreślenia `_`.\n",
    "- W Pythonie możemy zdefiniować również tzw. zmienne bardziej prywatne poprzez poprzedzenie nazwy dwoma znakami podkreślenia `__`.\n",
    "- Python zgłasza wyjątek `AttributeError` przy próbie dostępu z zewnątrz klasy do nazwy bardziej prywatnej.\n",
    "- Python ukrywa nazwę prywatną zmieniając jej nazwe wewnętrzną na `_classname__attrname`.\n",
    "- Taki mechanizm \"zabezpieczania\" nazywany przekręcaniem nazw jest w istocie iluzją, bowiem można uzyskać dostęp do prywatnego atrybutu posługując się jego przekreconą nazwą."
   ]
  },
  {
   "cell_type": "markdown",
   "metadata": {},
   "source": [
    "W klasie VektorND zdefiniowanej powyżej, mimo że mamy osobne metody `get_x` i `set_x` to i tak pobierać i ustawiać wartość zmiennej `x` możemy bezpośrednio. "
   ]
  },
  {
   "cell_type": "code",
   "execution_count": 27,
   "metadata": {},
   "outputs": [],
   "source": [
    "a = VektorND([1,2])"
   ]
  },
  {
   "cell_type": "code",
   "execution_count": 28,
   "metadata": {},
   "outputs": [
    {
     "data": {
      "text/plain": [
       "[1, 2]"
      ]
     },
     "execution_count": 28,
     "metadata": {},
     "output_type": "execute_result"
    }
   ],
   "source": [
    "a.x"
   ]
  },
  {
   "cell_type": "code",
   "execution_count": 29,
   "metadata": {},
   "outputs": [
    {
     "data": {
      "text/plain": [
       "[3, 5, 6]"
      ]
     },
     "execution_count": 29,
     "metadata": {},
     "output_type": "execute_result"
    }
   ],
   "source": [
    "a.x = [3,5,6]\n",
    "a.x"
   ]
  },
  {
   "cell_type": "code",
   "execution_count": 30,
   "metadata": {},
   "outputs": [
    {
     "data": {
      "text/plain": [
       "2"
      ]
     },
     "execution_count": 30,
     "metadata": {},
     "output_type": "execute_result"
    }
   ],
   "source": [
    "a.dim"
   ]
  },
  {
   "cell_type": "markdown",
   "metadata": {},
   "source": [
    "Taka zmiana wartości `x` nie zmieniła wartości `dim`. Dlatego wolelibyśmy aby używać do tego metody `set_x` w tym celu informujemy innych, aby `x` traktowali jako zmienna prywatną przez zastąpienie ją `_x`."
   ]
  },
  {
   "cell_type": "code",
   "execution_count": 31,
   "metadata": {},
   "outputs": [],
   "source": [
    "class VektorND:\n",
    "    \"\"\"Nasza przykładowa klasa\"\"\"\n",
    "    def __init__(self, x):  # metoda klasy - ustawia wartości początkowe\n",
    "        self._x = x  # atrybut/składowa instancji klasy \n",
    "        self.dim = len(x)  # atrybut/składowa instancji klasy\n",
    "    \n",
    "    def get_x(self):  # metoda klasy - zwraca wartość zmiennej x\n",
    "        \"\"\"Metoda naszej klasy zwracająca wartość składowej x\"\"\"\n",
    "        return self._x\n",
    "    \n",
    "    def set_x(self, val): # metoda klasy - ustawia wartość zmiennej x\n",
    "        \"\"\"Metoda naszej klasy ustawiająca nową wartość składowej x\"\"\"\n",
    "        self._x = val\n",
    "        self.dim = len(val)\n",
    "    \n",
    "    def __str__(self): \n",
    "        return 'obiekt VektorND, x = {}, dim = {}'.format(self._x, self.dim)\n",
    "    \n",
    "    def __repr__(self): \n",
    "        return 'VektorND({})'.format(self._x)\n",
    "    \n",
    "    def __abs__(self):\n",
    "        \"\"\"Długość wektora\"\"\"\n",
    "        return sum([x*x for x in self._x])**(1/2)\n",
    "    \n",
    "    def __add__(self, right):\n",
    "        \"\"\"Dodawanie wektorów\"\"\"\n",
    "        if self.dim == right.dim:\n",
    "            return VektorND([x+y for x,y in zip(self._x, right._x)])\n",
    "        else:\n",
    "            # słowo kluczowe raise służy do zgłaszania wyjątków\n",
    "            raise ValueError(\"Błąd wymiarów\")\n",
    "    \n",
    "    def __sub__(self, right):\n",
    "        \"\"\"Dodawanie wektorów\"\"\"\n",
    "        if self.dim == right.dim:\n",
    "            return VektorND([x-y for x,y in zip(self._x, right._x)])\n",
    "        else:\n",
    "            # słowo kluczowe raise służy do zgłaszania wyjątków\n",
    "            raise ValueError(\"Błąd wymiarów\")\n",
    "            \n",
    "    def __mul__(self, s):\n",
    "        \"\"\"Mnożenie przez skalar z prawej strony\"\"\"\n",
    "        return VektorND([x*s for x in self._x])\n",
    "    \n",
    "    def __rmul__(self, s):\n",
    "        \"\"\"Mnożenie przez skalar z lewejstrony\"\"\"\n",
    "        return VektorND([s*x for x in self._x])\n",
    "    \n",
    "    def __matmul__(self, right):\n",
    "        \"\"\"Iloczyn skalarny  v@w\"\"\"\n",
    "        if self.dim == right.dim:\n",
    "            return sum([x*y for x,y in zip(self._x,right._x)])\n",
    "        else:\n",
    "            # słowo kluczowe raise służy do zgłaszania wyjątków\n",
    "            raise ValueError(\"Błąd wymiarów\")"
   ]
  },
  {
   "cell_type": "code",
   "execution_count": 32,
   "metadata": {},
   "outputs": [],
   "source": [
    "a = VektorND([1,2])"
   ]
  },
  {
   "cell_type": "code",
   "execution_count": 33,
   "metadata": {},
   "outputs": [
    {
     "ename": "AttributeError",
     "evalue": "'VektorND' object has no attribute 'x'",
     "output_type": "error",
     "traceback": [
      "\u001b[1;31m---------------------------------------------------------------------------\u001b[0m",
      "\u001b[1;31mAttributeError\u001b[0m                            Traceback (most recent call last)",
      "\u001b[1;32m<ipython-input-33-e27186f28a17>\u001b[0m in \u001b[0;36m<module>\u001b[1;34m\u001b[0m\n\u001b[1;32m----> 1\u001b[1;33m \u001b[0ma\u001b[0m\u001b[1;33m.\u001b[0m\u001b[0mx\u001b[0m\u001b[1;33m\u001b[0m\u001b[0m\n\u001b[0m",
      "\u001b[1;31mAttributeError\u001b[0m: 'VektorND' object has no attribute 'x'"
     ]
    }
   ],
   "source": [
    "a.x"
   ]
  },
  {
   "cell_type": "markdown",
   "metadata": {},
   "source": [
    "Oczywiście zmiana dalej jest możliwa ale trzeba wiedzieć, zamiast `x` mamy `_x`."
   ]
  },
  {
   "cell_type": "code",
   "execution_count": 34,
   "metadata": {},
   "outputs": [
    {
     "data": {
      "text/plain": [
       "[1, 2]"
      ]
     },
     "execution_count": 34,
     "metadata": {},
     "output_type": "execute_result"
    }
   ],
   "source": [
    "a._x"
   ]
  },
  {
   "cell_type": "code",
   "execution_count": 35,
   "metadata": {},
   "outputs": [
    {
     "data": {
      "text/plain": [
       "[3, 5, 6]"
      ]
     },
     "execution_count": 35,
     "metadata": {},
     "output_type": "execute_result"
    }
   ],
   "source": [
    "a._x = [3,5,6]\n",
    "a._x"
   ]
  },
  {
   "cell_type": "code",
   "execution_count": 36,
   "metadata": {},
   "outputs": [
    {
     "data": {
      "text/plain": [
       "2"
      ]
     },
     "execution_count": 36,
     "metadata": {},
     "output_type": "execute_result"
    }
   ],
   "source": [
    "a.dim"
   ]
  },
  {
   "cell_type": "markdown",
   "metadata": {},
   "source": [
    "Możemy jeszcze bardziej ukryć `x` przez zamianę na `__x`."
   ]
  },
  {
   "cell_type": "code",
   "execution_count": 37,
   "metadata": {},
   "outputs": [],
   "source": [
    "class VektorND:\n",
    "    \"\"\"Nasza przykładowa klasa\"\"\"\n",
    "    def __init__(self, x):  # metoda klasy - ustawia wartości początkowe\n",
    "        self.__x = x  # atrybut/składowa instancji klasy \n",
    "        self.dim = len(x)  # atrybut/składowa instancji klasy\n",
    "    \n",
    "    def get_x(self):  # metoda klasy - zwraca wartość zmiennej x\n",
    "        \"\"\"Metoda naszej klasy zwracająca wartość składowej x\"\"\"\n",
    "        return self.__x\n",
    "    \n",
    "    def set_x(self, val): # metoda klasy - ustawia wartość zmiennej x\n",
    "        \"\"\"Metoda naszej klasy ustawiająca nową wartość składowej x\"\"\"\n",
    "        self.__x = val\n",
    "        self.dim = len(val)\n",
    "    \n",
    "    def __str__(self): \n",
    "        return 'obiekt VektorND, x = {}, dim = {}'.format(self.__x, self.dim)\n",
    "    \n",
    "    def __repr__(self): \n",
    "        return 'VektorND({})'.format(self.__x)\n",
    "    \n",
    "    def __abs__(self):\n",
    "        \"\"\"Długość wektora\"\"\"\n",
    "        return sum([x*x for x in self.__x])**(1/2)\n",
    "    \n",
    "    def __add__(self, right):\n",
    "        \"\"\"Dodawanie wektorów\"\"\"\n",
    "        if self.dim == right.dim:\n",
    "            return VektorND([x+y for x,y in zip(self.__x, right.__x)])\n",
    "        else:\n",
    "            # słowo kluczowe raise służy do zgłaszania wyjątków\n",
    "            raise ValueError(\"Błąd wymiarów\")\n",
    "    \n",
    "    def __sub__(self, right):\n",
    "        \"\"\"Dodawanie wektorów\"\"\"\n",
    "        if self.dim == right.dim:\n",
    "            return VektorND([x-y for x,y in zip(self.__x, right.__x)])\n",
    "        else:\n",
    "            # słowo kluczowe raise służy do zgłaszania wyjątków\n",
    "            raise ValueError(\"Błąd wymiarów\")\n",
    "            \n",
    "    def __mul__(self, s):\n",
    "        \"\"\"Mnożenie przez skalar z prawej strony\"\"\"\n",
    "        return VektorND([x*s for x in self.__x])\n",
    "    \n",
    "    def __rmul__(self, s):\n",
    "        \"\"\"Mnożenie przez skalar z lewejstrony\"\"\"\n",
    "        return VektorND([s*x for x in self.__x])\n",
    "    \n",
    "    def __matmul__(self, right):\n",
    "        \"\"\"Iloczyn skalarny  v@w\"\"\"\n",
    "        if self.dim == right.dim:\n",
    "            return sum([x*y for x,y in zip(self.__x,right.__x)])\n",
    "        else:\n",
    "            # słowo kluczowe raise służy do zgłaszania wyjątków\n",
    "            raise ValueError(\"Błąd wymiarów\")"
   ]
  },
  {
   "cell_type": "code",
   "execution_count": 38,
   "metadata": {},
   "outputs": [],
   "source": [
    "a = VektorND([1,2])"
   ]
  },
  {
   "cell_type": "code",
   "execution_count": 39,
   "metadata": {},
   "outputs": [
    {
     "ename": "AttributeError",
     "evalue": "'VektorND' object has no attribute 'x'",
     "output_type": "error",
     "traceback": [
      "\u001b[1;31m---------------------------------------------------------------------------\u001b[0m",
      "\u001b[1;31mAttributeError\u001b[0m                            Traceback (most recent call last)",
      "\u001b[1;32m<ipython-input-39-e27186f28a17>\u001b[0m in \u001b[0;36m<module>\u001b[1;34m\u001b[0m\n\u001b[1;32m----> 1\u001b[1;33m \u001b[0ma\u001b[0m\u001b[1;33m.\u001b[0m\u001b[0mx\u001b[0m\u001b[1;33m\u001b[0m\u001b[0m\n\u001b[0m",
      "\u001b[1;31mAttributeError\u001b[0m: 'VektorND' object has no attribute 'x'"
     ]
    }
   ],
   "source": [
    "a.x"
   ]
  },
  {
   "cell_type": "code",
   "execution_count": 40,
   "metadata": {},
   "outputs": [
    {
     "ename": "AttributeError",
     "evalue": "'VektorND' object has no attribute '_x'",
     "output_type": "error",
     "traceback": [
      "\u001b[1;31m---------------------------------------------------------------------------\u001b[0m",
      "\u001b[1;31mAttributeError\u001b[0m                            Traceback (most recent call last)",
      "\u001b[1;32m<ipython-input-40-4f70b9f2aec6>\u001b[0m in \u001b[0;36m<module>\u001b[1;34m\u001b[0m\n\u001b[1;32m----> 1\u001b[1;33m \u001b[0ma\u001b[0m\u001b[1;33m.\u001b[0m\u001b[0m_x\u001b[0m\u001b[1;33m\u001b[0m\u001b[0m\n\u001b[0m",
      "\u001b[1;31mAttributeError\u001b[0m: 'VektorND' object has no attribute '_x'"
     ]
    }
   ],
   "source": [
    "a._x"
   ]
  },
  {
   "cell_type": "code",
   "execution_count": 41,
   "metadata": {},
   "outputs": [
    {
     "ename": "AttributeError",
     "evalue": "'VektorND' object has no attribute '__x'",
     "output_type": "error",
     "traceback": [
      "\u001b[1;31m---------------------------------------------------------------------------\u001b[0m",
      "\u001b[1;31mAttributeError\u001b[0m                            Traceback (most recent call last)",
      "\u001b[1;32m<ipython-input-41-99a8eeb8b502>\u001b[0m in \u001b[0;36m<module>\u001b[1;34m\u001b[0m\n\u001b[1;32m----> 1\u001b[1;33m \u001b[0ma\u001b[0m\u001b[1;33m.\u001b[0m\u001b[0m__x\u001b[0m\u001b[1;33m\u001b[0m\u001b[0m\n\u001b[0m",
      "\u001b[1;31mAttributeError\u001b[0m: 'VektorND' object has no attribute '__x'"
     ]
    }
   ],
   "source": [
    "a.__x"
   ]
  },
  {
   "cell_type": "markdown",
   "metadata": {},
   "source": [
    "Oczywiście zmiana dalej jest możliwa ale trzeba wiedzieć, zamiast `x` mamy `_VektorND__x`."
   ]
  },
  {
   "cell_type": "code",
   "execution_count": 42,
   "metadata": {},
   "outputs": [
    {
     "data": {
      "text/plain": [
       "[1, 2]"
      ]
     },
     "execution_count": 42,
     "metadata": {},
     "output_type": "execute_result"
    }
   ],
   "source": [
    "a._VektorND__x"
   ]
  },
  {
   "cell_type": "code",
   "execution_count": 43,
   "metadata": {},
   "outputs": [
    {
     "data": {
      "text/plain": [
       "[3, 5, 6]"
      ]
     },
     "execution_count": 43,
     "metadata": {},
     "output_type": "execute_result"
    }
   ],
   "source": [
    "a._VektorND__x = [3,5,6]\n",
    "a._VektorND__x"
   ]
  },
  {
   "cell_type": "code",
   "execution_count": 44,
   "metadata": {},
   "outputs": [
    {
     "data": {
      "text/plain": [
       "2"
      ]
     },
     "execution_count": 44,
     "metadata": {},
     "output_type": "execute_result"
    }
   ],
   "source": [
    "a.dim"
   ]
  },
  {
   "cell_type": "markdown",
   "metadata": {},
   "source": [
    "Najpopularniejesze jest jednak używanie getterów i setterów poprzez użycie dekotatora property. Przeanalizuj poniższą definicję kalasy."
   ]
  },
  {
   "cell_type": "code",
   "execution_count": 45,
   "metadata": {},
   "outputs": [],
   "source": [
    "class VektorND:\n",
    "    \"\"\"Nasza przykładowa klasa\"\"\"\n",
    "    def __init__(self, x):\n",
    "        self.__x = x  \n",
    "        self.__dim = len(x)\n",
    "        \n",
    "    @property  # użycie dekoratora property\n",
    "    def x(self):  # metoda klasy - zwraca wartość zmiennej x\n",
    "        \"\"\"Metoda naszej klasy zwracająca wartość składowej x\"\"\"\n",
    "        return self.__x\n",
    "    \n",
    "    @property  # użycie dekoratora property\n",
    "    def dim(self):  # metoda klasy - zwraca wartość zmiennej dim\n",
    "        \"\"\"Metoda naszej klasy zwracająca wartość składowej dim\"\"\"\n",
    "        return self.__dim\n",
    "    \n",
    "    @x.setter  # dekorator setter\n",
    "    def x(self, val): # metoda klasy - ustawia wartość zmiennej x\n",
    "        \"\"\"Metoda naszej klasy ustawiająca nową wartość składowej x\"\"\"\n",
    "        self.__x = val\n",
    "        self.__dim = len(val)\n",
    "    \n",
    "    def __str__(self): \n",
    "        return 'obiekt VektorND, x = {}, dim = {}'.format(self.__x, self.__dim)\n",
    "    \n",
    "    def __repr__(self): \n",
    "        return 'VektorND({})'.format(self.__x)\n",
    "    \n",
    "    def __abs__(self):\n",
    "        \"\"\"Długość wektora\"\"\"\n",
    "        return sum([x*x for x in self.__x])**(1/2)\n",
    "    \n",
    "    def __add__(self, right):\n",
    "        \"\"\"Dodawanie wektorów\"\"\"\n",
    "        if self.__dim == right.__dim:\n",
    "            return VektorND([x+y for x,y in zip(self.__x, right.__x)])\n",
    "        else:\n",
    "            # słowo kluczowe raise służy do zgłaszania wyjątków\n",
    "            raise ValueError(\"Błąd wymiarów\")\n",
    "    \n",
    "    def __sub__(self, right):\n",
    "        \"\"\"Dodawanie wektorów\"\"\"\n",
    "        if self.__dim == right.__dim:\n",
    "            return VektorND([x-y for x,y in zip(self.__x, right.__x)])\n",
    "        else:\n",
    "            # słowo kluczowe raise służy do zgłaszania wyjątków\n",
    "            raise ValueError(\"Błąd wymiarów\")\n",
    "            \n",
    "    def __mul__(self, s):\n",
    "        \"\"\"Mnożenie przez skalar z prawej strony\"\"\"\n",
    "        return VektorND([x*s for x in self.__x])\n",
    "    \n",
    "    def __rmul__(self, s):\n",
    "        \"\"\"Mnożenie przez skalar z lewejstrony\"\"\"\n",
    "        return VektorND([s*x for x in self.__x])\n",
    "    \n",
    "    def __matmul__(self, right):\n",
    "        \"\"\"Iloczyn skalarny  v@w\"\"\"\n",
    "        if self.__dim == right.__dim:\n",
    "            return sum([x*y for x,y in zip(self.__x,right.__x)])\n",
    "        else:\n",
    "            # słowo kluczowe raise służy do zgłaszania wyjątków\n",
    "            raise ValueError(\"Błąd wymiarów\")"
   ]
  },
  {
   "cell_type": "markdown",
   "metadata": {},
   "source": [
    "Dodanie dekoratora property spowodowało że mimo to że `x` i `dim` są zmiennymi bardziej prywatnymi to mamy do nich bezpośredni dostęp po nazwach."
   ]
  },
  {
   "cell_type": "code",
   "execution_count": 46,
   "metadata": {},
   "outputs": [],
   "source": [
    "a = VektorND([1,2])"
   ]
  },
  {
   "cell_type": "code",
   "execution_count": 47,
   "metadata": {},
   "outputs": [
    {
     "data": {
      "text/plain": [
       "[1, 2]"
      ]
     },
     "execution_count": 47,
     "metadata": {},
     "output_type": "execute_result"
    }
   ],
   "source": [
    "a.x"
   ]
  },
  {
   "cell_type": "code",
   "execution_count": 48,
   "metadata": {},
   "outputs": [
    {
     "data": {
      "text/plain": [
       "2"
      ]
     },
     "execution_count": 48,
     "metadata": {},
     "output_type": "execute_result"
    }
   ],
   "source": [
    "a.dim"
   ]
  },
  {
   "cell_type": "code",
   "execution_count": 49,
   "metadata": {},
   "outputs": [],
   "source": [
    "a.x = [1,3,4]"
   ]
  },
  {
   "cell_type": "code",
   "execution_count": 50,
   "metadata": {},
   "outputs": [
    {
     "data": {
      "text/plain": [
       "[1, 3, 4]"
      ]
     },
     "execution_count": 50,
     "metadata": {},
     "output_type": "execute_result"
    }
   ],
   "source": [
    "a.x"
   ]
  },
  {
   "cell_type": "code",
   "execution_count": 51,
   "metadata": {},
   "outputs": [
    {
     "data": {
      "text/plain": [
       "3"
      ]
     },
     "execution_count": 51,
     "metadata": {},
     "output_type": "execute_result"
    }
   ],
   "source": [
    "a.dim"
   ]
  },
  {
   "cell_type": "markdown",
   "metadata": {},
   "source": [
    "Dla `dim` nie ma settera."
   ]
  },
  {
   "cell_type": "code",
   "execution_count": 52,
   "metadata": {},
   "outputs": [
    {
     "ename": "AttributeError",
     "evalue": "can't set attribute",
     "output_type": "error",
     "traceback": [
      "\u001b[1;31m---------------------------------------------------------------------------\u001b[0m",
      "\u001b[1;31mAttributeError\u001b[0m                            Traceback (most recent call last)",
      "\u001b[1;32m<ipython-input-52-7eb25105c483>\u001b[0m in \u001b[0;36m<module>\u001b[1;34m\u001b[0m\n\u001b[1;32m----> 1\u001b[1;33m \u001b[0ma\u001b[0m\u001b[1;33m.\u001b[0m\u001b[0mdim\u001b[0m \u001b[1;33m=\u001b[0m \u001b[1;36m5\u001b[0m\u001b[1;33m\u001b[0m\u001b[0m\n\u001b[0m",
      "\u001b[1;31mAttributeError\u001b[0m: can't set attribute"
     ]
    }
   ],
   "source": [
    "a.dim = 5"
   ]
  },
  {
   "cell_type": "markdown",
   "metadata": {},
   "source": [
    "### Obiekty iterowalne \n",
    "Możemy też spowodować że będzie możliwe iterowanie po naszym obiekcie nadpisując metody specjalne `__getitem__` i `__setitem__`."
   ]
  },
  {
   "cell_type": "code",
   "execution_count": 53,
   "metadata": {},
   "outputs": [],
   "source": [
    "class VektorND:\n",
    "    \"\"\"Nasza przykładowa klasa\"\"\"\n",
    "    def __init__(self, x):\n",
    "        self.__x = x  \n",
    "        self.__dim = len(x)\n",
    "        \n",
    "    @property  # użycie dekoratora property\n",
    "    def x(self):  # metoda klasy - zwraca wartość zmiennej x\n",
    "        \"\"\"Metoda naszej klasy zwracająca wartość składowej x\"\"\"\n",
    "        return self.__x\n",
    "    \n",
    "    @property  # użycie dekoratora property\n",
    "    def dim(self):  # metoda klasy - zwraca wartość zmiennej dim\n",
    "        \"\"\"Metoda naszej klasy zwracająca wartość składowej dim\"\"\"\n",
    "        return self.__dim\n",
    "    \n",
    "    @x.setter  # dekorator setter\n",
    "    def x(self, val): # metoda klasy - ustawia wartość zmiennej x\n",
    "        \"\"\"Metoda naszej klasy ustawiająca nową wartość składowej x\"\"\"\n",
    "        self.__x = val\n",
    "        self.__dim = len(val)\n",
    "    \n",
    "    def __str__(self): \n",
    "        return 'obiekt VektorND, x = {}, dim = {}'.format(self.__x, self.__dim)\n",
    "    \n",
    "    def __repr__(self): \n",
    "        return 'VektorND({})'.format(self.__x)\n",
    "    \n",
    "    def __getitem__(self, index):\n",
    "        \"\"\"Pobieranie konkretnej wspołrzędnej\"\"\"\n",
    "        return self.__x[index]\n",
    "        \n",
    "    def __setitem__(self, index, val):\n",
    "        \"\"\"Ustawianie wartości dla konkretnej współrzędnej\"\"\"\n",
    "        self.__x[index] = val\n",
    "    \n",
    "    def __abs__(self):\n",
    "        \"\"\"Długość wektora\"\"\"\n",
    "        return sum([x*x for x in self.__x])**(1/2)\n",
    "    \n",
    "    def __add__(self, right):\n",
    "        \"\"\"Dodawanie wektorów\"\"\"\n",
    "        if self.__dim == right.__dim:\n",
    "            return VektorND([x+y for x,y in zip(self.__x, right.__x)])\n",
    "        else:\n",
    "            # słowo kluczowe raise służy do zgłaszania wyjątków\n",
    "            raise ValueError(\"Błąd wymiarów\")\n",
    "    \n",
    "    def __sub__(self, right):\n",
    "        \"\"\"Dodawanie wektorów\"\"\"\n",
    "        if self.__dim == right.__dim:\n",
    "            return VektorND([x-y for x,y in zip(self.__x, right.__x)])\n",
    "        else:\n",
    "            # słowo kluczowe raise służy do zgłaszania wyjątków\n",
    "            raise ValueError(\"Błąd wymiarów\")\n",
    "            \n",
    "    def __mul__(self, s):\n",
    "        \"\"\"Mnożenie przez skalar z prawej strony\"\"\"\n",
    "        return VektorND([x*s for x in self.__x])\n",
    "    \n",
    "    def __rmul__(self, s):\n",
    "        \"\"\"Mnożenie przez skalar z lewejstrony\"\"\"\n",
    "        return VektorND([s*x for x in self.__x])\n",
    "    \n",
    "    def __matmul__(self, right):\n",
    "        \"\"\"Iloczyn skalarny  v@w\"\"\"\n",
    "        if self.__dim == right.__dim:\n",
    "            return sum([x*y for x,y in zip(self.__x,right.__x)])\n",
    "        else:\n",
    "            # słowo kluczowe raise służy do zgłaszania wyjątków\n",
    "            raise ValueError(\"Błąd wymiarów\")"
   ]
  },
  {
   "cell_type": "code",
   "execution_count": 54,
   "metadata": {},
   "outputs": [],
   "source": [
    "a = VektorND([1,1])"
   ]
  },
  {
   "cell_type": "code",
   "execution_count": 55,
   "metadata": {},
   "outputs": [
    {
     "data": {
      "text/plain": [
       "[1, 1]"
      ]
     },
     "execution_count": 55,
     "metadata": {},
     "output_type": "execute_result"
    }
   ],
   "source": [
    "a.x"
   ]
  },
  {
   "cell_type": "code",
   "execution_count": 56,
   "metadata": {},
   "outputs": [
    {
     "data": {
      "text/plain": [
       "1"
      ]
     },
     "execution_count": 56,
     "metadata": {},
     "output_type": "execute_result"
    }
   ],
   "source": [
    "a[0]"
   ]
  },
  {
   "cell_type": "code",
   "execution_count": 57,
   "metadata": {},
   "outputs": [],
   "source": [
    "a[1] = 200"
   ]
  },
  {
   "cell_type": "code",
   "execution_count": 58,
   "metadata": {},
   "outputs": [
    {
     "data": {
      "text/plain": [
       "[1, 200]"
      ]
     },
     "execution_count": 58,
     "metadata": {},
     "output_type": "execute_result"
    }
   ],
   "source": [
    "a.x"
   ]
  },
  {
   "cell_type": "code",
   "execution_count": 59,
   "metadata": {},
   "outputs": [
    {
     "name": "stdout",
     "output_type": "stream",
     "text": [
      "1\n",
      "200\n"
     ]
    }
   ],
   "source": [
    "for x in a:\n",
    "    print(x)"
   ]
  },
  {
   "cell_type": "markdown",
   "metadata": {},
   "source": [
    "### Dziedziczenie\n",
    "Dziedziczenie to proces, w którym obiekt otrzymuje właściwości innego obiektu. \n",
    "\n",
    "Uwagi ogólne:\n",
    "- Jest to bardzo ważne, gdyż pozwala realizować zasadę klasyfikacji. Okazuje się, że większość informacji można uporządkować w sposób hierarchiczny. Na przykład, autobus i pociąg są częścią klasy transport, klasa transport jest częścią klasy maszyny. \n",
    "- Gdyby nie dziedziczenie, cechy każdego obiektu trzeba by było definiować każdorazowo w sposób jawny. Jednak, dzięki klasyfikacji, dla obiektu trzeba zdefiniować te cechy, które czynią go niepowtarzalnym w obrębie klasy. Mechanizm dziedziczenia powoduje, że obiekt może być specyficznym egzemplarzem bardziej ogólnej klasy.\n",
    "\n",
    "W Pythonie: \n",
    "- Dziedziczenie umożliwia ponowne wykorzystanie funkcjonalności klas bazowych w klasach pochodnych.\n",
    "- Klasa pochodna może posiadać dodatkowe atrybuty i metody oraz redefiniować metody odziedziczone.\n",
    "- Jeśli klasa pochodna definiuje atrybut o takiej samej nazwie, jaką ma atrybut jej klasy bazowej, to instancje klasy pochodnej korzystają z jej atrybutów, chyba że atrybut ten jest jawnie kwalifikowany za pomoca nazwy klasy bazowej (z operatorem kropki).\n",
    "- Klasa bazowa musi byc zdefiniowana w zasiegu zawierajacym definicje klasy pochodnej. Zamiast nazwy klasy bazowej dopuszcza się również wyrażenie (np. jeśli nazwa klasy bazowej zdefiniowana jest w innym module).\n",
    "\n",
    "#### Przykład:"
   ]
  },
  {
   "cell_type": "code",
   "execution_count": 60,
   "metadata": {},
   "outputs": [],
   "source": [
    "class Student:  # klasa bazowa\n",
    "    last_index = 0  # atrybut klasy\n",
    "    \n",
    "    def __init__(self, name,last_name):\n",
    "        Student.last_index += 1  # zmiana numeru indeksu\n",
    "        self.name = name\n",
    "        self.last_name = last_name\n",
    "        self.index = Student.last_index  # przypisanie numeru indeksu do studenta\n",
    "    \n",
    "    def __str__(self):\n",
    "        return \"Student {} {} (nr indeksu: {})\".format(self.name,self.last_name,self.index)\n",
    "    \n",
    "class SMatematyk(Student):  # klasa pochodna\n",
    "    def __init__(self, name,last_name):\n",
    "        Student.last_index += 1  # zmiana numeru indeksu - atrybut klasy bazowej\n",
    "        self.name = name\n",
    "        self.last_name = last_name\n",
    "        self.index = Student.last_index  # przypisanie numeru indeksu do studenta\n",
    "        self.kierunek = 'Matematyka'\n",
    "    def __str__(self):  # redefinicja metody __str__() z klasy bazowej\n",
    "        return \"Student matematyki {} {} (nr indeksu: {})\".format(self.name,self.last_name,self.index)  "
   ]
  },
  {
   "cell_type": "code",
   "execution_count": 61,
   "metadata": {},
   "outputs": [
    {
     "name": "stdout",
     "output_type": "stream",
     "text": [
      "Student Karol Górski (nr indeksu: 1)\n",
      "Student matematyki Maria Nowak (nr indeksu: 2)\n"
     ]
    }
   ],
   "source": [
    "a = Student('Karol','Górski')\n",
    "b = SMatematyk('Maria','Nowak')\n",
    "print(a)\n",
    "print(b)"
   ]
  },
  {
   "cell_type": "markdown",
   "metadata": {},
   "source": [
    "Możliwe jest wywołanie konstruktora klasy nadrzędnej, służy do tego metoda wbudowana `super()`."
   ]
  },
  {
   "cell_type": "code",
   "execution_count": 62,
   "metadata": {},
   "outputs": [],
   "source": [
    "class Student:  # klasa bazowa\n",
    "    last_index = 0  # atrybut klasy\n",
    "    \n",
    "    def __init__(self, name,last_name):\n",
    "        Student.last_index += 1  # zmiana numeru indeksu\n",
    "        self.name = name\n",
    "        self.last_name = last_name\n",
    "        self.index = Student.last_index  # przypisanie numeru indeksu do studenta\n",
    "    \n",
    "    def __str__(self):\n",
    "        return \"Student {} {} (nr indeksu: {})\".format(self.name,self.last_name,self.index)\n",
    "    \n",
    "class SMatematyk(Student):  # klasa pochodna\n",
    "    def __init__(self, name,last_name):\n",
    "        super().__init__(name,last_name)  # lub super(SMatematyk,self).__init__(name,last_name)\n",
    "        self.kierunek = 'Matematyka'\n",
    "    \n",
    "    def __str__(self):  # redefinicja metody __str__()\n",
    "        return \"Student matematyki {} {} (nr indeksu: {})\".format(self.name,self.last_name,self.index) "
   ]
  },
  {
   "cell_type": "code",
   "execution_count": 63,
   "metadata": {},
   "outputs": [
    {
     "name": "stdout",
     "output_type": "stream",
     "text": [
      "Student Karol Górski (nr indeksu: 1)\n",
      "Student matematyki Maria Nowak (nr indeksu: 2)\n"
     ]
    }
   ],
   "source": [
    "a = Student('Karol','Górski')\n",
    "b = SMatematyk('Maria','Nowak')\n",
    "print(a)\n",
    "print(b)"
   ]
  },
  {
   "cell_type": "markdown",
   "metadata": {},
   "source": [
    "### Dziedziczenie wielbazowe\n",
    "Możliwe jest dziedziczenie po więcej niż jednej klasie."
   ]
  },
  {
   "cell_type": "code",
   "execution_count": 64,
   "metadata": {},
   "outputs": [],
   "source": [
    "class Mama:\n",
    "    m = 'jestem piękna'\n",
    "    t = 'jestem mądra'\n",
    "    \n",
    "class Tata:\n",
    "    t = 'jestem bogaty'"
   ]
  },
  {
   "cell_type": "code",
   "execution_count": 65,
   "metadata": {},
   "outputs": [
    {
     "name": "stdout",
     "output_type": "stream",
     "text": [
      "jestem piękna jestem mądra\n"
     ]
    }
   ],
   "source": [
    "class Corka(Mama, Tata):  # dziedziczy po klasie Mama i Tata (Mama \"ważniejsza\")\n",
    "    pass\n",
    "\n",
    "c = Corka()\n",
    "print(c.m, c.t)"
   ]
  },
  {
   "cell_type": "code",
   "execution_count": 66,
   "metadata": {},
   "outputs": [
    {
     "name": "stdout",
     "output_type": "stream",
     "text": [
      "jestem piękna jestem bogaty\n"
     ]
    }
   ],
   "source": [
    "class Corka(Tata, Mama): # dziedziczy po klasie Tata i Mama (Tata \"ważniejszy\")\n",
    "    pass\n",
    "\n",
    "c = Corka()\n",
    "print(c.m, c.t)"
   ]
  },
  {
   "cell_type": "markdown",
   "metadata": {},
   "source": [
    "### Polimorfizm.\n",
    "Generalna zasada: ta sama metoda, różne działanie zależne od typu obiektu.\n",
    "\n",
    "Polimorfizm zmniejsza złożoność programu i polepsza jego czytelność. "
   ]
  },
  {
   "cell_type": "code",
   "execution_count": 67,
   "metadata": {},
   "outputs": [],
   "source": [
    "class Zwierze:\n",
    "    def glos(self):  # pusta metoda głos\n",
    "        pass\n",
    "    \n",
    "class Kot(Zwierze):\n",
    "    def glos(self):\n",
    "        print(\"Miau\")\n",
    "\n",
    "class Pies(Zwierze):\n",
    "    def glos(self):\n",
    "        print(\"Hau\")\n",
    "\n",
    "class Krowa(Zwierze):\n",
    "    def glos(self):  # pusta metoda\n",
    "        pass    "
   ]
  },
  {
   "cell_type": "code",
   "execution_count": 68,
   "metadata": {},
   "outputs": [
    {
     "name": "stdout",
     "output_type": "stream",
     "text": [
      "Miau\n",
      "Hau\n"
     ]
    }
   ],
   "source": [
    "zwierze = Kot()\n",
    "zwierze.glos()\n",
    "zwierze = Pies()\n",
    "zwierze.glos()\n",
    "zwierze = Krowa()\n",
    "zwierze.glos()"
   ]
  },
  {
   "cell_type": "markdown",
   "metadata": {},
   "source": [
    "#### Wymuszanie interfejsu"
   ]
  },
  {
   "cell_type": "code",
   "execution_count": 69,
   "metadata": {},
   "outputs": [],
   "source": [
    "class Zwierze:\n",
    "    def glos(self): # wymuszenie interfejsu \n",
    "        raise NotImplementedError(\"Każde zwierzę musi mieć głos\")\n",
    "        \n",
    "class Kot(Zwierze):\n",
    "    def glos(self):\n",
    "        print(\"Miau\")\n",
    "        \n",
    "class Pies(Zwierze):\n",
    "    def glos(self):\n",
    "        print(\"Hau\")\n",
    "        \n",
    "class Ryba(Zwierze):\n",
    "    def glos(self):  # pusta metoda glos - ok - ryby głosu nie mają\n",
    "        pass\n",
    "    \n",
    "class Krowa(Zwierze):\n",
    "    pass    # brak metody glos - błąd"
   ]
  },
  {
   "cell_type": "code",
   "execution_count": 70,
   "metadata": {},
   "outputs": [
    {
     "name": "stdout",
     "output_type": "stream",
     "text": [
      "Miau\n",
      "Hau\n"
     ]
    }
   ],
   "source": [
    "zwierze = Kot()\n",
    "zwierze.glos()\n",
    "zwierze = Pies()\n",
    "zwierze.glos()\n",
    "zwierze = Ryba()\n",
    "zwierze.glos()"
   ]
  },
  {
   "cell_type": "code",
   "execution_count": 71,
   "metadata": {},
   "outputs": [
    {
     "ename": "NotImplementedError",
     "evalue": "Każde zwierzę musi mieć głos",
     "output_type": "error",
     "traceback": [
      "\u001b[1;31m---------------------------------------------------------------------------\u001b[0m",
      "\u001b[1;31mNotImplementedError\u001b[0m                       Traceback (most recent call last)",
      "\u001b[1;32m<ipython-input-71-13d5e7d551b1>\u001b[0m in \u001b[0;36m<module>\u001b[1;34m\u001b[0m\n\u001b[0;32m      1\u001b[0m \u001b[0mzwierze\u001b[0m \u001b[1;33m=\u001b[0m \u001b[0mKrowa\u001b[0m\u001b[1;33m(\u001b[0m\u001b[1;33m)\u001b[0m\u001b[1;33m\u001b[0m\u001b[0m\n\u001b[1;32m----> 2\u001b[1;33m \u001b[0mzwierze\u001b[0m\u001b[1;33m.\u001b[0m\u001b[0mglos\u001b[0m\u001b[1;33m(\u001b[0m\u001b[1;33m)\u001b[0m\u001b[1;33m\u001b[0m\u001b[0m\n\u001b[0m",
      "\u001b[1;32m<ipython-input-69-6f6282bd0e6c>\u001b[0m in \u001b[0;36mglos\u001b[1;34m(self)\u001b[0m\n\u001b[0;32m      1\u001b[0m \u001b[1;32mclass\u001b[0m \u001b[0mZwierze\u001b[0m\u001b[1;33m:\u001b[0m\u001b[1;33m\u001b[0m\u001b[0m\n\u001b[0;32m      2\u001b[0m     \u001b[1;32mdef\u001b[0m \u001b[0mglos\u001b[0m\u001b[1;33m(\u001b[0m\u001b[0mself\u001b[0m\u001b[1;33m)\u001b[0m\u001b[1;33m:\u001b[0m \u001b[1;31m# wymuszenie interfejsu\u001b[0m\u001b[1;33m\u001b[0m\u001b[0m\n\u001b[1;32m----> 3\u001b[1;33m         \u001b[1;32mraise\u001b[0m \u001b[0mNotImplementedError\u001b[0m\u001b[1;33m(\u001b[0m\u001b[1;34m\"Każde zwierzę musi mieć głos\"\u001b[0m\u001b[1;33m)\u001b[0m\u001b[1;33m\u001b[0m\u001b[0m\n\u001b[0m\u001b[0;32m      4\u001b[0m \u001b[1;33m\u001b[0m\u001b[0m\n\u001b[0;32m      5\u001b[0m \u001b[1;32mclass\u001b[0m \u001b[0mKot\u001b[0m\u001b[1;33m(\u001b[0m\u001b[0mZwierze\u001b[0m\u001b[1;33m)\u001b[0m\u001b[1;33m:\u001b[0m\u001b[1;33m\u001b[0m\u001b[0m\n",
      "\u001b[1;31mNotImplementedError\u001b[0m: Każde zwierzę musi mieć głos"
     ]
    }
   ],
   "source": [
    "zwierze = Krowa()\n",
    "zwierze.glos()"
   ]
  },
  {
   "cell_type": "markdown",
   "metadata": {},
   "source": [
    "### Kopiowanie klas (dowolnych kontenerów obiektów).\n",
    "Do kopiowania klas (list, słowników) używamy metod `copy` i `deepcopy` z modułu `copy`.\n",
    "\n",
    "Mamy dwa rodzaje kopiowania:\n",
    "- płytkie - `copy.copy(obiekt)`, tworzy nowy obiekt, ale umieszcza w nim odniesienia do elementów zawartych w oryginalnym obiekcie;\n",
    "- głębokie - `copy.deepcopy(obiekt)` najpierw tworzy nowy obiekt, a nastepnie rekurencyjnie kopiuje do niego całą zawartość oryginału;"
   ]
  },
  {
   "cell_type": "code",
   "execution_count": 72,
   "metadata": {},
   "outputs": [],
   "source": [
    "class MY_POINT:\n",
    "    def __init__(self, x,y):\n",
    "        self.x = x\n",
    "        self.y = y\n",
    "        \n",
    "    def disp(self): #metoda klasy - wypisuje wartość składowych x,y\n",
    "        \"\"\"Metoda klasy wypisująca wartości składowych i, k\"\"\"\n",
    "        print('x = %f, y = %f' % (self.x,self.y))\n",
    "        \n",
    "    def setp(self, xx, yy): #metoda klasy - ustawia wartości x, y\n",
    "        \"\"\"Metoda klasy ustawiająca nową wartość składowych x, y\"\"\"\n",
    "        self.x = xx\n",
    "        self.y = yy"
   ]
  },
  {
   "cell_type": "markdown",
   "metadata": {},
   "source": [
    "Odniesienie do instancji obiektu."
   ]
  },
  {
   "cell_type": "code",
   "execution_count": 73,
   "metadata": {},
   "outputs": [
    {
     "name": "stdout",
     "output_type": "stream",
     "text": [
      "2074148223688 2074148223688\n",
      "x = 10.000000, y = 20.000000\n",
      "x = 10.000000, y = 20.000000\n"
     ]
    }
   ],
   "source": [
    "a = MY_POINT(10, 20)\n",
    "b = a  # a i b to ten sam obiekt\n",
    "print(id(a), id(b))\n",
    "a.disp()\n",
    "b.disp()"
   ]
  },
  {
   "cell_type": "markdown",
   "metadata": {},
   "source": [
    "Tworzenie płytkiej kopii instancji obiektu."
   ]
  },
  {
   "cell_type": "code",
   "execution_count": 74,
   "metadata": {},
   "outputs": [
    {
     "name": "stdout",
     "output_type": "stream",
     "text": [
      "2074148222176 2074148222512\n",
      "x = 1.000000, y = 2.000000\n",
      "x = 10.000000, y = 20.000000\n"
     ]
    },
    {
     "data": {
      "text/plain": [
       "(1647467568, 1647467856)"
      ]
     },
     "execution_count": 74,
     "metadata": {},
     "output_type": "execute_result"
    }
   ],
   "source": [
    "import copy  # moduł copy\n",
    "\n",
    "a = MY_POINT(10, 20)\n",
    "b = copy.copy(a)  # kopiowanie płytkie - copy.copy() kopiowanie dowolnych obiektów\n",
    "print(id(a), id(b))\n",
    "\n",
    "a.setp(1, 2)  # zmiana wartości w obiekcie a\n",
    "a.disp()\n",
    "b.disp()  # bez zmian\n",
    "id(a.x), id(b.x)"
   ]
  },
  {
   "cell_type": "markdown",
   "metadata": {},
   "source": [
    "#### Kopiowanie głębokie\n",
    "Definiowanie klasy zawierającej obiekty innej klasy."
   ]
  },
  {
   "cell_type": "code",
   "execution_count": 75,
   "metadata": {},
   "outputs": [],
   "source": [
    "import math\n",
    "\n",
    "class MY_LINE:\n",
    "    def __init__(self,PS,PE):\n",
    "        self.PointStart = PS\n",
    "        self.PointEnd = PE\n",
    "\n",
    "    def disp(self):  # metoda klasy - wypisuje składowe x,y dla pkt1 i pkt2\n",
    "        \"\"\"Metoda klasy współrzędne pkt.1 i pkt.2\"\"\"\n",
    "        print('begin'), self.PointStart.disp()  # odwołanie do metody disp() w klasie MY_POINT\n",
    "        print('end'), self.PointEnd.disp()  # odwołanie do metody disp() w klasie MY_POINT\n",
    "    \n",
    "    def length(self):\n",
    "        return math.sqrt((self.PointEnd.x - self.PointStart.x)**2+ (self.PointEnd.y-self.PointStart.y)**2)"
   ]
  },
  {
   "cell_type": "markdown",
   "metadata": {},
   "source": [
    "Tworzenie instancji obiektu klasy MY_LINE zawierającej obiekty klasy MY_POINT."
   ]
  },
  {
   "cell_type": "code",
   "execution_count": 76,
   "metadata": {},
   "outputs": [
    {
     "name": "stdout",
     "output_type": "stream",
     "text": [
      "begin\n",
      "x = 10.000000, y = 20.000000\n",
      "end\n",
      "x = 11.000000, y = 21.000000\n"
     ]
    },
    {
     "data": {
      "text/plain": [
       "(2074148221616, 2074148221616)"
      ]
     },
     "execution_count": 76,
     "metadata": {},
     "output_type": "execute_result"
    }
   ],
   "source": [
    "a = MY_POINT(10, 20) # punkt początkowy linii\n",
    "#a.disp()\n",
    "b = MY_POINT(11, 21) # punkt końcowy linii\n",
    "#b.disp()\n",
    "\n",
    "line1 = MY_LINE(a, b) # utworzenie instancji klasy MY_LINE\n",
    "line1.disp() # wypisanie wsp. początku i końca\n",
    "id(a), id(line1.PointStart)"
   ]
  },
  {
   "cell_type": "markdown",
   "metadata": {},
   "source": [
    "Płytkie kopiowanie obiektów."
   ]
  },
  {
   "cell_type": "code",
   "execution_count": 77,
   "metadata": {},
   "outputs": [
    {
     "name": "stdout",
     "output_type": "stream",
     "text": [
      "2074148222176 2074148221952\n",
      "2074148221616 2074148221616\n",
      "begin\n",
      "x = 1.000000, y = 2.000000\n",
      "end\n",
      "x = 11.000000, y = 21.000000\n",
      "begin\n",
      "x = 1.000000, y = 2.000000\n",
      "end\n",
      "x = 11.000000, y = 21.000000\n"
     ]
    }
   ],
   "source": [
    "line2 = copy.copy(line1)  # płytka kopia\n",
    "print(id(line1), id(line2))  # obiekty \"zewnętrzne\" różne\n",
    "print(id(line1.PointStart),id(line2.PointStart))  # składowe/obiekty wewnętrzne te same!!!\n",
    "\n",
    "line1.PointStart.setp(1, 2) #zmiana wartości pkt.1 w line1 powoduje zmianę również w line2!!!\n",
    "\n",
    "line1.disp()  # wypisanie wsp. początku i końca dla line1\n",
    "line2.disp()  # wypisanie wsp. początku i końca dla line2"
   ]
  },
  {
   "cell_type": "markdown",
   "metadata": {},
   "source": [
    "Głębokie kopiowanie obiektów."
   ]
  },
  {
   "cell_type": "code",
   "execution_count": 78,
   "metadata": {},
   "outputs": [
    {
     "name": "stdout",
     "output_type": "stream",
     "text": [
      "2074148865920 2074148224976\n",
      "2074148223016 2074148888872\n",
      "begin\n",
      "x = 1.000000, y = 2.000000\n",
      "end\n",
      "x = 11.000000, y = 21.000000\n",
      "begin\n",
      "x = 10.000000, y = 20.000000\n",
      "end\n",
      "x = 11.000000, y = 21.000000\n"
     ]
    }
   ],
   "source": [
    "import copy  # moduł copy\n",
    "\n",
    "c = MY_POINT(10,20)  # punkt początkowy linii\n",
    "d = MY_POINT(11,21)  # punkt końcowy linii\n",
    "line3 = MY_LINE(c,d)  # utworzenie instancji \n",
    "\n",
    "line4 = copy.deepcopy(line3)  # głęboka kopia\n",
    "print(id(line3),id(line4))  # obiekty \"zewnętrzne\" różne\n",
    "print(id(line3.PointStart),id(line4.PointStart))  # składowe/obiekty wewnętrzne różne!!!\n",
    "line3.PointStart.setp(1,2)  # zmiana wartości pkt.1 w line3 nie powoduje zmiany w line4!!!\n",
    "\n",
    "line3.disp()  # wypisanie wsp. początku i końca dla line3\n",
    "line4.disp()  # wypisanie wsp. początku i końca dla line4"
   ]
  },
  {
   "cell_type": "code",
   "execution_count": 79,
   "metadata": {},
   "outputs": [
    {
     "name": "stdout",
     "output_type": "stream",
     "text": [
      "21.470910553583888\n"
     ]
    },
    {
     "data": {
      "text/plain": [
       "1.4142135623730951"
      ]
     },
     "execution_count": 79,
     "metadata": {},
     "output_type": "execute_result"
    }
   ],
   "source": [
    "print(line3.length())\n",
    "line4.length()"
   ]
  },
  {
   "cell_type": "code",
   "execution_count": null,
   "metadata": {},
   "outputs": [],
   "source": []
  }
 ],
 "metadata": {
  "kernelspec": {
   "display_name": "Python 3",
   "language": "python",
   "name": "python3"
  },
  "language_info": {
   "codemirror_mode": {
    "name": "ipython",
    "version": 3
   },
   "file_extension": ".py",
   "mimetype": "text/x-python",
   "name": "python",
   "nbconvert_exporter": "python",
   "pygments_lexer": "ipython3",
   "version": "3.6.6"
  }
 },
 "nbformat": 4,
 "nbformat_minor": 2
}
