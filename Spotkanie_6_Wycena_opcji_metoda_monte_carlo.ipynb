{
 "cells": [
  {
   "cell_type": "markdown",
   "metadata": {},
   "source": [
    "### Przykład wyceny opcji europejskiej metodą monte carlo\n",
    "Na zajęciach wycenialiśmy opcje na akcje spółki TAURONPE, niestety na GPW dostępne są opcje tylko na WIG20, dla porównania z realną ceną na rynku w poniższym przykładzie wyceniona zostanie opcja kupna na WIG20 o terminie realizacji styczeń 2017 ( https://www.gpw.pl/opcje )"
   ]
  },
  {
   "cell_type": "code",
   "execution_count": 1,
   "metadata": {
    "collapsed": true
   },
   "outputs": [],
   "source": [
    "import numpy as np\n",
    "import pandas as pd"
   ]
  },
  {
   "cell_type": "markdown",
   "metadata": {},
   "source": [
    "#### Przygotowanie danych"
   ]
  },
  {
   "cell_type": "code",
   "execution_count": 2,
   "metadata": {
    "collapsed": false
   },
   "outputs": [
    {
     "data": {
      "text/plain": [
       "5630"
      ]
     },
     "execution_count": 2,
     "metadata": {},
     "output_type": "execute_result"
    }
   ],
   "source": [
    "# wcztanie notowań WIG20 (dane pobrane z bossa.pl)\n",
    "wig = pd.read_csv('WIG20.txt')\n",
    "len(wig)"
   ]
  },
  {
   "cell_type": "code",
   "execution_count": 3,
   "metadata": {
    "collapsed": false
   },
   "outputs": [
    {
     "data": {
      "text/html": [
       "<div>\n",
       "<table border=\"1\" class=\"dataframe\">\n",
       "  <thead>\n",
       "    <tr style=\"text-align: right;\">\n",
       "      <th></th>\n",
       "      <th>Name</th>\n",
       "      <th>Date</th>\n",
       "      <th>Open</th>\n",
       "      <th>High</th>\n",
       "      <th>Low</th>\n",
       "      <th>Close</th>\n",
       "      <th>Volume</th>\n",
       "    </tr>\n",
       "  </thead>\n",
       "  <tbody>\n",
       "    <tr>\n",
       "      <th>0</th>\n",
       "      <td>WIG20</td>\n",
       "      <td>19940414</td>\n",
       "      <td>1000.0</td>\n",
       "      <td>1000.0</td>\n",
       "      <td>1000.0</td>\n",
       "      <td>1000.0</td>\n",
       "      <td>35800.0</td>\n",
       "    </tr>\n",
       "    <tr>\n",
       "      <th>1</th>\n",
       "      <td>WIG20</td>\n",
       "      <td>19940418</td>\n",
       "      <td>1050.5</td>\n",
       "      <td>1050.5</td>\n",
       "      <td>1050.5</td>\n",
       "      <td>1050.5</td>\n",
       "      <td>49975.0</td>\n",
       "    </tr>\n",
       "    <tr>\n",
       "      <th>2</th>\n",
       "      <td>WIG20</td>\n",
       "      <td>19940419</td>\n",
       "      <td>1124.9</td>\n",
       "      <td>1124.9</td>\n",
       "      <td>1124.9</td>\n",
       "      <td>1124.9</td>\n",
       "      <td>69029.5</td>\n",
       "    </tr>\n",
       "    <tr>\n",
       "      <th>3</th>\n",
       "      <td>WIG20</td>\n",
       "      <td>19940421</td>\n",
       "      <td>1304.8</td>\n",
       "      <td>1304.8</td>\n",
       "      <td>1304.8</td>\n",
       "      <td>1304.8</td>\n",
       "      <td>77075.5</td>\n",
       "    </tr>\n",
       "    <tr>\n",
       "      <th>4</th>\n",
       "      <td>WIG20</td>\n",
       "      <td>19940425</td>\n",
       "      <td>1350.1</td>\n",
       "      <td>1350.1</td>\n",
       "      <td>1350.1</td>\n",
       "      <td>1350.1</td>\n",
       "      <td>114219.0</td>\n",
       "    </tr>\n",
       "    <tr>\n",
       "      <th>5</th>\n",
       "      <td>WIG20</td>\n",
       "      <td>19940426</td>\n",
       "      <td>1216.2</td>\n",
       "      <td>1216.2</td>\n",
       "      <td>1216.2</td>\n",
       "      <td>1216.2</td>\n",
       "      <td>8309.0</td>\n",
       "    </tr>\n",
       "    <tr>\n",
       "      <th>6</th>\n",
       "      <td>WIG20</td>\n",
       "      <td>19940428</td>\n",
       "      <td>1096.7</td>\n",
       "      <td>1096.7</td>\n",
       "      <td>1096.7</td>\n",
       "      <td>1096.7</td>\n",
       "      <td>16342.5</td>\n",
       "    </tr>\n",
       "    <tr>\n",
       "      <th>7</th>\n",
       "      <td>WIG20</td>\n",
       "      <td>19940505</td>\n",
       "      <td>1138.1</td>\n",
       "      <td>1138.1</td>\n",
       "      <td>1138.1</td>\n",
       "      <td>1138.1</td>\n",
       "      <td>56888.5</td>\n",
       "    </tr>\n",
       "    <tr>\n",
       "      <th>8</th>\n",
       "      <td>WIG20</td>\n",
       "      <td>19940506</td>\n",
       "      <td>1077.6</td>\n",
       "      <td>1077.6</td>\n",
       "      <td>1077.6</td>\n",
       "      <td>1077.6</td>\n",
       "      <td>68955.0</td>\n",
       "    </tr>\n",
       "    <tr>\n",
       "      <th>9</th>\n",
       "      <td>WIG20</td>\n",
       "      <td>19940509</td>\n",
       "      <td>1035.6</td>\n",
       "      <td>1035.6</td>\n",
       "      <td>1035.6</td>\n",
       "      <td>1035.6</td>\n",
       "      <td>48545.5</td>\n",
       "    </tr>\n",
       "  </tbody>\n",
       "</table>\n",
       "</div>"
      ],
      "text/plain": [
       "    Name      Date    Open    High     Low   Close    Volume\n",
       "0  WIG20  19940414  1000.0  1000.0  1000.0  1000.0   35800.0\n",
       "1  WIG20  19940418  1050.5  1050.5  1050.5  1050.5   49975.0\n",
       "2  WIG20  19940419  1124.9  1124.9  1124.9  1124.9   69029.5\n",
       "3  WIG20  19940421  1304.8  1304.8  1304.8  1304.8   77075.5\n",
       "4  WIG20  19940425  1350.1  1350.1  1350.1  1350.1  114219.0\n",
       "5  WIG20  19940426  1216.2  1216.2  1216.2  1216.2    8309.0\n",
       "6  WIG20  19940428  1096.7  1096.7  1096.7  1096.7   16342.5\n",
       "7  WIG20  19940505  1138.1  1138.1  1138.1  1138.1   56888.5\n",
       "8  WIG20  19940506  1077.6  1077.6  1077.6  1077.6   68955.0\n",
       "9  WIG20  19940509  1035.6  1035.6  1035.6  1035.6   48545.5"
      ]
     },
     "execution_count": 3,
     "metadata": {},
     "output_type": "execute_result"
    }
   ],
   "source": [
    "wig.head(10)"
   ]
  },
  {
   "cell_type": "code",
   "execution_count": 4,
   "metadata": {
    "collapsed": false
   },
   "outputs": [
    {
     "data": {
      "text/html": [
       "<div>\n",
       "<table border=\"1\" class=\"dataframe\">\n",
       "  <thead>\n",
       "    <tr style=\"text-align: right;\">\n",
       "      <th></th>\n",
       "      <th>Name</th>\n",
       "      <th>Date</th>\n",
       "      <th>Open</th>\n",
       "      <th>High</th>\n",
       "      <th>Low</th>\n",
       "      <th>Close</th>\n",
       "      <th>Volume</th>\n",
       "    </tr>\n",
       "  </thead>\n",
       "  <tbody>\n",
       "    <tr>\n",
       "      <th>5620</th>\n",
       "      <td>WIG20</td>\n",
       "      <td>20161117</td>\n",
       "      <td>1761.95</td>\n",
       "      <td>1766.31</td>\n",
       "      <td>1739.73</td>\n",
       "      <td>1742.39</td>\n",
       "      <td>494463.691</td>\n",
       "    </tr>\n",
       "    <tr>\n",
       "      <th>5621</th>\n",
       "      <td>WIG20</td>\n",
       "      <td>20161118</td>\n",
       "      <td>1736.82</td>\n",
       "      <td>1741.60</td>\n",
       "      <td>1717.55</td>\n",
       "      <td>1725.74</td>\n",
       "      <td>508117.755</td>\n",
       "    </tr>\n",
       "    <tr>\n",
       "      <th>5622</th>\n",
       "      <td>WIG20</td>\n",
       "      <td>20161121</td>\n",
       "      <td>1731.39</td>\n",
       "      <td>1757.81</td>\n",
       "      <td>1731.39</td>\n",
       "      <td>1756.35</td>\n",
       "      <td>679537.248</td>\n",
       "    </tr>\n",
       "    <tr>\n",
       "      <th>5623</th>\n",
       "      <td>WIG20</td>\n",
       "      <td>20161122</td>\n",
       "      <td>1765.41</td>\n",
       "      <td>1779.86</td>\n",
       "      <td>1765.41</td>\n",
       "      <td>1775.66</td>\n",
       "      <td>604597.284</td>\n",
       "    </tr>\n",
       "    <tr>\n",
       "      <th>5624</th>\n",
       "      <td>WIG20</td>\n",
       "      <td>20161123</td>\n",
       "      <td>1772.69</td>\n",
       "      <td>1796.63</td>\n",
       "      <td>1772.66</td>\n",
       "      <td>1796.63</td>\n",
       "      <td>637727.304</td>\n",
       "    </tr>\n",
       "    <tr>\n",
       "      <th>5625</th>\n",
       "      <td>WIG20</td>\n",
       "      <td>20161124</td>\n",
       "      <td>1798.00</td>\n",
       "      <td>1811.99</td>\n",
       "      <td>1795.48</td>\n",
       "      <td>1807.27</td>\n",
       "      <td>415179.072</td>\n",
       "    </tr>\n",
       "    <tr>\n",
       "      <th>5626</th>\n",
       "      <td>WIG20</td>\n",
       "      <td>20161125</td>\n",
       "      <td>1810.46</td>\n",
       "      <td>1812.80</td>\n",
       "      <td>1785.16</td>\n",
       "      <td>1796.30</td>\n",
       "      <td>599206.527</td>\n",
       "    </tr>\n",
       "    <tr>\n",
       "      <th>5627</th>\n",
       "      <td>WIG20</td>\n",
       "      <td>20161128</td>\n",
       "      <td>1794.64</td>\n",
       "      <td>1796.61</td>\n",
       "      <td>1774.67</td>\n",
       "      <td>1776.30</td>\n",
       "      <td>465582.746</td>\n",
       "    </tr>\n",
       "    <tr>\n",
       "      <th>5628</th>\n",
       "      <td>WIG20</td>\n",
       "      <td>20161129</td>\n",
       "      <td>1777.84</td>\n",
       "      <td>1785.08</td>\n",
       "      <td>1771.13</td>\n",
       "      <td>1780.04</td>\n",
       "      <td>561733.341</td>\n",
       "    </tr>\n",
       "    <tr>\n",
       "      <th>5629</th>\n",
       "      <td>WIG20</td>\n",
       "      <td>20161130</td>\n",
       "      <td>1783.45</td>\n",
       "      <td>1808.78</td>\n",
       "      <td>1783.06</td>\n",
       "      <td>1798.22</td>\n",
       "      <td>1270309.852</td>\n",
       "    </tr>\n",
       "  </tbody>\n",
       "</table>\n",
       "</div>"
      ],
      "text/plain": [
       "       Name      Date     Open     High      Low    Close       Volume\n",
       "5620  WIG20  20161117  1761.95  1766.31  1739.73  1742.39   494463.691\n",
       "5621  WIG20  20161118  1736.82  1741.60  1717.55  1725.74   508117.755\n",
       "5622  WIG20  20161121  1731.39  1757.81  1731.39  1756.35   679537.248\n",
       "5623  WIG20  20161122  1765.41  1779.86  1765.41  1775.66   604597.284\n",
       "5624  WIG20  20161123  1772.69  1796.63  1772.66  1796.63   637727.304\n",
       "5625  WIG20  20161124  1798.00  1811.99  1795.48  1807.27   415179.072\n",
       "5626  WIG20  20161125  1810.46  1812.80  1785.16  1796.30   599206.527\n",
       "5627  WIG20  20161128  1794.64  1796.61  1774.67  1776.30   465582.746\n",
       "5628  WIG20  20161129  1777.84  1785.08  1771.13  1780.04   561733.341\n",
       "5629  WIG20  20161130  1783.45  1808.78  1783.06  1798.22  1270309.852"
      ]
     },
     "execution_count": 4,
     "metadata": {},
     "output_type": "execute_result"
    }
   ],
   "source": [
    "wig.tail(10)"
   ]
  },
  {
   "cell_type": "code",
   "execution_count": 5,
   "metadata": {
    "collapsed": false
   },
   "outputs": [],
   "source": [
    "# mamy dane dzienne od 199404.14 do 2016.11.30\n",
    "# do wyliczenia zmienności historycznej weźmiemy tylko done od 2015 roku\n",
    "# i wystarczą nam tylko ceny zamknięcia\n",
    "wig = wig[['Date', 'Close']]\n",
    "# kolumna Date jako obiekt datetime\n",
    "wig['Date']=wig['Date'].apply(pd.to_datetime, format='%Y%m%d')"
   ]
  },
  {
   "cell_type": "code",
   "execution_count": 6,
   "metadata": {
    "collapsed": false
   },
   "outputs": [
    {
     "data": {
      "text/html": [
       "<div>\n",
       "<table border=\"1\" class=\"dataframe\">\n",
       "  <thead>\n",
       "    <tr style=\"text-align: right;\">\n",
       "      <th></th>\n",
       "      <th>Close</th>\n",
       "    </tr>\n",
       "    <tr>\n",
       "      <th>Date</th>\n",
       "      <th></th>\n",
       "    </tr>\n",
       "  </thead>\n",
       "  <tbody>\n",
       "    <tr>\n",
       "      <th>1994-04-14</th>\n",
       "      <td>1000.0</td>\n",
       "    </tr>\n",
       "    <tr>\n",
       "      <th>1994-04-18</th>\n",
       "      <td>1050.5</td>\n",
       "    </tr>\n",
       "    <tr>\n",
       "      <th>1994-04-19</th>\n",
       "      <td>1124.9</td>\n",
       "    </tr>\n",
       "    <tr>\n",
       "      <th>1994-04-21</th>\n",
       "      <td>1304.8</td>\n",
       "    </tr>\n",
       "    <tr>\n",
       "      <th>1994-04-25</th>\n",
       "      <td>1350.1</td>\n",
       "    </tr>\n",
       "    <tr>\n",
       "      <th>1994-04-26</th>\n",
       "      <td>1216.2</td>\n",
       "    </tr>\n",
       "    <tr>\n",
       "      <th>1994-04-28</th>\n",
       "      <td>1096.7</td>\n",
       "    </tr>\n",
       "    <tr>\n",
       "      <th>1994-05-05</th>\n",
       "      <td>1138.1</td>\n",
       "    </tr>\n",
       "    <tr>\n",
       "      <th>1994-05-06</th>\n",
       "      <td>1077.6</td>\n",
       "    </tr>\n",
       "    <tr>\n",
       "      <th>1994-05-09</th>\n",
       "      <td>1035.6</td>\n",
       "    </tr>\n",
       "  </tbody>\n",
       "</table>\n",
       "</div>"
      ],
      "text/plain": [
       "             Close\n",
       "Date              \n",
       "1994-04-14  1000.0\n",
       "1994-04-18  1050.5\n",
       "1994-04-19  1124.9\n",
       "1994-04-21  1304.8\n",
       "1994-04-25  1350.1\n",
       "1994-04-26  1216.2\n",
       "1994-04-28  1096.7\n",
       "1994-05-05  1138.1\n",
       "1994-05-06  1077.6\n",
       "1994-05-09  1035.6"
      ]
     },
     "execution_count": 6,
     "metadata": {},
     "output_type": "execute_result"
    }
   ],
   "source": [
    "# kolumna date jako indeks tabeli\n",
    "wig = wig.set_index('Date')\n",
    "wig.head(10)"
   ]
  },
  {
   "cell_type": "code",
   "execution_count": 7,
   "metadata": {
    "collapsed": false
   },
   "outputs": [
    {
     "data": {
      "text/html": [
       "<div>\n",
       "<table border=\"1\" class=\"dataframe\">\n",
       "  <thead>\n",
       "    <tr style=\"text-align: right;\">\n",
       "      <th></th>\n",
       "      <th>Close</th>\n",
       "    </tr>\n",
       "    <tr>\n",
       "      <th>Date</th>\n",
       "      <th></th>\n",
       "    </tr>\n",
       "  </thead>\n",
       "  <tbody>\n",
       "    <tr>\n",
       "      <th>2015-01-02</th>\n",
       "      <td>2309.39</td>\n",
       "    </tr>\n",
       "    <tr>\n",
       "      <th>2015-01-05</th>\n",
       "      <td>2264.75</td>\n",
       "    </tr>\n",
       "    <tr>\n",
       "      <th>2015-01-07</th>\n",
       "      <td>2307.46</td>\n",
       "    </tr>\n",
       "    <tr>\n",
       "      <th>2015-01-08</th>\n",
       "      <td>2361.48</td>\n",
       "    </tr>\n",
       "    <tr>\n",
       "      <th>2015-01-09</th>\n",
       "      <td>2337.21</td>\n",
       "    </tr>\n",
       "  </tbody>\n",
       "</table>\n",
       "</div>"
      ],
      "text/plain": [
       "              Close\n",
       "Date               \n",
       "2015-01-02  2309.39\n",
       "2015-01-05  2264.75\n",
       "2015-01-07  2307.46\n",
       "2015-01-08  2361.48\n",
       "2015-01-09  2337.21"
      ]
     },
     "execution_count": 7,
     "metadata": {},
     "output_type": "execute_result"
    }
   ],
   "source": [
    "# dane tylko od 2015\n",
    "wig = wig[wig.index >= pd.datetime(2015, 1, 1)]\n",
    "wig.head()"
   ]
  },
  {
   "cell_type": "markdown",
   "metadata": {},
   "source": [
    "#### Zmienność historyczna"
   ]
  },
  {
   "cell_type": "code",
   "execution_count": 8,
   "metadata": {
    "collapsed": false
   },
   "outputs": [
    {
     "data": {
      "text/html": [
       "<div>\n",
       "<table border=\"1\" class=\"dataframe\">\n",
       "  <thead>\n",
       "    <tr style=\"text-align: right;\">\n",
       "      <th></th>\n",
       "      <th>Close</th>\n",
       "      <th>Log_ret</th>\n",
       "    </tr>\n",
       "    <tr>\n",
       "      <th>Date</th>\n",
       "      <th></th>\n",
       "      <th></th>\n",
       "    </tr>\n",
       "  </thead>\n",
       "  <tbody>\n",
       "    <tr>\n",
       "      <th>2015-01-05</th>\n",
       "      <td>2264.75</td>\n",
       "      <td>-0.019519</td>\n",
       "    </tr>\n",
       "    <tr>\n",
       "      <th>2015-01-07</th>\n",
       "      <td>2307.46</td>\n",
       "      <td>0.018683</td>\n",
       "    </tr>\n",
       "    <tr>\n",
       "      <th>2015-01-08</th>\n",
       "      <td>2361.48</td>\n",
       "      <td>0.023141</td>\n",
       "    </tr>\n",
       "    <tr>\n",
       "      <th>2015-01-09</th>\n",
       "      <td>2337.21</td>\n",
       "      <td>-0.010331</td>\n",
       "    </tr>\n",
       "    <tr>\n",
       "      <th>2015-01-12</th>\n",
       "      <td>2330.04</td>\n",
       "      <td>-0.003072</td>\n",
       "    </tr>\n",
       "  </tbody>\n",
       "</table>\n",
       "</div>"
      ],
      "text/plain": [
       "              Close   Log_ret\n",
       "Date                         \n",
       "2015-01-05  2264.75 -0.019519\n",
       "2015-01-07  2307.46  0.018683\n",
       "2015-01-08  2361.48  0.023141\n",
       "2015-01-09  2337.21 -0.010331\n",
       "2015-01-12  2330.04 -0.003072"
      ]
     },
     "execution_count": 8,
     "metadata": {},
     "output_type": "execute_result"
    }
   ],
   "source": [
    "# pomocnicza kolumna przesunięta o 1 przesuniecie o jeden\n",
    "wig['Close_temp'] = wig['Close'].shift(1)\n",
    "# logarytmiczne stopy zwrotu\n",
    "wig['Log_ret'] = np.log(wig['Close']/wig['Close_temp'])\n",
    "# usunięcie pomocniczej kolumny\n",
    "wig = wig[['Close','Log_ret']]\n",
    "# usunięcie NaN\n",
    "wig = wig.dropna()\n",
    "wig.head()"
   ]
  },
  {
   "cell_type": "code",
   "execution_count": 9,
   "metadata": {
    "collapsed": false
   },
   "outputs": [
    {
     "name": "stdout",
     "output_type": "stream",
     "text": [
      "0.181441747772\n"
     ]
    }
   ],
   "source": [
    "# zmienność dzienna\n",
    "v = np.var(wig['Log_ret'].values) # wariancja\n",
    "s = np.sqrt(v) #odchylenie standardowe\n",
    "# zmienność roczna\n",
    "SIG = np.sqrt(252)*s\n",
    "print(SIG)"
   ]
  },
  {
   "cell_type": "markdown",
   "metadata": {},
   "source": [
    "#### Model ceny akcji, model Blacka-Scholesa"
   ]
  },
  {
   "cell_type": "code",
   "execution_count": 10,
   "metadata": {
    "collapsed": true
   },
   "outputs": [],
   "source": [
    "# cena akcji nastepnego dnia\n",
    "# c_p cena poprzednio\n",
    "# r - stopa wolna od ryzyka\n",
    "# s - zmienność\n",
    "def cena_akcji(c_p, r, s):\n",
    "    ran = np.random.randn() # zmienna losowa o rozkładzie N(0,1)\n",
    "    return c_p*np.exp((r-0.5*s**2)*(1./252) + s*np.sqrt(1./252)*ran)"
   ]
  },
  {
   "cell_type": "markdown",
   "metadata": {},
   "source": [
    "#### Wycena opcji kupna, symulaca monte carlo"
   ]
  },
  {
   "cell_type": "code",
   "execution_count": 11,
   "metadata": {
    "collapsed": false
   },
   "outputs": [
    {
     "name": "stdout",
     "output_type": "stream",
     "text": [
      "100000 36 1798.22 1800 0.017 0.181441747772\n"
     ]
    }
   ],
   "source": [
    "# parametry\n",
    "N = 100000 # liczba symulacji\n",
    "T = 36 # czas do wygaśniecia opcji 20.01.2017\n",
    "S0 = wig['Close'][-1] # cena poczatkowa 30.11.2016\n",
    "K = 1800 # cena wykonania\n",
    "r = 0.017 # stopa wolna od ryzyka, rentownosc 2letnich obligacji\n",
    "s = SIG # zmiennosc historyczna\n",
    "print(N,T,S0,K,r,s)"
   ]
  },
  {
   "cell_type": "code",
   "execution_count": 12,
   "metadata": {
    "collapsed": false
   },
   "outputs": [
    {
     "name": "stdout",
     "output_type": "stream",
     "text": [
      "50.2506671815\n"
     ]
    }
   ],
   "source": [
    "# monte carlo\n",
    "ceny = []\n",
    "for i in range(N):\n",
    "    cena_p = S0\n",
    "    for t in range(T):\n",
    "        cena_n = cena_akcji(cena_p, r, s)\n",
    "        cena_p = cena_n\n",
    "    ceny.append(cena_n)\n",
    "\n",
    "# wypłaty\n",
    "W = np.array(ceny) - K\n",
    "W = np.array([el if el > 0 else 0 for el in W])\n",
    "# średnia wypłata\n",
    "avg_W = np.average(W)\n",
    "# zdyskontowana średnia wypłata, cena opcji\n",
    "cena_opcji = np.exp(-r*(T/252.0))*avg_W\n",
    "print(cena_opcji)"
   ]
  },
  {
   "cell_type": "markdown",
   "metadata": {},
   "source": [
    "Cena opcji na gpw w dniu 30.11.2016: od 45.50 do 47.00 "
   ]
  },
  {
   "cell_type": "markdown",
   "metadata": {},
   "source": [
    "Trajektorie - realizacje"
   ]
  },
  {
   "cell_type": "code",
   "execution_count": 13,
   "metadata": {
    "collapsed": false
   },
   "outputs": [
    {
     "data": {
      "image/png": "[encoded data removed]",
      "text/plain": [
       "<matplotlib.figure.Figure at 0x9030208>"
      ]
     },
     "metadata": {},
     "output_type": "display_data"
    }
   ],
   "source": [
    "import matplotlib.pyplot as plt\n",
    "#%matplotlib tk\n",
    "N = 20\n",
    "ceny = []\n",
    "for i in range(N):\n",
    "    cena = [S0]\n",
    "    for t in range(T):\n",
    "        cena.append(cena_akcji(cena[-1], r, s))\n",
    "    ceny.append(cena)\n",
    "\n",
    "fig = plt.figure()\n",
    "for tr in ceny:\n",
    "    plt.plot(tr)\n",
    "plt.show()"
   ]
  },
  {
   "cell_type": "code",
   "execution_count": null,
   "metadata": {
    "collapsed": true
   },
   "outputs": [],
   "source": []
  }
 ],
 "metadata": {
  "anaconda-cloud": {},
  "kernelspec": {
   "display_name": "Python [conda root]",
   "language": "python",
   "name": "conda-root-py"
  },
  "language_info": {
   "codemirror_mode": {
    "name": "ipython",
    "version": 3
   },
   "file_extension": ".py",
   "mimetype": "text/x-python",
   "name": "python",
   "nbconvert_exporter": "python",
   "pygments_lexer": "ipython3",
   "version": "3.5.2"
  }
 },
 "nbformat": 4,
 "nbformat_minor": 1
}
