{
 "cells": [
  {
   "cell_type": "markdown",
   "metadata": {},
   "source": [
    "## Instrukcje warunkowe: `if`, `if else`, `if elif else`\n",
    "Do wykonywania prostych testów (sprawdzania warunków) służą instrukcje `if` i `else`.\n",
    "\n",
    "Struktura składni ma postać:\n",
    "\n",
    "```python\n",
    "if warunek:\n",
    "\tinstrukcje_1\n",
    "else:\n",
    "    instrukcje_2\n",
    "```    \n",
    "Warunki zwarcają wartość `True` lub `False`. \n",
    "\n",
    "Zawartość bloków instrukcji ustalana jest na podstawie wcięć. Klauzula `else` nie jest obowiązkowa."
   ]
  },
  {
   "cell_type": "code",
   "execution_count": 1,
   "metadata": {},
   "outputs": [
    {
     "name": "stdout",
     "output_type": "stream",
     "text": [
      "5\n"
     ]
    }
   ],
   "source": [
    "a = 2\n",
    "b = 3\n",
    "if a < b:  # jeżeli warunek jest True to wykonaj instrukcje w bloku (instrukcje z wcięciami (tab))\n",
    "    print(a+b)"
   ]
  },
  {
   "cell_type": "code",
   "execution_count": 2,
   "metadata": {},
   "outputs": [
    {
     "name": "stdout",
     "output_type": "stream",
     "text": [
      "7\n"
     ]
    }
   ],
   "source": [
    "a = 3\n",
    "b = 4\n",
    "if a < b:  # gdy warunek prawdziwy\n",
    "    print(a+b) \n",
    "else:    # gdy warunek fałszywy\n",
    "    print(a-b)"
   ]
  },
  {
   "cell_type": "markdown",
   "metadata": {},
   "source": [
    "Nie ma ograniczenia odnośnie liczby instrukcji w bloku, ale musi występować co najmniej jedna. Jeżeli nie mamy nic do zrobienia w danym bloku stosujemy instrukcję `pass`."
   ]
  },
  {
   "cell_type": "code",
   "execution_count": 3,
   "metadata": {},
   "outputs": [],
   "source": [
    "a = 3\n",
    "b = 4\n",
    "if a < b:  # gdy warunek prawdziwy\n",
    "    pass   # nic nie rób \n",
    "else:      # gdy warunek fałszywy\n",
    "    print(a-b)"
   ]
  },
  {
   "cell_type": "markdown",
   "metadata": {},
   "source": [
    "### Operatory `and`, `or` i `not`\n",
    "Używając operatorów `and`, `or` i `not` tworzymy wyrażenia boolowskie."
   ]
  },
  {
   "cell_type": "code",
   "execution_count": 4,
   "metadata": {},
   "outputs": [
    {
     "name": "stdout",
     "output_type": "stream",
     "text": [
      "10 10 10; 10 10 10\n"
     ]
    }
   ],
   "source": [
    "# warunkiem może być dowolne wyrażenie zwracające True lub False\n",
    "a = 10\n",
    "if a < 20 and a >5 :\n",
    "    print(a, a, a, end='; ')\n",
    "    \n",
    "# to samo mozemy zapisać prościej\n",
    "if 5 < a < 20:\n",
    "    print(a, a, a)"
   ]
  },
  {
   "cell_type": "markdown",
   "metadata": {},
   "source": [
    "### Łańcuchowa instrukcja warunkowa \n",
    "Do sprawdzenia wielu różnych warunków używamy instrukcji `elif`. Każdy warunek jest kolejno sprawdzany do momentu, aż dany warunek jest prawdziwy. Klauzula `else` nie jest obowiązkowa. Jeżeli klauzula `else` występuje musi znależć się na końcu."
   ]
  },
  {
   "cell_type": "code",
   "execution_count": 5,
   "metadata": {},
   "outputs": [
    {
     "name": "stdout",
     "output_type": "stream",
     "text": [
      "80\n"
     ]
    }
   ],
   "source": [
    "a = 10\n",
    "b = 8\n",
    "if a < b:       # gdy warunek prawdziwy\n",
    "    print(a+b) \n",
    "elif a < 2*b:   # kolejny warunek gdy poprzedni nie jest spełniony\n",
    "    print(a*b)    \n",
    "else:           # gdy warunek fałszywy\n",
    "    print(a-b)"
   ]
  },
  {
   "cell_type": "markdown",
   "metadata": {},
   "source": [
    "### Zagnieżdżona instrukcja warunkowa \n",
    "Jedna instrukcja warunkowa może zostać zagnieżdżona w drugiej. __Uwaga na wcięcia!__."
   ]
  },
  {
   "cell_type": "code",
   "execution_count": 6,
   "metadata": {},
   "outputs": [
    {
     "name": "stdout",
     "output_type": "stream",
     "text": [
      "a większe od b\n"
     ]
    }
   ],
   "source": [
    "a = 10\n",
    "b = 8\n",
    "if a == b:     # gdy warunek prawdziwy\n",
    "    print('a i b są równe') \n",
    "else:          # gdy warunek fałszywy\n",
    "    if a < b:  #zagnieżdżenie - gdy warunek prawdziwy\n",
    "        print('a mniejsze od b')\n",
    "    else:      #zagnieżdżenie - gdy warunek fałszywy\n",
    "        print('a większe od b')"
   ]
  },
  {
   "cell_type": "markdown",
   "metadata": {},
   "source": [
    "### Wprowadzanie wartości z klawiatury `input()`\n",
    "Funkcja `input()` zwraca obiekt typi `str` (łańcuch znaków/napis). Wobec czego jeśli chcemy wprowadzić liczbę musimy ją po wczytaniu skonwertować na odpowiedni typ stosują metody `int()`, `float()` lub `complex()`. "
   ]
  },
  {
   "cell_type": "code",
   "execution_count": 7,
   "metadata": {},
   "outputs": [
    {
     "name": "stdout",
     "output_type": "stream",
     "text": [
      "3.5\n",
      "Wprowadzona wartość to: 3.5\n",
      "Typ wprowadzonej wartości: <class 'str'>\n"
     ]
    }
   ],
   "source": [
    "a = input()\n",
    "print('Wprowadzona wartość to:', a)\n",
    "print('Typ wprowadzonej wartości:', type(a))"
   ]
  },
  {
   "cell_type": "markdown",
   "metadata": {},
   "source": [
    "## Pętla `while`\n",
    "Struktura składni ma postać:\n",
    "\n",
    "```python\n",
    "while warunek:\n",
    "\tinstrukcje\n",
    "```\n",
    "Określ czy warunek jest `True` lub `False`. Jeżeli jest fałszywy zakończ instrukcję `while` i przejdź dalej. Jeżeli warunek prawdziwy wykonaj `instrukcje` i znowu sprawdź warunek. Zawartość bloku instrukcji ustalana jest na podstawie wcięć.\n",
    "\n",
    "W pętli `while` możliwe jest równiez dodanie bloku `else`, który będzie zawierał instrukcje do wykonania w przypadku gdy warunek będzie fałszywy."
   ]
  },
  {
   "cell_type": "code",
   "execution_count": 8,
   "metadata": {},
   "outputs": [
    {
     "name": "stdout",
     "output_type": "stream",
     "text": [
      "0 1 2 3 4 5 6 7 8 9 "
     ]
    }
   ],
   "source": [
    "i=0\n",
    "while i < 10: #sprawdź warunek, jeżeli True wykonuj instrukcje w bloku i znowu sprawdź warunek\n",
    "    print(i, end=' ') \n",
    "    i=i+1  # mozna krócej i+=1, Uwaga: nie ma czegoś takiego jak w C: i++"
   ]
  },
  {
   "cell_type": "markdown",
   "metadata": {},
   "source": [
    "## Pętla `for`\n",
    "Pętla `for` w języku Python działa jak pętla `foreach` w niektórych innych językach i składa się z dwóch słów kluczowych `for` oraz `in`. \n",
    "\n",
    "Struktura składni ma postać:\n",
    "```python\n",
    "for zmienna in zbiór_wartości:\n",
    "\tinstrukcje\n",
    "```\n",
    "Wykonuje iteracje po wszystkich elementach zbioru (napis, lista, tupla, słownik)."
   ]
  },
  {
   "cell_type": "code",
   "execution_count": 9,
   "metadata": {},
   "outputs": [
    {
     "name": "stdout",
     "output_type": "stream",
     "text": [
      "1 2 6 7 "
     ]
    }
   ],
   "source": [
    "for i in [1,2,6,7]:\n",
    "    print(i, end=' ')"
   ]
  },
  {
   "cell_type": "markdown",
   "metadata": {},
   "source": [
    "Iterować można nie tylko po listach, ale po wszystkim co posiada jakieś elementy (tzw. typy sekwencyjne, iteratory)."
   ]
  },
  {
   "cell_type": "code",
   "execution_count": 10,
   "metadata": {},
   "outputs": [
    {
     "name": "stdout",
     "output_type": "stream",
     "text": [
      "m a t e m a t y k a "
     ]
    }
   ],
   "source": [
    "for litera in 'matematyka':\n",
    "    print(litera, end=' ')"
   ]
  },
  {
   "cell_type": "markdown",
   "metadata": {},
   "source": [
    "### Funkcja `range`\n",
    "Przydatnym obiektem przy używaniu pętli jest obiekt `range()`. Funkcja `range()` tworzy listę wartości z przedziału określonego przez trzy argumenty: poczatek, koniec, przyrost."
   ]
  },
  {
   "cell_type": "code",
   "execution_count": 11,
   "metadata": {},
   "outputs": [
    {
     "data": {
      "text/plain": [
       "range(0, 10)"
      ]
     },
     "execution_count": 11,
     "metadata": {},
     "output_type": "execute_result"
    }
   ],
   "source": [
    "range(10)  # generator przedziału liczb całkowitych od 0 do 9 (10 elementow)"
   ]
  },
  {
   "cell_type": "code",
   "execution_count": 12,
   "metadata": {},
   "outputs": [
    {
     "data": {
      "text/plain": [
       "[0, 1, 2, 3, 4, 5, 6, 7, 8, 9]"
      ]
     },
     "execution_count": 12,
     "metadata": {},
     "output_type": "execute_result"
    }
   ],
   "source": [
    "list(range(10))"
   ]
  },
  {
   "cell_type": "code",
   "execution_count": 13,
   "metadata": {},
   "outputs": [
    {
     "data": {
      "text/plain": [
       "range(5, 15)"
      ]
     },
     "execution_count": 13,
     "metadata": {},
     "output_type": "execute_result"
    }
   ],
   "source": [
    "range(5,15)  # generator przedziału liczb całkowitych od 5 do 14"
   ]
  },
  {
   "cell_type": "code",
   "execution_count": 14,
   "metadata": {},
   "outputs": [
    {
     "data": {
      "text/plain": [
       "[5, 6, 7, 8, 9, 10, 11, 12, 13, 14]"
      ]
     },
     "execution_count": 14,
     "metadata": {},
     "output_type": "execute_result"
    }
   ],
   "source": [
    "list(range(5,15)) "
   ]
  },
  {
   "cell_type": "code",
   "execution_count": 15,
   "metadata": {},
   "outputs": [
    {
     "data": {
      "text/plain": [
       "range(5, 20, 2)"
      ]
     },
     "execution_count": 15,
     "metadata": {},
     "output_type": "execute_result"
    }
   ],
   "source": [
    "range(5, 20, 2) # generator przedziału  liczb całkowitych od 5 do 19 z krokiem 2"
   ]
  },
  {
   "cell_type": "code",
   "execution_count": 16,
   "metadata": {},
   "outputs": [
    {
     "data": {
      "text/plain": [
       "[5, 7, 9, 11, 13, 15, 17, 19]"
      ]
     },
     "execution_count": 16,
     "metadata": {},
     "output_type": "execute_result"
    }
   ],
   "source": [
    "list(range(5, 20, 2))"
   ]
  },
  {
   "cell_type": "code",
   "execution_count": 17,
   "metadata": {},
   "outputs": [
    {
     "name": "stdout",
     "output_type": "stream",
     "text": [
      "5 8 11 14 17 20 23 26 29 32 35 38 41 44 47 50 53 56 59 62 65 68 71 74 77 80 83 86 89 92 95 98 "
     ]
    }
   ],
   "source": [
    "for el in range(5,99,3):\n",
    "    print(el, end=' ')"
   ]
  },
  {
   "cell_type": "markdown",
   "metadata": {},
   "source": [
    "### Funkcja enumerate\n",
    "Równie przydatne jest słowo kluczowe `enumerate`, które dodaje do obiektu iterowanego pozycje elementów"
   ]
  },
  {
   "cell_type": "code",
   "execution_count": 18,
   "metadata": {},
   "outputs": [
    {
     "data": {
      "text/plain": [
       "<enumerate at 0x2698211cdc8>"
      ]
     },
     "execution_count": 18,
     "metadata": {},
     "output_type": "execute_result"
    }
   ],
   "source": [
    "enumerate(['a','b','c'])  # z listy ['a','b','c'] otrzymujemu liste postaci [(0,'a'), (1,'b'), (2,'c')]"
   ]
  },
  {
   "cell_type": "code",
   "execution_count": 19,
   "metadata": {},
   "outputs": [
    {
     "name": "stdout",
     "output_type": "stream",
     "text": [
      "0 a\n",
      "1 b\n",
      "2 c\n"
     ]
    }
   ],
   "source": [
    "abc = ['a','b','c']\n",
    "for index, element in enumerate(abc):\n",
    "    print(index, element)"
   ]
  },
  {
   "cell_type": "code",
   "execution_count": 20,
   "metadata": {},
   "outputs": [
    {
     "name": "stdout",
     "output_type": "stream",
     "text": [
      "1 1 3\n",
      "2 1 3\n",
      "3 1 3\n"
     ]
    }
   ],
   "source": [
    "# możliwe jest również coś takiego \n",
    "abc = [[1,1,3],[2,1,3],[3,1,3]]\n",
    "for x, y, z in abc:\n",
    "    print(x,y,z)"
   ]
  },
  {
   "cell_type": "markdown",
   "metadata": {},
   "source": [
    "### Przerywanie pętli lub pomijanie iteracji, słowa kluczowe `break`, `continue`"
   ]
  },
  {
   "cell_type": "code",
   "execution_count": 21,
   "metadata": {},
   "outputs": [
    {
     "name": "stdout",
     "output_type": "stream",
     "text": [
      "0 1 2 3 4 5 6 7 8 9 10 "
     ]
    }
   ],
   "source": [
    "# przerywanie pętli while\n",
    "i=0\n",
    "while True:\n",
    "    print(i, end=' ')\n",
    "    i+=1\n",
    "    if i>10:\n",
    "        break  #przerwanie"
   ]
  },
  {
   "cell_type": "code",
   "execution_count": 22,
   "metadata": {},
   "outputs": [
    {
     "name": "stdout",
     "output_type": "stream",
     "text": [
      "_ 1 2 _ 4 5 _ 7 8 _ 10 "
     ]
    }
   ],
   "source": [
    "# pomijanie iteracji w pętli while\n",
    "i=0\n",
    "while True:\n",
    "    if i % 3 == 0:\n",
    "        i+=1\n",
    "        print('_', end=' ')\n",
    "        continue # przejście do następnej iteracji\n",
    "    print(i, end=' ')\n",
    "    i+=1\n",
    "    if i>10:\n",
    "        break    # przerwanie"
   ]
  },
  {
   "cell_type": "code",
   "execution_count": 23,
   "metadata": {},
   "outputs": [
    {
     "name": "stdout",
     "output_type": "stream",
     "text": [
      "0 1 4 9 16 25 36 49 64 81 100 121 144 169 196 225 256 289 324 361 400 441 484 529 576 625 676 729 784 841 900 961 1024 1089 1156 1225 1296 1369 1444 1521 1600 1681 1764 1849 1936 2025 2116 2209 2304 2401 2500 2601 2704 2809 2916 3025 3136 3249 3364 3481 3600 3721 3844 3969 4096 "
     ]
    }
   ],
   "source": [
    "# przerwanie pętli for\n",
    "for i in range(100):\n",
    "    print(i*i, end=' ')\n",
    "    if i*i > 4000:\n",
    "        break    # przerwanie"
   ]
  },
  {
   "cell_type": "code",
   "execution_count": 24,
   "metadata": {},
   "outputs": [
    {
     "name": "stdout",
     "output_type": "stream",
     "text": [
      "0 1 4 9 16 25 _ _ _ _ _ _ _ _ _ _ _ _ _ _ _ _ _ _ _ 625 676 729 784 841 900 961 1024 1089 1156 1225 1296 1369 1444 1521 1600 1681 1764 1849 1936 2025 2116 2209 2304 2401 2500 2601 2704 2809 2916 3025 3136 3249 3364 3481 3600 3721 3844 3969 4096 "
     ]
    }
   ],
   "source": [
    "# pomijanie iteracji w pętli for\n",
    "for i in range(100):\n",
    "    if 5 < i < 25:\n",
    "        print('_', end=' ')\n",
    "        continue #przejście do następnej iteracji\n",
    "    print(i*i, end=' ')\n",
    "    if i*i > 4000:\n",
    "        break    #przerwanie"
   ]
  },
  {
   "cell_type": "markdown",
   "metadata": {},
   "source": [
    "## Odwzorowania listowe (list comprehension), czyli szybkie (wygodnie) tworzenie list.\n",
    "\n",
    "Klasyczne tworzenie listy."
   ]
  },
  {
   "cell_type": "code",
   "execution_count": 25,
   "metadata": {},
   "outputs": [
    {
     "name": "stdout",
     "output_type": "stream",
     "text": [
      "[1, 4, 9, 16, 25, 36, 49, 64, 81, 100]\n"
     ]
    }
   ],
   "source": [
    "tab = []  # utworzenie pustego obiektu typu list\n",
    "for i in range(1,11):  # liczby od 1 do 10\n",
    "    tab.append(i**2)   # lista zawierająca kwadraty liczb\n",
    "print(tab)"
   ]
  },
  {
   "cell_type": "markdown",
   "metadata": {},
   "source": [
    "Używając odwzorowań listowych możemy to samo zapisać krócej."
   ]
  },
  {
   "cell_type": "code",
   "execution_count": 26,
   "metadata": {},
   "outputs": [
    {
     "name": "stdout",
     "output_type": "stream",
     "text": [
      "[1, 4, 9, 16, 25, 36, 49, 64, 81, 100]\n"
     ]
    }
   ],
   "source": [
    "tab2 = [i**2 for i in range(1,11)]\n",
    "print(tab2)"
   ]
  },
  {
   "cell_type": "markdown",
   "metadata": {},
   "source": [
    "Obiektem po którym iterujemu może być dowolny obiekt iterowalny np. lista, zbiór, słownik itp. \n",
    "\n",
    "Możemy również generować w ten sposób listy wielowymiarowe."
   ]
  },
  {
   "cell_type": "code",
   "execution_count": 27,
   "metadata": {},
   "outputs": [
    {
     "name": "stdout",
     "output_type": "stream",
     "text": [
      "[[1, 'a'], [1, 'b'], [1, 'c'], [1, 'd'], [2, 'a'], [2, 'b'], [2, 'c'], [2, 'd'], [3, 'a'], [3, 'b'], [3, 'c'], [3, 'd'], [4, 'a'], [4, 'b'], [4, 'c'], [4, 'd']]\n"
     ]
    }
   ],
   "source": [
    "tab3 = [[i,j] for i in [1,2,3,4] for j in ['a','b','c','d']]\n",
    "print(tab3)"
   ]
  },
  {
   "cell_type": "code",
   "execution_count": 28,
   "metadata": {},
   "outputs": [
    {
     "name": "stdout",
     "output_type": "stream",
     "text": [
      "[1, 1, 1, 1, 2, 2, 2, 2, 3, 3, 3, 3, 4, 4, 4, 4]\n"
     ]
    }
   ],
   "source": [
    "tab4 = [i for i in [1,2,3,4] for j in ['a','b','c','d']]\n",
    "print(tab4)"
   ]
  },
  {
   "cell_type": "code",
   "execution_count": 29,
   "metadata": {},
   "outputs": [
    {
     "name": "stdout",
     "output_type": "stream",
     "text": [
      "[[1, 2, 3, 4], [1, 2, 3, 4], [1, 2, 3, 4], [1, 2, 3, 4]]\n"
     ]
    }
   ],
   "source": [
    "tab5 = [[i for i in [1,2,3,4]] for j in ['a','b','c','d']]\n",
    "print(tab5)"
   ]
  },
  {
   "cell_type": "markdown",
   "metadata": {},
   "source": [
    "W konstrukcji odwzorowań listowych możemy używać również instrukcji warunkowych."
   ]
  },
  {
   "cell_type": "code",
   "execution_count": 30,
   "metadata": {},
   "outputs": [
    {
     "name": "stdout",
     "output_type": "stream",
     "text": [
      "[1, 4, 9, 16, 25, 36, 49, 64, 81, 100]\n",
      "[9, 36, 81]\n"
     ]
    }
   ],
   "source": [
    "tab = [i**2 for i in range(1,11)]\n",
    "print(tab)\n",
    "\n",
    "tab2 = [x  for x in tab2 if x%3==0 ]  # tylko liczby podzielne przez 3 z listy tab\n",
    "print(tab2)"
   ]
  },
  {
   "cell_type": "code",
   "execution_count": 31,
   "metadata": {},
   "outputs": [
    {
     "name": "stdout",
     "output_type": "stream",
     "text": [
      "[0, 0, 9, 0, 0, 36, 0, 0, 81, 0]\n"
     ]
    }
   ],
   "source": [
    "tab3 = [x if x%3==0 else 0 for x in tab]  #liczby podzielne przez 3 zostaw bez zmian a pozostałe zastąp zerem\n",
    "print(tab3)"
   ]
  },
  {
   "cell_type": "markdown",
   "metadata": {},
   "source": [
    "## Definiowanie funkcji: Instrukcja `def`\n",
    "#### Składnia.\n",
    "- Struktura składni ma postać:\n",
    "\n",
    "```python\n",
    "def nazwa(argumenty):\n",
    "\tblok_instrukcji\n",
    "    return wyrażenie\n",
    "```    \n",
    "- Do tworzenia funkcji służy instrukcja `def`. \n",
    "- Lista argumentów może być pusta lub składać się z dowolnej ilości argumentów oddzielonych przecinkami. \n",
    "- Zawartość bloku instrukcji ustalana jest na podstawie wcięć. \n",
    "- Instrukcja `return` nie jest obowiązkowa. W przypadku jej braku funkcja zwraca wartość `None` \n",
    "- Wywołanie funkcji odbywa się poprzez podanie jej nazwy z odpowiednią liczbą argumentów.\n",
    "- Funkcja musi być zdefiniowana przed jej pierwszym użyciem."
   ]
  },
  {
   "cell_type": "code",
   "execution_count": 32,
   "metadata": {},
   "outputs": [
    {
     "name": "stdout",
     "output_type": "stream",
     "text": [
      "Hello\n",
      "Hello\n",
      "None\n"
     ]
    }
   ],
   "source": [
    "def przywitanie():   #definicja funkcji - bez argumentów\n",
    "    print('Hello')\n",
    "    \n",
    "przywitanie()   #wywołanie funkcji\n",
    "a = przywitanie()  #wywołanie z przypisaniem zwracanej wartości\n",
    "print(a)  #funkcja bez return zwaraca obiekt None"
   ]
  },
  {
   "cell_type": "code",
   "execution_count": 33,
   "metadata": {},
   "outputs": [
    {
     "name": "stdout",
     "output_type": "stream",
     "text": [
      "Hello Adam\n",
      "Hello Adam\n",
      "Hello Adam\n"
     ]
    }
   ],
   "source": [
    "def przywitanie_razy_n(n, imie):  #definicja funkcji z 2 argumentami\n",
    "    for i in range(n):\n",
    "        print('Hello', imie)\n",
    "    \n",
    "przywitanie_razy_n(3, 'Adam')   #wywołanie funkcji"
   ]
  },
  {
   "cell_type": "markdown",
   "metadata": {},
   "source": [
    "Funkcja może zwracać wartość, służy do tego instrukcja `return`. Może to być pojedyncza wartość lub wiele wartości w postaci krotki."
   ]
  },
  {
   "cell_type": "code",
   "execution_count": 34,
   "metadata": {},
   "outputs": [
    {
     "name": "stdout",
     "output_type": "stream",
     "text": [
      "2\n"
     ]
    }
   ],
   "source": [
    "def funkcja():  #definicja funkcji\n",
    "    return 2    # wartość zwracana przez funkcję\n",
    "\n",
    "a = funkcja()   # wywołanie funkcji - zwracana pojedyncza wartość\n",
    "print(a)"
   ]
  },
  {
   "cell_type": "code",
   "execution_count": 35,
   "metadata": {},
   "outputs": [
    {
     "name": "stdout",
     "output_type": "stream",
     "text": [
      "(1, 2, 3, 4)\n",
      "1 2 3 4\n"
     ]
    }
   ],
   "source": [
    "def funkcja2():       #definicja funkcji\n",
    "    return 1,2,3,4    #wartości zwracane przez funkcję\n",
    "\n",
    "a = funkcja2()        #wywołanie funkcji - zwracana krotka\n",
    "print(a)\n",
    "\n",
    "x,y,z,t = funkcja2()  #kolejne wywołanie funkcji - zwracana krotka z rozpakowaniem\n",
    "print(x,y,z,t)"
   ]
  },
  {
   "cell_type": "code",
   "execution_count": 36,
   "metadata": {},
   "outputs": [
    {
     "data": {
      "text/plain": [
       "(0, 2)"
      ]
     },
     "execution_count": 36,
     "metadata": {},
     "output_type": "execute_result"
    }
   ],
   "source": [
    "def reszta(a, b):   #definicja funkcji o nazwie reszta - dwa argumenty formalne a, b \n",
    "    q = a//b       #jeżeli a, b całkowite q również całkowite\n",
    "    r = a - q*b    #reszta z dzielenia\n",
    "    return (q,r)   #funkcja zwraca dwa argumenty wynik dzielenia i resztę (to samo robi wbudowana metoda divmod())\n",
    "\n",
    "a1 = 2\n",
    "b1 = 3\n",
    "reszta(a1, b1) #wywołanie funkcji z dwoma argumentami aktualnymi "
   ]
  },
  {
   "cell_type": "markdown",
   "metadata": {},
   "source": [
    "### Argumenty funkcji.\n",
    "Funkcje mogą przyjmować dowolną ilość argumentów, argumentem może być dowolny obiekt."
   ]
  },
  {
   "cell_type": "code",
   "execution_count": 37,
   "metadata": {},
   "outputs": [
    {
     "data": {
      "text/plain": [
       "3.7416573867739413"
      ]
     },
     "execution_count": 37,
     "metadata": {},
     "output_type": "execute_result"
    }
   ],
   "source": [
    "# p-norma (dla p = 2 norma euklidesowa)\n",
    "def pnorm(wektor, p):\n",
    "    suma = 0\n",
    "    for x in wektor:\n",
    "        suma+=x**p\n",
    "    norma = suma**(1.0/p)\n",
    "    return norma\n",
    "\n",
    "pnorm([1,2,3],2)"
   ]
  },
  {
   "cell_type": "markdown",
   "metadata": {},
   "source": [
    "Dla tak zdefiniowanej funkcji liczba i kolejność argumentów formalnych (definicja funkcji) i aktualnych (wywołanie) musi być identyczna."
   ]
  },
  {
   "cell_type": "code",
   "execution_count": 38,
   "metadata": {},
   "outputs": [
    {
     "ename": "TypeError",
     "evalue": "pnorm() missing 1 required positional argument: 'p'",
     "output_type": "error",
     "traceback": [
      "\u001b[1;31m---------------------------------------------------------------------------\u001b[0m",
      "\u001b[1;31mTypeError\u001b[0m                                 Traceback (most recent call last)",
      "\u001b[1;32m<ipython-input-38-e2274fc731aa>\u001b[0m in \u001b[0;36m<module>\u001b[1;34m\u001b[0m\n\u001b[1;32m----> 1\u001b[1;33m \u001b[0mpnorm\u001b[0m\u001b[1;33m(\u001b[0m\u001b[1;33m[\u001b[0m\u001b[1;36m1\u001b[0m\u001b[1;33m,\u001b[0m\u001b[1;36m2\u001b[0m\u001b[1;33m,\u001b[0m\u001b[1;36m3\u001b[0m\u001b[1;33m]\u001b[0m\u001b[1;33m)\u001b[0m\u001b[1;33m\u001b[0m\u001b[0m\n\u001b[0m",
      "\u001b[1;31mTypeError\u001b[0m: pnorm() missing 1 required positional argument: 'p'"
     ]
    }
   ],
   "source": [
    "pnorm([1,2,3])"
   ]
  },
  {
   "cell_type": "code",
   "execution_count": 39,
   "metadata": {},
   "outputs": [
    {
     "ename": "TypeError",
     "evalue": "pnorm() takes 2 positional arguments but 3 were given",
     "output_type": "error",
     "traceback": [
      "\u001b[1;31m---------------------------------------------------------------------------\u001b[0m",
      "\u001b[1;31mTypeError\u001b[0m                                 Traceback (most recent call last)",
      "\u001b[1;32m<ipython-input-39-2a3c9e3811e9>\u001b[0m in \u001b[0;36m<module>\u001b[1;34m\u001b[0m\n\u001b[1;32m----> 1\u001b[1;33m \u001b[0mpnorm\u001b[0m\u001b[1;33m(\u001b[0m\u001b[1;33m[\u001b[0m\u001b[1;36m1\u001b[0m\u001b[1;33m,\u001b[0m\u001b[1;36m2\u001b[0m\u001b[1;33m,\u001b[0m\u001b[1;36m3\u001b[0m\u001b[1;33m]\u001b[0m\u001b[1;33m,\u001b[0m \u001b[1;36m2\u001b[0m\u001b[1;33m,\u001b[0m \u001b[1;36m3\u001b[0m\u001b[1;33m)\u001b[0m\u001b[1;33m\u001b[0m\u001b[0m\n\u001b[0m",
      "\u001b[1;31mTypeError\u001b[0m: pnorm() takes 2 positional arguments but 3 were given"
     ]
    }
   ],
   "source": [
    "pnorm([1,2,3], 2, 3)"
   ]
  },
  {
   "cell_type": "markdown",
   "metadata": {},
   "source": [
    "Możliwe jest jednak coś takiego :) (ale tylko przy podaniu nazwy argumentu i jego wartości)."
   ]
  },
  {
   "cell_type": "code",
   "execution_count": 40,
   "metadata": {},
   "outputs": [
    {
     "data": {
      "text/plain": [
       "3.7416573867739413"
      ]
     },
     "execution_count": 40,
     "metadata": {},
     "output_type": "execute_result"
    }
   ],
   "source": [
    "pnorm(p=2, wektor=[1,2,3])"
   ]
  },
  {
   "cell_type": "markdown",
   "metadata": {},
   "source": [
    "### Argumenty domyślne funkcji.\n",
    "\n",
    "Można definiować tzw. argumenty domyślne, których jak nie podamy w wywołaniu to przyjmą ustawioną wartość domyślną."
   ]
  },
  {
   "cell_type": "code",
   "execution_count": 41,
   "metadata": {},
   "outputs": [
    {
     "name": "stdout",
     "output_type": "stream",
     "text": [
      "Wartość 2 normy wektora [1, 2, 3] wynosi 3.7416573867739413\n",
      "3.7416573867739413\n",
      "Wartość 3 normy wektora [1, 2, 3] wynosi 3.3019272488946263\n",
      "3.3019272488946263\n",
      "3.3019272488946263\n",
      "3.7416573867739413\n",
      "3.3019272488946263\n"
     ]
    }
   ],
   "source": [
    "# p-norma\n",
    "def pnorm(wektor, p=2, pp=True):\n",
    "    suma = 0\n",
    "    for x in wektor:\n",
    "        suma+=x**p\n",
    "    norma = suma**(1.0/p)\n",
    "    if pp:\n",
    "        print('Wartość {0} normy wektora {1} wynosi {2}'.format(p, wektor, norma))\n",
    "    return norma\n",
    "\n",
    "print(pnorm([1,2,3]))\n",
    "print(pnorm([1,2,3],3))\n",
    "print(pnorm([1,2,3],3,False))\n",
    "print(pnorm([1,2,3],pp=False))\n",
    "print(pnorm([1,2,3],p=3,pp=False))"
   ]
  },
  {
   "cell_type": "markdown",
   "metadata": {},
   "source": [
    "### Argumenty funkcji `*args`, `**kargs`.\n",
    "\n",
    "Ponieważ funkcje mogą przyjmować bardzo wiele argumentów, aby wyszystkich nie wypisywać w definicji funkcji używa się argumentów `*args` oraz `**kargs`. Argument `*args` to krotka, do której pakowane są argumenty podawane bezpośrednio (argumenty pozycyjne). Argument `**kargs` to słownik, do którego pakowane są argumenty podawane poprzez przypisanie wartosci do nazwy (argumenty hasłowe). Argumenty pozycyjne muszą być podane jako pierwsze."
   ]
  },
  {
   "cell_type": "code",
   "execution_count": 42,
   "metadata": {},
   "outputs": [
    {
     "name": "stdout",
     "output_type": "stream",
     "text": [
      "()\n",
      "{'z': 3, 'a': 'hello', 'b': (5, 6)}\n",
      "------------------------------------\n",
      "(3,)\n",
      "{'a': 'hello', 'b': (5, 6)}\n"
     ]
    }
   ],
   "source": [
    "def cos(*args, **kargs):\n",
    "    print(args)\n",
    "    print(kargs)\n",
    "    \n",
    "cos(z=3, a='hello', b=(5,6))\n",
    "print('------------------------------------')\n",
    "cos(3, a='hello', b=(5,6))"
   ]
  },
  {
   "cell_type": "code",
   "execution_count": 43,
   "metadata": {},
   "outputs": [
    {
     "name": "stdout",
     "output_type": "stream",
     "text": [
      "Wartość 3 normy wektora [1, 2, 3] wynosi 3.3019272488946263\n"
     ]
    },
    {
     "data": {
      "text/plain": [
       "3.3019272488946263"
      ]
     },
     "execution_count": 43,
     "metadata": {},
     "output_type": "execute_result"
    }
   ],
   "source": [
    "def pnorm2(*args, **kargs):\n",
    "    wektor = args[0]\n",
    "    p = args[1]\n",
    "    pp = kargs['pp']\n",
    "    suma = 0\n",
    "    for x in wektor:\n",
    "        suma+=x**p\n",
    "    norma = suma**(1.0/p)\n",
    "    if pp:\n",
    "        print('Wartość {0} normy wektora {1} wynosi {2}'.format(p, wektor, norma))\n",
    "    return norma\n",
    "\n",
    "pnorm2([1,2,3],3,pp=True)"
   ]
  },
  {
   "cell_type": "markdown",
   "metadata": {},
   "source": [
    "### Funkcje jako argumenty innych funkcji.\n",
    "\n",
    "Funkcje mogą być argumentami innych funkcji."
   ]
  },
  {
   "cell_type": "code",
   "execution_count": 44,
   "metadata": {},
   "outputs": [],
   "source": [
    "def suma(a, b):\n",
    "    return a+b\n",
    "\n",
    "def roznica(a, b):\n",
    "    return a-b\n",
    "\n",
    "def wykonaj(x, y, f):\n",
    "    return f(x, y)"
   ]
  },
  {
   "cell_type": "code",
   "execution_count": 45,
   "metadata": {},
   "outputs": [
    {
     "name": "stdout",
     "output_type": "stream",
     "text": [
      "suma = 5\n",
      "różnica = -1\n"
     ]
    }
   ],
   "source": [
    "print('suma =', wykonaj(2, 3, suma))\n",
    "print('różnica =', wykonaj(2, 3, roznica))"
   ]
  },
  {
   "cell_type": "markdown",
   "metadata": {},
   "source": [
    "### Funkcje rekurencyjne.\n",
    "Funkcja może odwoływać się do samej siebie. Python nakłada ograniczenie na liczbę rekurencyjnych wywołań funkcji. Limit zwraca funkcja `sys.getrecursionlimit()`."
   ]
  },
  {
   "cell_type": "code",
   "execution_count": 46,
   "metadata": {},
   "outputs": [],
   "source": [
    "def silnia(n):\n",
    "    if n<2:\n",
    "        return 1\n",
    "    return n*silnia(n-1)"
   ]
  },
  {
   "cell_type": "code",
   "execution_count": 47,
   "metadata": {},
   "outputs": [
    {
     "data": {
      "text/plain": [
       "24"
      ]
     },
     "execution_count": 47,
     "metadata": {},
     "output_type": "execute_result"
    }
   ],
   "source": [
    "silnia(4)"
   ]
  },
  {
   "cell_type": "code",
   "execution_count": 48,
   "metadata": {},
   "outputs": [
    {
     "data": {
      "text/plain": [
       "3000"
      ]
     },
     "execution_count": 48,
     "metadata": {},
     "output_type": "execute_result"
    }
   ],
   "source": [
    "import sys\n",
    "sys.getrecursionlimit()"
   ]
  },
  {
   "cell_type": "markdown",
   "metadata": {},
   "source": [
    "## Operator `lambda`.\n",
    "#### Składnia.\n",
    "Struktura składni ma postać:\n",
    "\n",
    "```python\n",
    "lambda argumenty : wyrażenie\t\n",
    "```    \n",
    "\n",
    "Tworzy funkcję anonimową w postaci wyrażenia. Zapis w jednej linii. Argumenty oddzielone przecinkami. Funkcja tak zdefiniowana zwraca obliczoną wartość `wyrażenie`."
   ]
  },
  {
   "cell_type": "code",
   "execution_count": 49,
   "metadata": {},
   "outputs": [
    {
     "name": "stdout",
     "output_type": "stream",
     "text": [
      "5\n",
      "-1\n"
     ]
    }
   ],
   "source": [
    "a = lambda x, y : x + y   #definicja funkcji \n",
    "\n",
    "print(a(2, 3))\n",
    "print(a(7, -8))"
   ]
  },
  {
   "cell_type": "markdown",
   "metadata": {},
   "source": [
    "Bardzo przydatne do tworzenia funkcji \"w locie\"."
   ]
  },
  {
   "cell_type": "code",
   "execution_count": 50,
   "metadata": {},
   "outputs": [],
   "source": [
    "def wykonaj(x, y, f):\n",
    "    return f(x, y)"
   ]
  },
  {
   "cell_type": "code",
   "execution_count": 51,
   "metadata": {},
   "outputs": [
    {
     "data": {
      "text/plain": [
       "2"
      ]
     },
     "execution_count": 51,
     "metadata": {},
     "output_type": "execute_result"
    }
   ],
   "source": [
    "wykonaj(1, 2, lambda x,y: x*y)"
   ]
  },
  {
   "cell_type": "code",
   "execution_count": 52,
   "metadata": {},
   "outputs": [
    {
     "data": {
      "text/plain": [
       "0.5"
      ]
     },
     "execution_count": 52,
     "metadata": {},
     "output_type": "execute_result"
    }
   ],
   "source": [
    "wykonaj(1, 2, lambda x,y: x/y)"
   ]
  }
 ],
 "metadata": {
  "kernelspec": {
   "display_name": "Python 3",
   "language": "python",
   "name": "python3"
  },
  "language_info": {
   "codemirror_mode": {
    "name": "ipython",
    "version": 3
   },
   "file_extension": ".py",
   "mimetype": "text/x-python",
   "name": "python",
   "nbconvert_exporter": "python",
   "pygments_lexer": "ipython3",
   "version": "3.7.0"
  }
 },
 "nbformat": 4,
 "nbformat_minor": 2
}
