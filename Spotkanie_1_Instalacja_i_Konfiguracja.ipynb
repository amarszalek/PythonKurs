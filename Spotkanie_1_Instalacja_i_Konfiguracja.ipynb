{
 "cells": [
  {
   "cell_type": "markdown",
   "metadata": {},
   "source": [
    "## Instalacja\n",
    "### System Windows\n",
    "Na zajęciach będziemy korzystać z Pythona w wersji 3.7 z dystrybucji Anaconda.\n",
    "\n",
    "- Do pobrania z: https://www.anaconda.com/download/\n",
    "\n",
    "Jest to dystrybucja Pythona co oznacza, że instalujemu interpreter jaki całą masę dodatkowych pakietów, listę pakietów można zleźć tu: http://docs.anaconda.com/anaconda/packages/pkg-docs/\n",
    "\n",
    "- Instalujemy z domyślnymi zaznaczeniami czyli klikamy Next, I agree, Next, itp. \n",
    "- Przy wyborze miejsca instalacji należy pamiętać, podana ścieżka nie może zawierać spacji.\n",
    "\n",
    "Po zainstalowaniu w aplikacjach pojawi się między innymi Anaconda Navigator, Anaconda Prompt.\n",
    "\n",
    "Podczas pierszych paru zajęć będziemy pracować z wykorzystaniem narzędzia Jupyter Notebook (również powinno się zainstalować wraz z całą Anacondą). Jest to interaktywna konsola Pythona (pracująca w oparciu o przeglądarkę) w postaci notebooka (ala notebook w Mathematice), czyli taki plik jak właśnie przeglądasz, więcej o Jupyter na http://jupyter.org/.\n",
    "\n",
    "Instrukcja instalacji pod Windows: http://docs.anaconda.com/anaconda/install/windows/\n",
    "\n",
    "### MacOS\n",
    "Instrukcja instalacji pod macOS: http://docs.anaconda.com/anaconda/install/mac-os/#macos-graphical-install\n",
    "\n",
    "### Linux (Ubuntu, LinuxMint)\n",
    "Instrukcja instalacji pod linux: http://docs.anaconda.com/anaconda/install/linux/\n",
    "\n",
    "## Tworzenie wirtualnego środowiska\n",
    "Pracując z Pythonem warto zamiast instalować wszystkie pakiety do jednego głównego \"Pythona\" utworzyć sobie kila mniejszych kopii, z których każada będzie zawierała pakiety potrzebne dla danego projektu.\n",
    "\n",
    "- Otwieramy terminal `Anaconda Prompt` (Windows) lub zwykły terminal (linux, macOS).\n",
    "- Tworzymy nowe środowisko o nazwie `pykurs` wpisując polecenie:\n",
    "```\n",
    "conda create -n pykurs\n",
    "```\n",
    "- Aby aktywować utworzone środowisko wpisujemy polecenie (Windows):\n",
    "```\n",
    "conda activate pykurs\n",
    "```\n",
    "- Aby aktywować utworzone środowisko wpisujemy polecenie (linux, macOS):\n",
    "```\n",
    "source activate pykurs\n",
    "```\n",
    "- Aby deaktywować środowisko (powrócić do głównego) wpisujemy polecenie (Windows):\n",
    "```\n",
    "conda deactivate\n",
    "```\n",
    "- Aby deaktywować środowisko (powrócić do głównego) wpisujemy polecenie (linux, macOS):\n",
    "```\n",
    "source deactivate\n",
    "```\n",
    "\n",
    "Tak stworzone środowisko będzie zawirało jedynie czystego Pythona wraz ze standardowymi bibliotekami. Na chwilę obecną doinstalujemy tylko kilka pakietów, w tym celu w terminalu należy wykonać następujące polecenie (należy wcześniej upewnić się czy mamy aktywowane środowisko `pykurs`):\n",
    "```\n",
    "conda install jupyter numpy scipy sympy matplotlib pandas\n",
    "```\n",
    "\n",
    "## Uruchamianie Jupyter Notebook\n",
    "- W terminalu po aktywowaniu środowiska `pykurs` należy przejść folderu, w którym będziecie chcieli przechowywać materiały z kursu:\n",
    "```\n",
    "cd sciezka\\do\\folderu\n",
    "```\n",
    "- Następnie urochomić aplikację Jupyter Notebook poleceniem:\n",
    "```\n",
    "jupyter notebook\n",
    "```\n",
    "co spowoduje uruchomienie aplikacji w domyślnej przeglądarce internetowej.\n",
    "- W aplikacji otwieramy nowy notatnik _New->Python 3_\n",
    "- W otwartym notatniku w komórkach wpisujemy to co poniżej, wykonujemy komórki (Shift+Enter) i jeśli odpowiedzi komórek sa jak poniżej to wszystko działa jak należy."
   ]
  },
  {
   "cell_type": "code",
   "execution_count": 1,
   "metadata": {},
   "outputs": [],
   "source": [
    "# to jest komentarz jedno linijkowy, interpreter pomija linie zaczynające się od '#'"
   ]
  },
  {
   "cell_type": "code",
   "execution_count": 2,
   "metadata": {},
   "outputs": [
    {
     "data": {
      "text/plain": [
       "\"\\nTo jest komentarz wielo linijkowy,\\ninterpreter pomija wszystko między pomiędzy trzema znakami cudzysłowia,\\no ile nie przypisaliśmy tego do jakiejś zmiennej.\\nAby wykonać komórkę w notebook'u trzeba ją zaznaczyć i wcisnąć Enter+Shift\\nPo wykonaniu komórki, można zauważyć że jest to traktowane jak wielo linijkowy\\nciąg znaków.\\n\""
      ]
     },
     "execution_count": 2,
     "metadata": {},
     "output_type": "execute_result"
    }
   ],
   "source": [
    "\"\"\"\n",
    "To jest komentarz wielo linijkowy,\n",
    "interpreter pomija wszystko między pomiędzy trzema znakami cudzysłowia,\n",
    "o ile nie przypisaliśmy tego do jakiejś zmiennej.\n",
    "Aby wykonać komórkę w notebook'u trzeba ją zaznaczyć i wcisnąć Enter+Shift\n",
    "Po wykonaniu komórki, można zauważyć że jest to traktowane jak wielo linijkowy\n",
    "ciąg znaków.\n",
    "\"\"\""
   ]
  },
  {
   "cell_type": "markdown",
   "metadata": {},
   "source": [
    "### Funkcja `print()` czyli wypisywanie na ekran "
   ]
  },
  {
   "cell_type": "code",
   "execution_count": 3,
   "metadata": {},
   "outputs": [
    {
     "name": "stdout",
     "output_type": "stream",
     "text": [
      "Hello\n"
     ]
    }
   ],
   "source": [
    "print('Hello')"
   ]
  },
  {
   "cell_type": "markdown",
   "metadata": {},
   "source": [
    "Funkcja `print()` przyjmuje dowolną liczbę argumentów, dowolnego typu (no nie dokońca dowolnego) i ma też parę opcji. "
   ]
  },
  {
   "cell_type": "code",
   "execution_count": 4,
   "metadata": {},
   "outputs": [
    {
     "name": "stdout",
     "output_type": "stream",
     "text": [
      "Hello 1 3 [1, 3] (2+4j)\n"
     ]
    }
   ],
   "source": [
    "print('Hello', 1, 3, [1, 3], 2+4j)"
   ]
  },
  {
   "cell_type": "code",
   "execution_count": 5,
   "metadata": {},
   "outputs": [
    {
     "name": "stdout",
     "output_type": "stream",
     "text": [
      "Hello;1;3;[1, 3];(2+4j):"
     ]
    }
   ],
   "source": [
    "print('Hello', 1, 3, [1,3], 2+4j, sep=';',end=':')"
   ]
  },
  {
   "cell_type": "code",
   "execution_count": 6,
   "metadata": {},
   "outputs": [],
   "source": [
    "#import pakietów\n",
    "import numpy as np\n",
    "import scipy as sp\n",
    "import sympy as sm\n",
    "import pandas as pd\n",
    "import matplotlib as mpl"
   ]
  },
  {
   "cell_type": "code",
   "execution_count": 7,
   "metadata": {},
   "outputs": [
    {
     "name": "stdout",
     "output_type": "stream",
     "text": [
      "1.15.4\n",
      "1.1.0\n",
      "1.3\n",
      "0.23.4\n",
      "3.0.1\n"
     ]
    }
   ],
   "source": [
    "print(np.__version__)\n",
    "print(sp.__version__)\n",
    "print(sm.__version__)\n",
    "print(pd.__version__)\n",
    "print(mpl.__version__)"
   ]
  },
  {
   "cell_type": "markdown",
   "metadata": {},
   "source": [
    "__Jeżeli coś nie działa to poroszę o kontakt mailem.__"
   ]
  }
 ],
 "metadata": {
  "anaconda-cloud": {},
  "kernelspec": {
   "display_name": "Python 3",
   "language": "python",
   "name": "python3"
  },
  "language_info": {
   "codemirror_mode": {
    "name": "ipython",
    "version": 3
   },
   "file_extension": ".py",
   "mimetype": "text/x-python",
   "name": "python",
   "nbconvert_exporter": "python",
   "pygments_lexer": "ipython3",
   "version": "3.7.0"
  }
 },
 "nbformat": 4,
 "nbformat_minor": 1
}
